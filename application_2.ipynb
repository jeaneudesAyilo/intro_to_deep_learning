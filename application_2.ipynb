{
 "cells": [
  {
   "cell_type": "markdown",
   "metadata": {},
   "source": [
    "https://www.kaggle.com/aaron7sun/stocknews"
   ]
  },
  {
   "cell_type": "markdown",
   "metadata": {},
   "source": [
    "## <font color='darkblue'>Première section</font>\n",
    "Dans cette section nous aurons à présenter les données en notre disposition, nous aurons également à nétoyer la base (pre-processing), pour cela importe les packages nécessaire."
   ]
  },
  {
   "cell_type": "code",
   "execution_count": 1,
   "metadata": {},
   "outputs": [
    {
     "data": {
      "text/plain": [
       "'In this section we will have to present the data at our disposal, we will also have to clean the database \\n(pre-processing), for this purpose we will import the necessary packages.'"
      ]
     },
     "execution_count": 1,
     "metadata": {},
     "output_type": "execute_result"
    }
   ],
   "source": [
    "#First section\n",
    "'''In this section we will have to present the data at our disposal, we will also have to clean the database \n",
    "(pre-processing), for this purpose we will import the necessary packages.'''"
   ]
  },
  {
   "cell_type": "code",
   "execution_count": 2,
   "metadata": {},
   "outputs": [
    {
     "name": "stderr",
     "output_type": "stream",
     "text": [
      "[nltk_data] Downloading package punkt to\n",
      "[nltk_data]     C:\\Users\\jeane\\AppData\\Roaming\\nltk_data...\n",
      "[nltk_data]   Unzipping tokenizers\\punkt.zip.\n"
     ]
    }
   ],
   "source": [
    "import pandas as pd\n",
    "import numpy as np\n",
    "import re\n",
    "import string\n",
    "import nltk\n",
    "nltk.download(\"punkt\")\n",
    "from nltk.corpus import stopwords\n",
    "from nltk.tokenize import word_tokenize"
   ]
  },
  {
   "cell_type": "code",
   "execution_count": 3,
   "metadata": {},
   "outputs": [
    {
     "name": "stderr",
     "output_type": "stream",
     "text": [
      "[nltk_data] Downloading package stopwords to\n",
      "[nltk_data]     C:\\Users\\jeane\\AppData\\Roaming\\nltk_data...\n",
      "[nltk_data]   Unzipping corpora\\stopwords.zip.\n"
     ]
    },
    {
     "data": {
      "text/plain": [
       "True"
      ]
     },
     "execution_count": 3,
     "metadata": {},
     "output_type": "execute_result"
    }
   ],
   "source": [
    "nltk.download('stopwords')"
   ]
  },
  {
   "cell_type": "code",
   "execution_count": 4,
   "metadata": {},
   "outputs": [],
   "source": [
    "import matplotlib.pyplot as plt\n",
    "import seaborn as sns\n",
    "%matplotlib inline"
   ]
  },
  {
   "cell_type": "code",
   "execution_count": 5,
   "metadata": {},
   "outputs": [
    {
     "name": "stdout",
     "output_type": "stream",
     "text": [
      "Collecting wordcloud\n",
      "Note: you may need to restart the kernel to use updated packages.  Downloading wordcloud-1.8.0-cp38-cp38-win_amd64.whl (159 kB)\n",
      "\n",
      "Requirement already satisfied: matplotlib in c:\\users\\jeane\\anaconda3\\lib\\site-packages (from wordcloud) (3.2.2)\n",
      "Requirement already satisfied: pillow in c:\\users\\jeane\\anaconda3\\lib\\site-packages (from wordcloud) (7.2.0)\n",
      "Requirement already satisfied: numpy>=1.6.1 in c:\\users\\jeane\\anaconda3\\lib\\site-packages (from wordcloud) (1.18.5)\n",
      "Requirement already satisfied: cycler>=0.10 in c:\\users\\jeane\\anaconda3\\lib\\site-packages (from matplotlib->wordcloud) (0.10.0)\n",
      "Requirement already satisfied: pyparsing!=2.0.4,!=2.1.2,!=2.1.6,>=2.0.1 in c:\\users\\jeane\\anaconda3\\lib\\site-packages (from matplotlib->wordcloud) (2.4.7)\n",
      "Requirement already satisfied: python-dateutil>=2.1 in c:\\users\\jeane\\anaconda3\\lib\\site-packages (from matplotlib->wordcloud) (2.8.1)\n",
      "Requirement already satisfied: kiwisolver>=1.0.1 in c:\\users\\jeane\\anaconda3\\lib\\site-packages (from matplotlib->wordcloud) (1.2.0)\n",
      "Requirement already satisfied: six in c:\\users\\jeane\\anaconda3\\lib\\site-packages (from cycler>=0.10->matplotlib->wordcloud) (1.15.0)\n",
      "Installing collected packages: wordcloud\n",
      "Successfully installed wordcloud-1.8.0\n"
     ]
    }
   ],
   "source": [
    "pip install wordcloud "
   ]
  },
  {
   "cell_type": "code",
   "execution_count": 6,
   "metadata": {},
   "outputs": [],
   "source": [
    "from wordcloud import WordCloud"
   ]
  },
  {
   "cell_type": "code",
   "execution_count": 8,
   "metadata": {},
   "outputs": [],
   "source": [
    "## importer la base\n",
    "news_djia = pd.read_csv(\"D:/for_mooc_report/129_792900_compressed_Combined_News_DJIA/Combined_News_DJIA.csv\", header = 0 ,sep=\",\")"
   ]
  },
  {
   "cell_type": "markdown",
   "metadata": {},
   "source": [
    "## Description \n",
    "La base est constituée des tops 25 titres de journaux de la chaîne Reddit WorldNews Channel  selon les votes des utilisateurs de Reddit. Elle couvre la période du 08 août 2008 au 1er juillet 2016, cela fait 1989 observations (sachant que la bourse est ouvrable 5/7 jours). Il y a donc 27 colonnes, la première est celle de la date, la seconde indique si l'indice du Dow Jones Industrial Average (DJIA), a augmenté ou baisser à la fermeture par rapport au jour précédent. \n",
    "\n",
    "**Il s'agira principalement de pouvoir prédire si au vu des 25 titres l'indice boursier augmentera ou diminuera.**\n",
    "Pour cela \n",
    " - Notre échantillon de base va du 08/08/2008 to 31/12/2014 et l'échantillon test va du 01/01/2015 au 01/07/2016,    comme le recommande l'auteur de la base\n",
    " - La métrique d'évaluation est l'AUC de la courbe ROC\n",
    " - Nous utiliserons les réseaux RNN et quelques algorithmes du machine learning "
   ]
  },
  {
   "cell_type": "code",
   "execution_count": 8,
   "metadata": {},
   "outputs": [
    {
     "data": {
      "text/html": [
       "<div>\n",
       "<style scoped>\n",
       "    .dataframe tbody tr th:only-of-type {\n",
       "        vertical-align: middle;\n",
       "    }\n",
       "\n",
       "    .dataframe tbody tr th {\n",
       "        vertical-align: top;\n",
       "    }\n",
       "\n",
       "    .dataframe thead th {\n",
       "        text-align: right;\n",
       "    }\n",
       "</style>\n",
       "<table border=\"1\" class=\"dataframe\">\n",
       "  <thead>\n",
       "    <tr style=\"text-align: right;\">\n",
       "      <th></th>\n",
       "      <th>Date</th>\n",
       "      <th>Label</th>\n",
       "      <th>Top1</th>\n",
       "      <th>Top2</th>\n",
       "      <th>Top3</th>\n",
       "      <th>Top4</th>\n",
       "      <th>Top5</th>\n",
       "      <th>Top6</th>\n",
       "      <th>Top7</th>\n",
       "      <th>Top8</th>\n",
       "      <th>...</th>\n",
       "      <th>Top16</th>\n",
       "      <th>Top17</th>\n",
       "      <th>Top18</th>\n",
       "      <th>Top19</th>\n",
       "      <th>Top20</th>\n",
       "      <th>Top21</th>\n",
       "      <th>Top22</th>\n",
       "      <th>Top23</th>\n",
       "      <th>Top24</th>\n",
       "      <th>Top25</th>\n",
       "    </tr>\n",
       "  </thead>\n",
       "  <tbody>\n",
       "    <tr>\n",
       "      <th>0</th>\n",
       "      <td>2008-08-08</td>\n",
       "      <td>0</td>\n",
       "      <td>b\"Georgia 'downs two Russian warplanes' as cou...</td>\n",
       "      <td>b'BREAKING: Musharraf to be impeached.'</td>\n",
       "      <td>b'Russia Today: Columns of troops roll into So...</td>\n",
       "      <td>b'Russian tanks are moving towards the capital...</td>\n",
       "      <td>b\"Afghan children raped with 'impunity,' U.N. ...</td>\n",
       "      <td>b'150 Russian tanks have entered South Ossetia...</td>\n",
       "      <td>b\"Breaking: Georgia invades South Ossetia, Rus...</td>\n",
       "      <td>b\"The 'enemy combatent' trials are nothing but...</td>\n",
       "      <td>...</td>\n",
       "      <td>b'Georgia Invades South Ossetia - if Russia ge...</td>\n",
       "      <td>b'Al-Qaeda Faces Islamist Backlash'</td>\n",
       "      <td>b'Condoleezza Rice: \"The US would not act to p...</td>\n",
       "      <td>b'This is a busy day:  The European Union has ...</td>\n",
       "      <td>b\"Georgia will withdraw 1,000 soldiers from Ir...</td>\n",
       "      <td>b'Why the Pentagon Thinks Attacking Iran is a ...</td>\n",
       "      <td>b'Caucasus in crisis: Georgia invades South Os...</td>\n",
       "      <td>b'Indian shoe manufactory  - And again in a se...</td>\n",
       "      <td>b'Visitors Suffering from Mental Illnesses Ban...</td>\n",
       "      <td>b\"No Help for Mexico's Kidnapping Surge\"</td>\n",
       "    </tr>\n",
       "    <tr>\n",
       "      <th>1</th>\n",
       "      <td>2008-08-11</td>\n",
       "      <td>1</td>\n",
       "      <td>b'Why wont America and Nato help us? If they w...</td>\n",
       "      <td>b'Bush puts foot down on Georgian conflict'</td>\n",
       "      <td>b\"Jewish Georgian minister: Thanks to Israeli ...</td>\n",
       "      <td>b'Georgian army flees in disarray as Russians ...</td>\n",
       "      <td>b\"Olympic opening ceremony fireworks 'faked'\"</td>\n",
       "      <td>b'What were the Mossad with fraudulent New Zea...</td>\n",
       "      <td>b'Russia angered by Israeli military sale to G...</td>\n",
       "      <td>b'An American citizen living in S.Ossetia blam...</td>\n",
       "      <td>...</td>\n",
       "      <td>b'Israel and the US behind the Georgian aggres...</td>\n",
       "      <td>b'\"Do not believe TV, neither Russian nor Geor...</td>\n",
       "      <td>b'Riots are still going on in Montreal (Canada...</td>\n",
       "      <td>b'China to overtake US as largest manufacturer'</td>\n",
       "      <td>b'War in South Ossetia [PICS]'</td>\n",
       "      <td>b'Israeli Physicians Group Condemns State Tort...</td>\n",
       "      <td>b' Russia has just beaten the United States ov...</td>\n",
       "      <td>b'Perhaps *the* question about the Georgia - R...</td>\n",
       "      <td>b'Russia is so much better at war'</td>\n",
       "      <td>b\"So this is what it's come to: trading sex fo...</td>\n",
       "    </tr>\n",
       "    <tr>\n",
       "      <th>2</th>\n",
       "      <td>2008-08-12</td>\n",
       "      <td>0</td>\n",
       "      <td>b'Remember that adorable 9-year-old who sang a...</td>\n",
       "      <td>b\"Russia 'ends Georgia operation'\"</td>\n",
       "      <td>b'\"If we had no sexual harassment we would hav...</td>\n",
       "      <td>b\"Al-Qa'eda is losing support in Iraq because ...</td>\n",
       "      <td>b'Ceasefire in Georgia: Putin Outmaneuvers the...</td>\n",
       "      <td>b'Why Microsoft and Intel tried to kill the XO...</td>\n",
       "      <td>b'Stratfor: The Russo-Georgian War and the Bal...</td>\n",
       "      <td>b\"I'm Trying to Get a Sense of This Whole Geor...</td>\n",
       "      <td>...</td>\n",
       "      <td>b'U.S. troops still in Georgia (did you know t...</td>\n",
       "      <td>b'Why Russias response to Georgia was right'</td>\n",
       "      <td>b'Gorbachev accuses U.S. of making a \"serious ...</td>\n",
       "      <td>b'Russia, Georgia, and NATO: Cold War Two'</td>\n",
       "      <td>b'Remember that adorable 62-year-old who led y...</td>\n",
       "      <td>b'War in Georgia: The Israeli connection'</td>\n",
       "      <td>b'All signs point to the US encouraging Georgi...</td>\n",
       "      <td>b'Christopher King argues that the US and NATO...</td>\n",
       "      <td>b'America: The New Mexico?'</td>\n",
       "      <td>b\"BBC NEWS | Asia-Pacific | Extinction 'by man...</td>\n",
       "    </tr>\n",
       "    <tr>\n",
       "      <th>3</th>\n",
       "      <td>2008-08-13</td>\n",
       "      <td>0</td>\n",
       "      <td>b' U.S. refuses Israel weapons to attack Iran:...</td>\n",
       "      <td>b\"When the president ordered to attack Tskhinv...</td>\n",
       "      <td>b' Israel clears troops who killed Reuters cam...</td>\n",
       "      <td>b'Britain\\'s policy of being tough on drugs is...</td>\n",
       "      <td>b'Body of 14 year old found in trunk; Latest (...</td>\n",
       "      <td>b'China has moved 10 *million* quake survivors...</td>\n",
       "      <td>b\"Bush announces Operation Get All Up In Russi...</td>\n",
       "      <td>b'Russian forces sink Georgian ships '</td>\n",
       "      <td>...</td>\n",
       "      <td>b'Elephants extinct by 2020?'</td>\n",
       "      <td>b'US humanitarian missions soon in Georgia - i...</td>\n",
       "      <td>b\"Georgia's DDOS came from US sources\"</td>\n",
       "      <td>b'Russian convoy heads into Georgia, violating...</td>\n",
       "      <td>b'Israeli defence minister: US against strike ...</td>\n",
       "      <td>b'Gorbachev: We Had No Choice'</td>\n",
       "      <td>b'Witness: Russian forces head towards Tbilisi...</td>\n",
       "      <td>b' Quarter of Russians blame U.S. for conflict...</td>\n",
       "      <td>b'Georgian president  says US military will ta...</td>\n",
       "      <td>b'2006: Nobel laureate Aleksander Solzhenitsyn...</td>\n",
       "    </tr>\n",
       "    <tr>\n",
       "      <th>4</th>\n",
       "      <td>2008-08-14</td>\n",
       "      <td>1</td>\n",
       "      <td>b'All the experts admit that we should legalis...</td>\n",
       "      <td>b'War in South Osetia - 89 pictures made by a ...</td>\n",
       "      <td>b'Swedish wrestler Ara Abrahamian throws away ...</td>\n",
       "      <td>b'Russia exaggerated the death toll in South O...</td>\n",
       "      <td>b'Missile That Killed 9 Inside Pakistan May Ha...</td>\n",
       "      <td>b\"Rushdie Condemns Random House's Refusal to P...</td>\n",
       "      <td>b'Poland and US agree to missle defense deal. ...</td>\n",
       "      <td>b'Will the Russians conquer Tblisi? Bet on it,...</td>\n",
       "      <td>...</td>\n",
       "      <td>b'Bank analyst forecast Georgian crisis 2 days...</td>\n",
       "      <td>b\"Georgia confict could set back Russia's US r...</td>\n",
       "      <td>b'War in the Caucasus is as much the product o...</td>\n",
       "      <td>b'\"Non-media\" photos of South Ossetia/Georgia ...</td>\n",
       "      <td>b'Georgian TV reporter shot by Russian sniper ...</td>\n",
       "      <td>b'Saudi Arabia: Mother moves to block child ma...</td>\n",
       "      <td>b'Taliban wages war on humanitarian aid workers'</td>\n",
       "      <td>b'Russia: World  \"can forget about\" Georgia\\'s...</td>\n",
       "      <td>b'Darfur rebels accuse Sudan of mounting major...</td>\n",
       "      <td>b'Philippines : Peace Advocate say Muslims nee...</td>\n",
       "    </tr>\n",
       "  </tbody>\n",
       "</table>\n",
       "<p>5 rows × 27 columns</p>\n",
       "</div>"
      ],
      "text/plain": [
       "         Date  Label                                               Top1  \\\n",
       "0  2008-08-08      0  b\"Georgia 'downs two Russian warplanes' as cou...   \n",
       "1  2008-08-11      1  b'Why wont America and Nato help us? If they w...   \n",
       "2  2008-08-12      0  b'Remember that adorable 9-year-old who sang a...   \n",
       "3  2008-08-13      0  b' U.S. refuses Israel weapons to attack Iran:...   \n",
       "4  2008-08-14      1  b'All the experts admit that we should legalis...   \n",
       "\n",
       "                                                Top2  \\\n",
       "0            b'BREAKING: Musharraf to be impeached.'   \n",
       "1        b'Bush puts foot down on Georgian conflict'   \n",
       "2                 b\"Russia 'ends Georgia operation'\"   \n",
       "3  b\"When the president ordered to attack Tskhinv...   \n",
       "4  b'War in South Osetia - 89 pictures made by a ...   \n",
       "\n",
       "                                                Top3  \\\n",
       "0  b'Russia Today: Columns of troops roll into So...   \n",
       "1  b\"Jewish Georgian minister: Thanks to Israeli ...   \n",
       "2  b'\"If we had no sexual harassment we would hav...   \n",
       "3  b' Israel clears troops who killed Reuters cam...   \n",
       "4  b'Swedish wrestler Ara Abrahamian throws away ...   \n",
       "\n",
       "                                                Top4  \\\n",
       "0  b'Russian tanks are moving towards the capital...   \n",
       "1  b'Georgian army flees in disarray as Russians ...   \n",
       "2  b\"Al-Qa'eda is losing support in Iraq because ...   \n",
       "3  b'Britain\\'s policy of being tough on drugs is...   \n",
       "4  b'Russia exaggerated the death toll in South O...   \n",
       "\n",
       "                                                Top5  \\\n",
       "0  b\"Afghan children raped with 'impunity,' U.N. ...   \n",
       "1      b\"Olympic opening ceremony fireworks 'faked'\"   \n",
       "2  b'Ceasefire in Georgia: Putin Outmaneuvers the...   \n",
       "3  b'Body of 14 year old found in trunk; Latest (...   \n",
       "4  b'Missile That Killed 9 Inside Pakistan May Ha...   \n",
       "\n",
       "                                                Top6  \\\n",
       "0  b'150 Russian tanks have entered South Ossetia...   \n",
       "1  b'What were the Mossad with fraudulent New Zea...   \n",
       "2  b'Why Microsoft and Intel tried to kill the XO...   \n",
       "3  b'China has moved 10 *million* quake survivors...   \n",
       "4  b\"Rushdie Condemns Random House's Refusal to P...   \n",
       "\n",
       "                                                Top7  \\\n",
       "0  b\"Breaking: Georgia invades South Ossetia, Rus...   \n",
       "1  b'Russia angered by Israeli military sale to G...   \n",
       "2  b'Stratfor: The Russo-Georgian War and the Bal...   \n",
       "3  b\"Bush announces Operation Get All Up In Russi...   \n",
       "4  b'Poland and US agree to missle defense deal. ...   \n",
       "\n",
       "                                                Top8  ...  \\\n",
       "0  b\"The 'enemy combatent' trials are nothing but...  ...   \n",
       "1  b'An American citizen living in S.Ossetia blam...  ...   \n",
       "2  b\"I'm Trying to Get a Sense of This Whole Geor...  ...   \n",
       "3             b'Russian forces sink Georgian ships '  ...   \n",
       "4  b'Will the Russians conquer Tblisi? Bet on it,...  ...   \n",
       "\n",
       "                                               Top16  \\\n",
       "0  b'Georgia Invades South Ossetia - if Russia ge...   \n",
       "1  b'Israel and the US behind the Georgian aggres...   \n",
       "2  b'U.S. troops still in Georgia (did you know t...   \n",
       "3                      b'Elephants extinct by 2020?'   \n",
       "4  b'Bank analyst forecast Georgian crisis 2 days...   \n",
       "\n",
       "                                               Top17  \\\n",
       "0                b'Al-Qaeda Faces Islamist Backlash'   \n",
       "1  b'\"Do not believe TV, neither Russian nor Geor...   \n",
       "2       b'Why Russias response to Georgia was right'   \n",
       "3  b'US humanitarian missions soon in Georgia - i...   \n",
       "4  b\"Georgia confict could set back Russia's US r...   \n",
       "\n",
       "                                               Top18  \\\n",
       "0  b'Condoleezza Rice: \"The US would not act to p...   \n",
       "1  b'Riots are still going on in Montreal (Canada...   \n",
       "2  b'Gorbachev accuses U.S. of making a \"serious ...   \n",
       "3             b\"Georgia's DDOS came from US sources\"   \n",
       "4  b'War in the Caucasus is as much the product o...   \n",
       "\n",
       "                                               Top19  \\\n",
       "0  b'This is a busy day:  The European Union has ...   \n",
       "1    b'China to overtake US as largest manufacturer'   \n",
       "2         b'Russia, Georgia, and NATO: Cold War Two'   \n",
       "3  b'Russian convoy heads into Georgia, violating...   \n",
       "4  b'\"Non-media\" photos of South Ossetia/Georgia ...   \n",
       "\n",
       "                                               Top20  \\\n",
       "0  b\"Georgia will withdraw 1,000 soldiers from Ir...   \n",
       "1                     b'War in South Ossetia [PICS]'   \n",
       "2  b'Remember that adorable 62-year-old who led y...   \n",
       "3  b'Israeli defence minister: US against strike ...   \n",
       "4  b'Georgian TV reporter shot by Russian sniper ...   \n",
       "\n",
       "                                               Top21  \\\n",
       "0  b'Why the Pentagon Thinks Attacking Iran is a ...   \n",
       "1  b'Israeli Physicians Group Condemns State Tort...   \n",
       "2          b'War in Georgia: The Israeli connection'   \n",
       "3                     b'Gorbachev: We Had No Choice'   \n",
       "4  b'Saudi Arabia: Mother moves to block child ma...   \n",
       "\n",
       "                                               Top22  \\\n",
       "0  b'Caucasus in crisis: Georgia invades South Os...   \n",
       "1  b' Russia has just beaten the United States ov...   \n",
       "2  b'All signs point to the US encouraging Georgi...   \n",
       "3  b'Witness: Russian forces head towards Tbilisi...   \n",
       "4   b'Taliban wages war on humanitarian aid workers'   \n",
       "\n",
       "                                               Top23  \\\n",
       "0  b'Indian shoe manufactory  - And again in a se...   \n",
       "1  b'Perhaps *the* question about the Georgia - R...   \n",
       "2  b'Christopher King argues that the US and NATO...   \n",
       "3  b' Quarter of Russians blame U.S. for conflict...   \n",
       "4  b'Russia: World  \"can forget about\" Georgia\\'s...   \n",
       "\n",
       "                                               Top24  \\\n",
       "0  b'Visitors Suffering from Mental Illnesses Ban...   \n",
       "1                 b'Russia is so much better at war'   \n",
       "2                        b'America: The New Mexico?'   \n",
       "3  b'Georgian president  says US military will ta...   \n",
       "4  b'Darfur rebels accuse Sudan of mounting major...   \n",
       "\n",
       "                                               Top25  \n",
       "0           b\"No Help for Mexico's Kidnapping Surge\"  \n",
       "1  b\"So this is what it's come to: trading sex fo...  \n",
       "2  b\"BBC NEWS | Asia-Pacific | Extinction 'by man...  \n",
       "3  b'2006: Nobel laureate Aleksander Solzhenitsyn...  \n",
       "4  b'Philippines : Peace Advocate say Muslims nee...  \n",
       "\n",
       "[5 rows x 27 columns]"
      ]
     },
     "execution_count": 8,
     "metadata": {},
     "output_type": "execute_result"
    }
   ],
   "source": [
    "news_djia.head()"
   ]
  },
  {
   "cell_type": "code",
   "execution_count": 9,
   "metadata": {},
   "outputs": [
    {
     "data": {
      "text/html": [
       "<div>\n",
       "<style scoped>\n",
       "    .dataframe tbody tr th:only-of-type {\n",
       "        vertical-align: middle;\n",
       "    }\n",
       "\n",
       "    .dataframe tbody tr th {\n",
       "        vertical-align: top;\n",
       "    }\n",
       "\n",
       "    .dataframe thead th {\n",
       "        text-align: right;\n",
       "    }\n",
       "</style>\n",
       "<table border=\"1\" class=\"dataframe\">\n",
       "  <thead>\n",
       "    <tr style=\"text-align: right;\">\n",
       "      <th></th>\n",
       "      <th>Date</th>\n",
       "      <th>Label</th>\n",
       "      <th>Top1</th>\n",
       "      <th>Top2</th>\n",
       "      <th>Top3</th>\n",
       "      <th>Top4</th>\n",
       "      <th>Top5</th>\n",
       "      <th>Top6</th>\n",
       "      <th>Top7</th>\n",
       "      <th>Top8</th>\n",
       "      <th>...</th>\n",
       "      <th>Top16</th>\n",
       "      <th>Top17</th>\n",
       "      <th>Top18</th>\n",
       "      <th>Top19</th>\n",
       "      <th>Top20</th>\n",
       "      <th>Top21</th>\n",
       "      <th>Top22</th>\n",
       "      <th>Top23</th>\n",
       "      <th>Top24</th>\n",
       "      <th>Top25</th>\n",
       "    </tr>\n",
       "  </thead>\n",
       "  <tbody>\n",
       "    <tr>\n",
       "      <th>1987</th>\n",
       "      <td>2016-06-30</td>\n",
       "      <td>1</td>\n",
       "      <td>Jamaica proposes marijuana dispensers for tour...</td>\n",
       "      <td>Stephen Hawking says pollution and 'stupidity'...</td>\n",
       "      <td>Boris Johnson says he will not run for Tory pa...</td>\n",
       "      <td>Six gay men in Ivory Coast were abused and for...</td>\n",
       "      <td>Switzerland denies citizenship to Muslim immig...</td>\n",
       "      <td>Palestinian terrorist stabs israeli teen girl ...</td>\n",
       "      <td>Puerto Rico will default on $1 billion of debt...</td>\n",
       "      <td>Republic of Ireland fans to be awarded medal f...</td>\n",
       "      <td>...</td>\n",
       "      <td>Googles free wifi at Indian railway stations i...</td>\n",
       "      <td>Mounting evidence suggests 'hobbits' were wipe...</td>\n",
       "      <td>The men who carried out Tuesday's terror attac...</td>\n",
       "      <td>Calls to suspend Saudi Arabia from UN Human Ri...</td>\n",
       "      <td>More Than 100 Nobel Laureates Call Out Greenpe...</td>\n",
       "      <td>British pedophile sentenced to 85 years in US ...</td>\n",
       "      <td>US permitted 1,200 offshore fracks in Gulf of ...</td>\n",
       "      <td>We will be swimming in ridicule - French beach...</td>\n",
       "      <td>UEFA says no minutes of silence for Istanbul v...</td>\n",
       "      <td>Law Enforcement Sources: Gun Used in Paris Ter...</td>\n",
       "    </tr>\n",
       "    <tr>\n",
       "      <th>1988</th>\n",
       "      <td>2016-07-01</td>\n",
       "      <td>1</td>\n",
       "      <td>A 117-year-old woman in Mexico City finally re...</td>\n",
       "      <td>IMF chief backs Athens as permanent Olympic host</td>\n",
       "      <td>The president of France says if Brexit won, so...</td>\n",
       "      <td>British Man Who Must Give Police 24 Hours' Not...</td>\n",
       "      <td>100+ Nobel laureates urge Greenpeace to stop o...</td>\n",
       "      <td>Brazil: Huge spike in number of police killing...</td>\n",
       "      <td>Austria's highest court annuls presidential el...</td>\n",
       "      <td>Facebook wins privacy case, can track any Belg...</td>\n",
       "      <td>...</td>\n",
       "      <td>The United States has placed Myanmar, Uzbekist...</td>\n",
       "      <td>S&amp;amp;P revises European Union credit rating t...</td>\n",
       "      <td>India gets $1 billion loan from World Bank for...</td>\n",
       "      <td>U.S. sailors detained by Iran spoke too much u...</td>\n",
       "      <td>Mass fish kill in Vietnam solved as Taiwan ste...</td>\n",
       "      <td>Philippines president Rodrigo Duterte urges pe...</td>\n",
       "      <td>Spain arrests three Pakistanis accused of prom...</td>\n",
       "      <td>Venezuela, where anger over food shortages is ...</td>\n",
       "      <td>A Hindu temple worker has been killed by three...</td>\n",
       "      <td>Ozone layer hole seems to be healing - US &amp;amp...</td>\n",
       "    </tr>\n",
       "  </tbody>\n",
       "</table>\n",
       "<p>2 rows × 27 columns</p>\n",
       "</div>"
      ],
      "text/plain": [
       "            Date  Label                                               Top1  \\\n",
       "1987  2016-06-30      1  Jamaica proposes marijuana dispensers for tour...   \n",
       "1988  2016-07-01      1  A 117-year-old woman in Mexico City finally re...   \n",
       "\n",
       "                                                   Top2  \\\n",
       "1987  Stephen Hawking says pollution and 'stupidity'...   \n",
       "1988   IMF chief backs Athens as permanent Olympic host   \n",
       "\n",
       "                                                   Top3  \\\n",
       "1987  Boris Johnson says he will not run for Tory pa...   \n",
       "1988  The president of France says if Brexit won, so...   \n",
       "\n",
       "                                                   Top4  \\\n",
       "1987  Six gay men in Ivory Coast were abused and for...   \n",
       "1988  British Man Who Must Give Police 24 Hours' Not...   \n",
       "\n",
       "                                                   Top5  \\\n",
       "1987  Switzerland denies citizenship to Muslim immig...   \n",
       "1988  100+ Nobel laureates urge Greenpeace to stop o...   \n",
       "\n",
       "                                                   Top6  \\\n",
       "1987  Palestinian terrorist stabs israeli teen girl ...   \n",
       "1988  Brazil: Huge spike in number of police killing...   \n",
       "\n",
       "                                                   Top7  \\\n",
       "1987  Puerto Rico will default on $1 billion of debt...   \n",
       "1988  Austria's highest court annuls presidential el...   \n",
       "\n",
       "                                                   Top8  ...  \\\n",
       "1987  Republic of Ireland fans to be awarded medal f...  ...   \n",
       "1988  Facebook wins privacy case, can track any Belg...  ...   \n",
       "\n",
       "                                                  Top16  \\\n",
       "1987  Googles free wifi at Indian railway stations i...   \n",
       "1988  The United States has placed Myanmar, Uzbekist...   \n",
       "\n",
       "                                                  Top17  \\\n",
       "1987  Mounting evidence suggests 'hobbits' were wipe...   \n",
       "1988  S&amp;P revises European Union credit rating t...   \n",
       "\n",
       "                                                  Top18  \\\n",
       "1987  The men who carried out Tuesday's terror attac...   \n",
       "1988  India gets $1 billion loan from World Bank for...   \n",
       "\n",
       "                                                  Top19  \\\n",
       "1987  Calls to suspend Saudi Arabia from UN Human Ri...   \n",
       "1988  U.S. sailors detained by Iran spoke too much u...   \n",
       "\n",
       "                                                  Top20  \\\n",
       "1987  More Than 100 Nobel Laureates Call Out Greenpe...   \n",
       "1988  Mass fish kill in Vietnam solved as Taiwan ste...   \n",
       "\n",
       "                                                  Top21  \\\n",
       "1987  British pedophile sentenced to 85 years in US ...   \n",
       "1988  Philippines president Rodrigo Duterte urges pe...   \n",
       "\n",
       "                                                  Top22  \\\n",
       "1987  US permitted 1,200 offshore fracks in Gulf of ...   \n",
       "1988  Spain arrests three Pakistanis accused of prom...   \n",
       "\n",
       "                                                  Top23  \\\n",
       "1987  We will be swimming in ridicule - French beach...   \n",
       "1988  Venezuela, where anger over food shortages is ...   \n",
       "\n",
       "                                                  Top24  \\\n",
       "1987  UEFA says no minutes of silence for Istanbul v...   \n",
       "1988  A Hindu temple worker has been killed by three...   \n",
       "\n",
       "                                                  Top25  \n",
       "1987  Law Enforcement Sources: Gun Used in Paris Ter...  \n",
       "1988  Ozone layer hole seems to be healing - US &amp...  \n",
       "\n",
       "[2 rows x 27 columns]"
      ]
     },
     "execution_count": 9,
     "metadata": {},
     "output_type": "execute_result"
    }
   ],
   "source": [
    "news_djia.tail(2)"
   ]
  },
  {
   "cell_type": "code",
   "execution_count": 10,
   "metadata": {},
   "outputs": [
    {
     "data": {
      "text/plain": [
       "1989"
      ]
     },
     "execution_count": 10,
     "metadata": {},
     "output_type": "execute_result"
    }
   ],
   "source": [
    "len(news_djia)"
   ]
  },
  {
   "cell_type": "code",
   "execution_count": 9,
   "metadata": {},
   "outputs": [],
   "source": [
    "##shift the columns Date and Label to make that the today label is aligned with the previous day news headlines\n",
    "news_djia['Label'] = news_djia.Label.shift(-1)\n",
    "news_djia['Date'] = news_djia['Date'].shift(-1)\n",
    "news_djia.drop(news_djia.index[len(news_djia)-1], inplace=True)"
   ]
  },
  {
   "cell_type": "code",
   "execution_count": 10,
   "metadata": {},
   "outputs": [
    {
     "data": {
      "text/html": [
       "<div>\n",
       "<style scoped>\n",
       "    .dataframe tbody tr th:only-of-type {\n",
       "        vertical-align: middle;\n",
       "    }\n",
       "\n",
       "    .dataframe tbody tr th {\n",
       "        vertical-align: top;\n",
       "    }\n",
       "\n",
       "    .dataframe thead th {\n",
       "        text-align: right;\n",
       "    }\n",
       "</style>\n",
       "<table border=\"1\" class=\"dataframe\">\n",
       "  <thead>\n",
       "    <tr style=\"text-align: right;\">\n",
       "      <th></th>\n",
       "      <th>Date</th>\n",
       "      <th>Label</th>\n",
       "      <th>Top1</th>\n",
       "      <th>Top2</th>\n",
       "      <th>Top3</th>\n",
       "      <th>Top4</th>\n",
       "      <th>Top5</th>\n",
       "      <th>Top6</th>\n",
       "      <th>Top7</th>\n",
       "      <th>Top8</th>\n",
       "      <th>...</th>\n",
       "      <th>Top16</th>\n",
       "      <th>Top17</th>\n",
       "      <th>Top18</th>\n",
       "      <th>Top19</th>\n",
       "      <th>Top20</th>\n",
       "      <th>Top21</th>\n",
       "      <th>Top22</th>\n",
       "      <th>Top23</th>\n",
       "      <th>Top24</th>\n",
       "      <th>Top25</th>\n",
       "    </tr>\n",
       "  </thead>\n",
       "  <tbody>\n",
       "    <tr>\n",
       "      <th>0</th>\n",
       "      <td>2008-08-11</td>\n",
       "      <td>1.0</td>\n",
       "      <td>b\"Georgia 'downs two Russian warplanes' as cou...</td>\n",
       "      <td>b'BREAKING: Musharraf to be impeached.'</td>\n",
       "      <td>b'Russia Today: Columns of troops roll into So...</td>\n",
       "      <td>b'Russian tanks are moving towards the capital...</td>\n",
       "      <td>b\"Afghan children raped with 'impunity,' U.N. ...</td>\n",
       "      <td>b'150 Russian tanks have entered South Ossetia...</td>\n",
       "      <td>b\"Breaking: Georgia invades South Ossetia, Rus...</td>\n",
       "      <td>b\"The 'enemy combatent' trials are nothing but...</td>\n",
       "      <td>...</td>\n",
       "      <td>b'Georgia Invades South Ossetia - if Russia ge...</td>\n",
       "      <td>b'Al-Qaeda Faces Islamist Backlash'</td>\n",
       "      <td>b'Condoleezza Rice: \"The US would not act to p...</td>\n",
       "      <td>b'This is a busy day:  The European Union has ...</td>\n",
       "      <td>b\"Georgia will withdraw 1,000 soldiers from Ir...</td>\n",
       "      <td>b'Why the Pentagon Thinks Attacking Iran is a ...</td>\n",
       "      <td>b'Caucasus in crisis: Georgia invades South Os...</td>\n",
       "      <td>b'Indian shoe manufactory  - And again in a se...</td>\n",
       "      <td>b'Visitors Suffering from Mental Illnesses Ban...</td>\n",
       "      <td>b\"No Help for Mexico's Kidnapping Surge\"</td>\n",
       "    </tr>\n",
       "    <tr>\n",
       "      <th>1</th>\n",
       "      <td>2008-08-12</td>\n",
       "      <td>0.0</td>\n",
       "      <td>b'Why wont America and Nato help us? If they w...</td>\n",
       "      <td>b'Bush puts foot down on Georgian conflict'</td>\n",
       "      <td>b\"Jewish Georgian minister: Thanks to Israeli ...</td>\n",
       "      <td>b'Georgian army flees in disarray as Russians ...</td>\n",
       "      <td>b\"Olympic opening ceremony fireworks 'faked'\"</td>\n",
       "      <td>b'What were the Mossad with fraudulent New Zea...</td>\n",
       "      <td>b'Russia angered by Israeli military sale to G...</td>\n",
       "      <td>b'An American citizen living in S.Ossetia blam...</td>\n",
       "      <td>...</td>\n",
       "      <td>b'Israel and the US behind the Georgian aggres...</td>\n",
       "      <td>b'\"Do not believe TV, neither Russian nor Geor...</td>\n",
       "      <td>b'Riots are still going on in Montreal (Canada...</td>\n",
       "      <td>b'China to overtake US as largest manufacturer'</td>\n",
       "      <td>b'War in South Ossetia [PICS]'</td>\n",
       "      <td>b'Israeli Physicians Group Condemns State Tort...</td>\n",
       "      <td>b' Russia has just beaten the United States ov...</td>\n",
       "      <td>b'Perhaps *the* question about the Georgia - R...</td>\n",
       "      <td>b'Russia is so much better at war'</td>\n",
       "      <td>b\"So this is what it's come to: trading sex fo...</td>\n",
       "    </tr>\n",
       "    <tr>\n",
       "      <th>2</th>\n",
       "      <td>2008-08-13</td>\n",
       "      <td>0.0</td>\n",
       "      <td>b'Remember that adorable 9-year-old who sang a...</td>\n",
       "      <td>b\"Russia 'ends Georgia operation'\"</td>\n",
       "      <td>b'\"If we had no sexual harassment we would hav...</td>\n",
       "      <td>b\"Al-Qa'eda is losing support in Iraq because ...</td>\n",
       "      <td>b'Ceasefire in Georgia: Putin Outmaneuvers the...</td>\n",
       "      <td>b'Why Microsoft and Intel tried to kill the XO...</td>\n",
       "      <td>b'Stratfor: The Russo-Georgian War and the Bal...</td>\n",
       "      <td>b\"I'm Trying to Get a Sense of This Whole Geor...</td>\n",
       "      <td>...</td>\n",
       "      <td>b'U.S. troops still in Georgia (did you know t...</td>\n",
       "      <td>b'Why Russias response to Georgia was right'</td>\n",
       "      <td>b'Gorbachev accuses U.S. of making a \"serious ...</td>\n",
       "      <td>b'Russia, Georgia, and NATO: Cold War Two'</td>\n",
       "      <td>b'Remember that adorable 62-year-old who led y...</td>\n",
       "      <td>b'War in Georgia: The Israeli connection'</td>\n",
       "      <td>b'All signs point to the US encouraging Georgi...</td>\n",
       "      <td>b'Christopher King argues that the US and NATO...</td>\n",
       "      <td>b'America: The New Mexico?'</td>\n",
       "      <td>b\"BBC NEWS | Asia-Pacific | Extinction 'by man...</td>\n",
       "    </tr>\n",
       "    <tr>\n",
       "      <th>3</th>\n",
       "      <td>2008-08-14</td>\n",
       "      <td>1.0</td>\n",
       "      <td>b' U.S. refuses Israel weapons to attack Iran:...</td>\n",
       "      <td>b\"When the president ordered to attack Tskhinv...</td>\n",
       "      <td>b' Israel clears troops who killed Reuters cam...</td>\n",
       "      <td>b'Britain\\'s policy of being tough on drugs is...</td>\n",
       "      <td>b'Body of 14 year old found in trunk; Latest (...</td>\n",
       "      <td>b'China has moved 10 *million* quake survivors...</td>\n",
       "      <td>b\"Bush announces Operation Get All Up In Russi...</td>\n",
       "      <td>b'Russian forces sink Georgian ships '</td>\n",
       "      <td>...</td>\n",
       "      <td>b'Elephants extinct by 2020?'</td>\n",
       "      <td>b'US humanitarian missions soon in Georgia - i...</td>\n",
       "      <td>b\"Georgia's DDOS came from US sources\"</td>\n",
       "      <td>b'Russian convoy heads into Georgia, violating...</td>\n",
       "      <td>b'Israeli defence minister: US against strike ...</td>\n",
       "      <td>b'Gorbachev: We Had No Choice'</td>\n",
       "      <td>b'Witness: Russian forces head towards Tbilisi...</td>\n",
       "      <td>b' Quarter of Russians blame U.S. for conflict...</td>\n",
       "      <td>b'Georgian president  says US military will ta...</td>\n",
       "      <td>b'2006: Nobel laureate Aleksander Solzhenitsyn...</td>\n",
       "    </tr>\n",
       "    <tr>\n",
       "      <th>4</th>\n",
       "      <td>2008-08-15</td>\n",
       "      <td>1.0</td>\n",
       "      <td>b'All the experts admit that we should legalis...</td>\n",
       "      <td>b'War in South Osetia - 89 pictures made by a ...</td>\n",
       "      <td>b'Swedish wrestler Ara Abrahamian throws away ...</td>\n",
       "      <td>b'Russia exaggerated the death toll in South O...</td>\n",
       "      <td>b'Missile That Killed 9 Inside Pakistan May Ha...</td>\n",
       "      <td>b\"Rushdie Condemns Random House's Refusal to P...</td>\n",
       "      <td>b'Poland and US agree to missle defense deal. ...</td>\n",
       "      <td>b'Will the Russians conquer Tblisi? Bet on it,...</td>\n",
       "      <td>...</td>\n",
       "      <td>b'Bank analyst forecast Georgian crisis 2 days...</td>\n",
       "      <td>b\"Georgia confict could set back Russia's US r...</td>\n",
       "      <td>b'War in the Caucasus is as much the product o...</td>\n",
       "      <td>b'\"Non-media\" photos of South Ossetia/Georgia ...</td>\n",
       "      <td>b'Georgian TV reporter shot by Russian sniper ...</td>\n",
       "      <td>b'Saudi Arabia: Mother moves to block child ma...</td>\n",
       "      <td>b'Taliban wages war on humanitarian aid workers'</td>\n",
       "      <td>b'Russia: World  \"can forget about\" Georgia\\'s...</td>\n",
       "      <td>b'Darfur rebels accuse Sudan of mounting major...</td>\n",
       "      <td>b'Philippines : Peace Advocate say Muslims nee...</td>\n",
       "    </tr>\n",
       "  </tbody>\n",
       "</table>\n",
       "<p>5 rows × 27 columns</p>\n",
       "</div>"
      ],
      "text/plain": [
       "         Date  Label                                               Top1  \\\n",
       "0  2008-08-11    1.0  b\"Georgia 'downs two Russian warplanes' as cou...   \n",
       "1  2008-08-12    0.0  b'Why wont America and Nato help us? If they w...   \n",
       "2  2008-08-13    0.0  b'Remember that adorable 9-year-old who sang a...   \n",
       "3  2008-08-14    1.0  b' U.S. refuses Israel weapons to attack Iran:...   \n",
       "4  2008-08-15    1.0  b'All the experts admit that we should legalis...   \n",
       "\n",
       "                                                Top2  \\\n",
       "0            b'BREAKING: Musharraf to be impeached.'   \n",
       "1        b'Bush puts foot down on Georgian conflict'   \n",
       "2                 b\"Russia 'ends Georgia operation'\"   \n",
       "3  b\"When the president ordered to attack Tskhinv...   \n",
       "4  b'War in South Osetia - 89 pictures made by a ...   \n",
       "\n",
       "                                                Top3  \\\n",
       "0  b'Russia Today: Columns of troops roll into So...   \n",
       "1  b\"Jewish Georgian minister: Thanks to Israeli ...   \n",
       "2  b'\"If we had no sexual harassment we would hav...   \n",
       "3  b' Israel clears troops who killed Reuters cam...   \n",
       "4  b'Swedish wrestler Ara Abrahamian throws away ...   \n",
       "\n",
       "                                                Top4  \\\n",
       "0  b'Russian tanks are moving towards the capital...   \n",
       "1  b'Georgian army flees in disarray as Russians ...   \n",
       "2  b\"Al-Qa'eda is losing support in Iraq because ...   \n",
       "3  b'Britain\\'s policy of being tough on drugs is...   \n",
       "4  b'Russia exaggerated the death toll in South O...   \n",
       "\n",
       "                                                Top5  \\\n",
       "0  b\"Afghan children raped with 'impunity,' U.N. ...   \n",
       "1      b\"Olympic opening ceremony fireworks 'faked'\"   \n",
       "2  b'Ceasefire in Georgia: Putin Outmaneuvers the...   \n",
       "3  b'Body of 14 year old found in trunk; Latest (...   \n",
       "4  b'Missile That Killed 9 Inside Pakistan May Ha...   \n",
       "\n",
       "                                                Top6  \\\n",
       "0  b'150 Russian tanks have entered South Ossetia...   \n",
       "1  b'What were the Mossad with fraudulent New Zea...   \n",
       "2  b'Why Microsoft and Intel tried to kill the XO...   \n",
       "3  b'China has moved 10 *million* quake survivors...   \n",
       "4  b\"Rushdie Condemns Random House's Refusal to P...   \n",
       "\n",
       "                                                Top7  \\\n",
       "0  b\"Breaking: Georgia invades South Ossetia, Rus...   \n",
       "1  b'Russia angered by Israeli military sale to G...   \n",
       "2  b'Stratfor: The Russo-Georgian War and the Bal...   \n",
       "3  b\"Bush announces Operation Get All Up In Russi...   \n",
       "4  b'Poland and US agree to missle defense deal. ...   \n",
       "\n",
       "                                                Top8  ...  \\\n",
       "0  b\"The 'enemy combatent' trials are nothing but...  ...   \n",
       "1  b'An American citizen living in S.Ossetia blam...  ...   \n",
       "2  b\"I'm Trying to Get a Sense of This Whole Geor...  ...   \n",
       "3             b'Russian forces sink Georgian ships '  ...   \n",
       "4  b'Will the Russians conquer Tblisi? Bet on it,...  ...   \n",
       "\n",
       "                                               Top16  \\\n",
       "0  b'Georgia Invades South Ossetia - if Russia ge...   \n",
       "1  b'Israel and the US behind the Georgian aggres...   \n",
       "2  b'U.S. troops still in Georgia (did you know t...   \n",
       "3                      b'Elephants extinct by 2020?'   \n",
       "4  b'Bank analyst forecast Georgian crisis 2 days...   \n",
       "\n",
       "                                               Top17  \\\n",
       "0                b'Al-Qaeda Faces Islamist Backlash'   \n",
       "1  b'\"Do not believe TV, neither Russian nor Geor...   \n",
       "2       b'Why Russias response to Georgia was right'   \n",
       "3  b'US humanitarian missions soon in Georgia - i...   \n",
       "4  b\"Georgia confict could set back Russia's US r...   \n",
       "\n",
       "                                               Top18  \\\n",
       "0  b'Condoleezza Rice: \"The US would not act to p...   \n",
       "1  b'Riots are still going on in Montreal (Canada...   \n",
       "2  b'Gorbachev accuses U.S. of making a \"serious ...   \n",
       "3             b\"Georgia's DDOS came from US sources\"   \n",
       "4  b'War in the Caucasus is as much the product o...   \n",
       "\n",
       "                                               Top19  \\\n",
       "0  b'This is a busy day:  The European Union has ...   \n",
       "1    b'China to overtake US as largest manufacturer'   \n",
       "2         b'Russia, Georgia, and NATO: Cold War Two'   \n",
       "3  b'Russian convoy heads into Georgia, violating...   \n",
       "4  b'\"Non-media\" photos of South Ossetia/Georgia ...   \n",
       "\n",
       "                                               Top20  \\\n",
       "0  b\"Georgia will withdraw 1,000 soldiers from Ir...   \n",
       "1                     b'War in South Ossetia [PICS]'   \n",
       "2  b'Remember that adorable 62-year-old who led y...   \n",
       "3  b'Israeli defence minister: US against strike ...   \n",
       "4  b'Georgian TV reporter shot by Russian sniper ...   \n",
       "\n",
       "                                               Top21  \\\n",
       "0  b'Why the Pentagon Thinks Attacking Iran is a ...   \n",
       "1  b'Israeli Physicians Group Condemns State Tort...   \n",
       "2          b'War in Georgia: The Israeli connection'   \n",
       "3                     b'Gorbachev: We Had No Choice'   \n",
       "4  b'Saudi Arabia: Mother moves to block child ma...   \n",
       "\n",
       "                                               Top22  \\\n",
       "0  b'Caucasus in crisis: Georgia invades South Os...   \n",
       "1  b' Russia has just beaten the United States ov...   \n",
       "2  b'All signs point to the US encouraging Georgi...   \n",
       "3  b'Witness: Russian forces head towards Tbilisi...   \n",
       "4   b'Taliban wages war on humanitarian aid workers'   \n",
       "\n",
       "                                               Top23  \\\n",
       "0  b'Indian shoe manufactory  - And again in a se...   \n",
       "1  b'Perhaps *the* question about the Georgia - R...   \n",
       "2  b'Christopher King argues that the US and NATO...   \n",
       "3  b' Quarter of Russians blame U.S. for conflict...   \n",
       "4  b'Russia: World  \"can forget about\" Georgia\\'s...   \n",
       "\n",
       "                                               Top24  \\\n",
       "0  b'Visitors Suffering from Mental Illnesses Ban...   \n",
       "1                 b'Russia is so much better at war'   \n",
       "2                        b'America: The New Mexico?'   \n",
       "3  b'Georgian president  says US military will ta...   \n",
       "4  b'Darfur rebels accuse Sudan of mounting major...   \n",
       "\n",
       "                                               Top25  \n",
       "0           b\"No Help for Mexico's Kidnapping Surge\"  \n",
       "1  b\"So this is what it's come to: trading sex fo...  \n",
       "2  b\"BBC NEWS | Asia-Pacific | Extinction 'by man...  \n",
       "3  b'2006: Nobel laureate Aleksander Solzhenitsyn...  \n",
       "4  b'Philippines : Peace Advocate say Muslims nee...  \n",
       "\n",
       "[5 rows x 27 columns]"
      ]
     },
     "execution_count": 10,
     "metadata": {},
     "output_type": "execute_result"
    }
   ],
   "source": [
    "news_djia.head()"
   ]
  },
  {
   "cell_type": "code",
   "execution_count": 12,
   "metadata": {},
   "outputs": [
    {
     "data": {
      "text/plain": [
       "1988"
      ]
     },
     "execution_count": 12,
     "metadata": {},
     "output_type": "execute_result"
    }
   ],
   "source": [
    "len(news_djia)"
   ]
  },
  {
   "cell_type": "code",
   "execution_count": 13,
   "metadata": {},
   "outputs": [
    {
     "data": {
      "text/plain": [
       "\"b'Georgian troops retreat from S. Osettain capital, presumably leaving several hundred people killed. [VIDEO]'\""
      ]
     },
     "execution_count": 13,
     "metadata": {},
     "output_type": "execute_result"
    }
   ],
   "source": [
    "##8 ième titre le plus votés par les utilisateurs\n",
    "news_djia.iloc[0,10]"
   ]
  },
  {
   "cell_type": "code",
   "execution_count": 12,
   "metadata": {},
   "outputs": [],
   "source": [
    "## There is the character b\\' which returns several times, we are going to get rid of it in the whole database.\n",
    "news_djia = news_djia.replace('b\\\"|b\\'|\\\\\\\\|\\\\\\\"', '', regex=True)"
   ]
  },
  {
   "cell_type": "code",
   "execution_count": 13,
   "metadata": {},
   "outputs": [],
   "source": [
    "##convert the label column into integer, it have been changed to float during the shift\n",
    "news_djia[\"Label\"] = news_djia[\"Label\"].astype(int)"
   ]
  },
  {
   "cell_type": "code",
   "execution_count": 14,
   "metadata": {},
   "outputs": [
    {
     "data": {
      "text/html": [
       "<div>\n",
       "<style scoped>\n",
       "    .dataframe tbody tr th:only-of-type {\n",
       "        vertical-align: middle;\n",
       "    }\n",
       "\n",
       "    .dataframe tbody tr th {\n",
       "        vertical-align: top;\n",
       "    }\n",
       "\n",
       "    .dataframe thead th {\n",
       "        text-align: right;\n",
       "    }\n",
       "</style>\n",
       "<table border=\"1\" class=\"dataframe\">\n",
       "  <thead>\n",
       "    <tr style=\"text-align: right;\">\n",
       "      <th></th>\n",
       "      <th>Date</th>\n",
       "      <th>Label</th>\n",
       "      <th>Top1</th>\n",
       "      <th>Top2</th>\n",
       "      <th>Top3</th>\n",
       "      <th>Top4</th>\n",
       "      <th>Top5</th>\n",
       "      <th>Top6</th>\n",
       "      <th>Top7</th>\n",
       "      <th>Top8</th>\n",
       "      <th>...</th>\n",
       "      <th>Top16</th>\n",
       "      <th>Top17</th>\n",
       "      <th>Top18</th>\n",
       "      <th>Top19</th>\n",
       "      <th>Top20</th>\n",
       "      <th>Top21</th>\n",
       "      <th>Top22</th>\n",
       "      <th>Top23</th>\n",
       "      <th>Top24</th>\n",
       "      <th>Top25</th>\n",
       "    </tr>\n",
       "  </thead>\n",
       "  <tbody>\n",
       "    <tr>\n",
       "      <th>1983</th>\n",
       "      <td>2016-06-27</td>\n",
       "      <td>0</td>\n",
       "      <td>David Cameron to Resign as PM After EU Referendum</td>\n",
       "      <td>BBC forecasts UK votes to Leave the European U...</td>\n",
       "      <td>Nicola Sturgeon says a second independence ref...</td>\n",
       "      <td>It's official. Britain votes to leave the Euro...</td>\n",
       "      <td>World's Largest Tibetan Buddhist Institute Ord...</td>\n",
       "      <td>Not a single place in Scotland voted to leave ...</td>\n",
       "      <td>Rich Getting Richer at the Expense of the Poor...</td>\n",
       "      <td>Spanish minister calls for Gibraltar to be ret...</td>\n",
       "      <td>...</td>\n",
       "      <td>Sinn Fein calls for a referendum on Irish reun...</td>\n",
       "      <td>$70 billion wiped off the Australian sharemark...</td>\n",
       "      <td>Nigel Farage disowns Vote Leave '350m for the ...</td>\n",
       "      <td>Top EU leader: we want Britain out as soon as ...</td>\n",
       "      <td>Nigel Farage: 350 million pledge to fund the N...</td>\n",
       "      <td>Thousands of London banking job cuts to start ...</td>\n",
       "      <td>Google says there was a large spike in searche...</td>\n",
       "      <td>EU referendum; Gibraltar backs Remain with 94%...</td>\n",
       "      <td>After Brexit, U.K. Residents Google 'What Is T...</td>\n",
       "      <td>A Turkish man has been found guilty of insulti...</td>\n",
       "    </tr>\n",
       "    <tr>\n",
       "      <th>1984</th>\n",
       "      <td>2016-06-28</td>\n",
       "      <td>1</td>\n",
       "      <td>Barclays and RBS shares suspended from trading...</td>\n",
       "      <td>Pope says Church should ask forgiveness from g...</td>\n",
       "      <td>Poland 'shocked' by xenophobic abuse of Poles ...</td>\n",
       "      <td>There will be no second referendum, cabinet ag...</td>\n",
       "      <td>Scotland welcome to join EU, Merkel ally says</td>\n",
       "      <td>Sterling dips below Friday's 31-year low amid ...</td>\n",
       "      <td>No negative news about South African President...</td>\n",
       "      <td>Surge in Hate Crimes in the U.K. Following U.K...</td>\n",
       "      <td>...</td>\n",
       "      <td>German lawyers to probe Erdogan over alleged w...</td>\n",
       "      <td>Boris Johnson says the UK will continue to int...</td>\n",
       "      <td>Richard Branson is calling on the UK governmen...</td>\n",
       "      <td>Turkey 'sorry for downing Russian jet'</td>\n",
       "      <td>Edward Snowden lawyer vows new push for pardon...</td>\n",
       "      <td>Brexit opinion poll reveals majority don't wan...</td>\n",
       "      <td>Conservative MP Leave Campaigner: The leave ca...</td>\n",
       "      <td>Economists predict UK recession, further weake...</td>\n",
       "      <td>New EU 'superstate plan by France, Germany: Cr...</td>\n",
       "      <td>Pakistani clerics declare transgender marriage...</td>\n",
       "    </tr>\n",
       "    <tr>\n",
       "      <th>1985</th>\n",
       "      <td>2016-06-29</td>\n",
       "      <td>1</td>\n",
       "      <td>2,500 Scientists To Australia: If You Want To ...</td>\n",
       "      <td>The personal details of 112,000 French police ...</td>\n",
       "      <td>S&amp;amp;P cuts United Kingdom sovereign credit r...</td>\n",
       "      <td>Huge helium deposit found in Africa</td>\n",
       "      <td>CEO of the South African state broadcaster qui...</td>\n",
       "      <td>Brexit cost investors $2 trillion, the worst o...</td>\n",
       "      <td>Hong Kong democracy activists call for return ...</td>\n",
       "      <td>Brexit: Iceland president says UK can join 'tr...</td>\n",
       "      <td>...</td>\n",
       "      <td>US, Canada and Mexico pledge 50% of power from...</td>\n",
       "      <td>There is increasing evidence that Australia is...</td>\n",
       "      <td>Richard Branson, the founder of Virgin Group, ...</td>\n",
       "      <td>37,000-yr-old skull from Borneo reveals surpri...</td>\n",
       "      <td>Palestinians stone Western Wall worshipers; po...</td>\n",
       "      <td>Jean-Claude Juncker asks Farage: Why are you h...</td>\n",
       "      <td>Romanians for Remainians offering a new home t...</td>\n",
       "      <td>Brexit: Gibraltar in talks with Scotland to st...</td>\n",
       "      <td>8 Suicide Bombers Strike Lebanon</td>\n",
       "      <td>Mexico's security forces routinely use 'sexual...</td>\n",
       "    </tr>\n",
       "    <tr>\n",
       "      <th>1986</th>\n",
       "      <td>2016-06-30</td>\n",
       "      <td>1</td>\n",
       "      <td>Explosion At Airport In Istanbul</td>\n",
       "      <td>Yemeni former president: Terrorism is the offs...</td>\n",
       "      <td>UK must accept freedom of movement to access E...</td>\n",
       "      <td>Devastated: scientists too late to captive bre...</td>\n",
       "      <td>British Labor Party leader Jeremy Corbyn loses...</td>\n",
       "      <td>A Muslim Shop in the UK Was Just Firebombed Wh...</td>\n",
       "      <td>Mexican Authorities Sexually Torture Women in ...</td>\n",
       "      <td>UK shares and pound continue to recover</td>\n",
       "      <td>...</td>\n",
       "      <td>Escape Tunnel, Dug by Hand, Is Found at Holoca...</td>\n",
       "      <td>The land under Beijing is sinking by as much a...</td>\n",
       "      <td>Car bomb and Anti-Islamic attack on Mosque in ...</td>\n",
       "      <td>Emaciated lions in Taiz Zoo are trapped in blo...</td>\n",
       "      <td>Rupert Murdoch describes Brexit as 'wonderful'...</td>\n",
       "      <td>More than 40 killed in Yemen suicide attacks</td>\n",
       "      <td>Google Found Disastrous Symantec and Norton Vu...</td>\n",
       "      <td>Extremist violence on the rise in Germany: Dom...</td>\n",
       "      <td>BBC News: Labour MPs pass Corbyn no-confidence...</td>\n",
       "      <td>Tiny New Zealand town with 'too many jobs' lau...</td>\n",
       "    </tr>\n",
       "    <tr>\n",
       "      <th>1987</th>\n",
       "      <td>2016-07-01</td>\n",
       "      <td>1</td>\n",
       "      <td>Jamaica proposes marijuana dispensers for tour...</td>\n",
       "      <td>Stephen Hawking says pollution and 'stupidity'...</td>\n",
       "      <td>Boris Johnson says he will not run for Tory pa...</td>\n",
       "      <td>Six gay men in Ivory Coast were abused and for...</td>\n",
       "      <td>Switzerland denies citizenship to Muslim immig...</td>\n",
       "      <td>Palestinian terrorist stabs israeli teen girl ...</td>\n",
       "      <td>Puerto Rico will default on $1 billion of debt...</td>\n",
       "      <td>Republic of Ireland fans to be awarded medal f...</td>\n",
       "      <td>...</td>\n",
       "      <td>Googles free wifi at Indian railway stations i...</td>\n",
       "      <td>Mounting evidence suggests 'hobbits' were wipe...</td>\n",
       "      <td>The men who carried out Tuesday's terror attac...</td>\n",
       "      <td>Calls to suspend Saudi Arabia from UN Human Ri...</td>\n",
       "      <td>More Than 100 Nobel Laureates Call Out Greenpe...</td>\n",
       "      <td>British pedophile sentenced to 85 years in US ...</td>\n",
       "      <td>US permitted 1,200 offshore fracks in Gulf of ...</td>\n",
       "      <td>We will be swimming in ridicule - French beach...</td>\n",
       "      <td>UEFA says no minutes of silence for Istanbul v...</td>\n",
       "      <td>Law Enforcement Sources: Gun Used in Paris Ter...</td>\n",
       "    </tr>\n",
       "  </tbody>\n",
       "</table>\n",
       "<p>5 rows × 27 columns</p>\n",
       "</div>"
      ],
      "text/plain": [
       "            Date  Label                                               Top1  \\\n",
       "1983  2016-06-27      0  David Cameron to Resign as PM After EU Referendum   \n",
       "1984  2016-06-28      1  Barclays and RBS shares suspended from trading...   \n",
       "1985  2016-06-29      1  2,500 Scientists To Australia: If You Want To ...   \n",
       "1986  2016-06-30      1                   Explosion At Airport In Istanbul   \n",
       "1987  2016-07-01      1  Jamaica proposes marijuana dispensers for tour...   \n",
       "\n",
       "                                                   Top2  \\\n",
       "1983  BBC forecasts UK votes to Leave the European U...   \n",
       "1984  Pope says Church should ask forgiveness from g...   \n",
       "1985  The personal details of 112,000 French police ...   \n",
       "1986  Yemeni former president: Terrorism is the offs...   \n",
       "1987  Stephen Hawking says pollution and 'stupidity'...   \n",
       "\n",
       "                                                   Top3  \\\n",
       "1983  Nicola Sturgeon says a second independence ref...   \n",
       "1984  Poland 'shocked' by xenophobic abuse of Poles ...   \n",
       "1985  S&amp;P cuts United Kingdom sovereign credit r...   \n",
       "1986  UK must accept freedom of movement to access E...   \n",
       "1987  Boris Johnson says he will not run for Tory pa...   \n",
       "\n",
       "                                                   Top4  \\\n",
       "1983  It's official. Britain votes to leave the Euro...   \n",
       "1984  There will be no second referendum, cabinet ag...   \n",
       "1985                Huge helium deposit found in Africa   \n",
       "1986  Devastated: scientists too late to captive bre...   \n",
       "1987  Six gay men in Ivory Coast were abused and for...   \n",
       "\n",
       "                                                   Top5  \\\n",
       "1983  World's Largest Tibetan Buddhist Institute Ord...   \n",
       "1984      Scotland welcome to join EU, Merkel ally says   \n",
       "1985  CEO of the South African state broadcaster qui...   \n",
       "1986  British Labor Party leader Jeremy Corbyn loses...   \n",
       "1987  Switzerland denies citizenship to Muslim immig...   \n",
       "\n",
       "                                                   Top6  \\\n",
       "1983  Not a single place in Scotland voted to leave ...   \n",
       "1984  Sterling dips below Friday's 31-year low amid ...   \n",
       "1985  Brexit cost investors $2 trillion, the worst o...   \n",
       "1986  A Muslim Shop in the UK Was Just Firebombed Wh...   \n",
       "1987  Palestinian terrorist stabs israeli teen girl ...   \n",
       "\n",
       "                                                   Top7  \\\n",
       "1983  Rich Getting Richer at the Expense of the Poor...   \n",
       "1984  No negative news about South African President...   \n",
       "1985  Hong Kong democracy activists call for return ...   \n",
       "1986  Mexican Authorities Sexually Torture Women in ...   \n",
       "1987  Puerto Rico will default on $1 billion of debt...   \n",
       "\n",
       "                                                   Top8  ...  \\\n",
       "1983  Spanish minister calls for Gibraltar to be ret...  ...   \n",
       "1984  Surge in Hate Crimes in the U.K. Following U.K...  ...   \n",
       "1985  Brexit: Iceland president says UK can join 'tr...  ...   \n",
       "1986            UK shares and pound continue to recover  ...   \n",
       "1987  Republic of Ireland fans to be awarded medal f...  ...   \n",
       "\n",
       "                                                  Top16  \\\n",
       "1983  Sinn Fein calls for a referendum on Irish reun...   \n",
       "1984  German lawyers to probe Erdogan over alleged w...   \n",
       "1985  US, Canada and Mexico pledge 50% of power from...   \n",
       "1986  Escape Tunnel, Dug by Hand, Is Found at Holoca...   \n",
       "1987  Googles free wifi at Indian railway stations i...   \n",
       "\n",
       "                                                  Top17  \\\n",
       "1983  $70 billion wiped off the Australian sharemark...   \n",
       "1984  Boris Johnson says the UK will continue to int...   \n",
       "1985  There is increasing evidence that Australia is...   \n",
       "1986  The land under Beijing is sinking by as much a...   \n",
       "1987  Mounting evidence suggests 'hobbits' were wipe...   \n",
       "\n",
       "                                                  Top18  \\\n",
       "1983  Nigel Farage disowns Vote Leave '350m for the ...   \n",
       "1984  Richard Branson is calling on the UK governmen...   \n",
       "1985  Richard Branson, the founder of Virgin Group, ...   \n",
       "1986  Car bomb and Anti-Islamic attack on Mosque in ...   \n",
       "1987  The men who carried out Tuesday's terror attac...   \n",
       "\n",
       "                                                  Top19  \\\n",
       "1983  Top EU leader: we want Britain out as soon as ...   \n",
       "1984             Turkey 'sorry for downing Russian jet'   \n",
       "1985  37,000-yr-old skull from Borneo reveals surpri...   \n",
       "1986  Emaciated lions in Taiz Zoo are trapped in blo...   \n",
       "1987  Calls to suspend Saudi Arabia from UN Human Ri...   \n",
       "\n",
       "                                                  Top20  \\\n",
       "1983  Nigel Farage: 350 million pledge to fund the N...   \n",
       "1984  Edward Snowden lawyer vows new push for pardon...   \n",
       "1985  Palestinians stone Western Wall worshipers; po...   \n",
       "1986  Rupert Murdoch describes Brexit as 'wonderful'...   \n",
       "1987  More Than 100 Nobel Laureates Call Out Greenpe...   \n",
       "\n",
       "                                                  Top21  \\\n",
       "1983  Thousands of London banking job cuts to start ...   \n",
       "1984  Brexit opinion poll reveals majority don't wan...   \n",
       "1985  Jean-Claude Juncker asks Farage: Why are you h...   \n",
       "1986       More than 40 killed in Yemen suicide attacks   \n",
       "1987  British pedophile sentenced to 85 years in US ...   \n",
       "\n",
       "                                                  Top22  \\\n",
       "1983  Google says there was a large spike in searche...   \n",
       "1984  Conservative MP Leave Campaigner: The leave ca...   \n",
       "1985  Romanians for Remainians offering a new home t...   \n",
       "1986  Google Found Disastrous Symantec and Norton Vu...   \n",
       "1987  US permitted 1,200 offshore fracks in Gulf of ...   \n",
       "\n",
       "                                                  Top23  \\\n",
       "1983  EU referendum; Gibraltar backs Remain with 94%...   \n",
       "1984  Economists predict UK recession, further weake...   \n",
       "1985  Brexit: Gibraltar in talks with Scotland to st...   \n",
       "1986  Extremist violence on the rise in Germany: Dom...   \n",
       "1987  We will be swimming in ridicule - French beach...   \n",
       "\n",
       "                                                  Top24  \\\n",
       "1983  After Brexit, U.K. Residents Google 'What Is T...   \n",
       "1984  New EU 'superstate plan by France, Germany: Cr...   \n",
       "1985                   8 Suicide Bombers Strike Lebanon   \n",
       "1986  BBC News: Labour MPs pass Corbyn no-confidence...   \n",
       "1987  UEFA says no minutes of silence for Istanbul v...   \n",
       "\n",
       "                                                  Top25  \n",
       "1983  A Turkish man has been found guilty of insulti...  \n",
       "1984  Pakistani clerics declare transgender marriage...  \n",
       "1985  Mexico's security forces routinely use 'sexual...  \n",
       "1986  Tiny New Zealand town with 'too many jobs' lau...  \n",
       "1987  Law Enforcement Sources: Gun Used in Paris Ter...  \n",
       "\n",
       "[5 rows x 27 columns]"
      ]
     },
     "execution_count": 14,
     "metadata": {},
     "output_type": "execute_result"
    }
   ],
   "source": [
    "#news_djia.head(3)\n",
    "news_djia.tail()"
   ]
  },
  {
   "cell_type": "code",
   "execution_count": 15,
   "metadata": {},
   "outputs": [],
   "source": [
    "##define a function to remove undesirable characters\n",
    "\n",
    "def clean_text(column_text):\n",
    "    \n",
    "    # voir des types de caractères comme [PICS] dans news_djia.iloc[895,27], [VIDEO] dans news_djia.iloc[2,27]\n",
    "    column_text = column_text.apply(lambda x: re.sub('\\[[^\\]]*\\]', '',x))\n",
    "\n",
    "    # enlever les parenthèses :voir news_djia.iloc[2,27] pour (video),des url comme CNN.com ou **.co.uk\n",
    "    column_text = column_text.apply(lambda x: re.sub('\\w*.co.uk*|BBC*|NEWS*|BBC News*|Reuters BBC News*|Reuters*|ABC News*|\\w*\\.com*|\\([^\\]]*\\)','', x))\n",
    "\n",
    "    #enlever les tirets en double ou triple voir news_djia.iloc[14,27] pour remarquer\n",
    "    column_text = column_text.apply(lambda x: re.sub('\\-',' ',x))\n",
    "\n",
    "    #enlever les pipes | pour remarquer \n",
    "    column_text = column_text.apply(lambda x: re.sub('\\|','',x))\n",
    "    \n",
    "    ##remplacer US ou U.S. ou U.S.A. par america,  voir dans le news_djia.iloc[2,27] pour remarquer\n",
    "    column_text = column_text.apply(lambda x: re.sub('US*|U\\.S\\.A\\.*|USA','america',x))\n",
    "    \n",
    "    ##remplacer UK ou U.K. par britain, voir news_djia.iloc[89,27] pour remarquer\n",
    "    column_text = column_text.apply(lambda x: re.sub('UK*|U\\.K\\.','britain',x))\n",
    "    \n",
    "    ##enlever les caractères \\n par britain, voir news_djia.iloc[966,27] pour remarquer\n",
    "    column_text = column_text.apply(lambda x: re.sub(r\"\\n\",'',x))\n",
    "    \n",
    "    ##enlever les URL\n",
    "    column_text = column_text.apply(lambda x: re.sub(r'(https|http)?:\\/\\/(\\w|\\.|\\/|\\?|\\=|\\&|\\%)*\\b','',x))\n",
    "    \n",
    "    ##remplacer UN ou U.N. par united nations, voir news_djia.iloc[89,27] pour remarquer\n",
    "    column_text = column_text.apply(lambda x: re.sub('UN*|U\\.N\\.','united nations',x))\n",
    "   \n",
    "    return column_text"
   ]
  },
  {
   "cell_type": "code",
   "execution_count": 17,
   "metadata": {},
   "outputs": [],
   "source": [
    "##convert to string , before appying the defined function\n",
    "for i in (news_djia.columns[2:27]):\n",
    "    news_djia[i] = news_djia[i].astype(str)"
   ]
  },
  {
   "cell_type": "code",
   "execution_count": 18,
   "metadata": {},
   "outputs": [],
   "source": [
    "for i in (news_djia.columns[2:27]):\n",
    "    news_djia[i] = clean_text(news_djia[i])"
   ]
  },
  {
   "cell_type": "markdown",
   "metadata": {},
   "source": [
    "Une fois les caractères indésirables nétoyés des titres, il faut ensuite rendre miniscule, former une liste de mot de chaque titre (tokenizer), enlever les signes de ponctuation et les caractères non alphabétiques, puis enfin enlever les stopwords"
   ]
  },
  {
   "cell_type": "code",
   "execution_count": 19,
   "metadata": {},
   "outputs": [],
   "source": [
    "##lowercase, form a word list of each title (tokenize), remove punctuation marks and non-alphabetic characters,\n",
    "##and finally remove stopwords\n",
    "\n",
    "def final_data(x):\n",
    "\n",
    "        tokens = word_tokenize(x)  ## tokenizer\n",
    "        tokens = [w.lower() for w in tokens] ## rendre miniscule\n",
    "        table = str.maketrans('', '', string.punctuation) ## enlever la ponctuation\n",
    "        stripped = [w.translate(table) for w in tokens]\n",
    "        words = [word for word in stripped if word.isalpha()] ##enlever les chiffres par exemples\n",
    "        words = [word for word in words if word not in stopwords.words('english')] ## enlever les stopwords anglais\n",
    "        text = \" \".join(words)\n",
    "        return text\n",
    "    \n",
    "def reclean_column(column_text):\n",
    "    column_text = column_text.apply(lambda x: final_data(x)) \n",
    "    return column_text"
   ]
  },
  {
   "cell_type": "code",
   "execution_count": 20,
   "metadata": {},
   "outputs": [],
   "source": [
    "##apply the function\n",
    "for i in (news_djia.columns[2:27]):\n",
    "    news_djia[i] = reclean_column(news_djia[i])"
   ]
  },
  {
   "cell_type": "markdown",
   "metadata": {},
   "source": [
    "$Note :$\n",
    "Dans la toute la suite nous allons rassembler, l'ensemble des 25 titres dans une seule et même colonne, cela permettra de nous concentrer sur une colonne spécifique : `combined_news`"
   ]
  },
  {
   "cell_type": "code",
   "execution_count": 21,
   "metadata": {},
   "outputs": [],
   "source": [
    "#gather the 25 news headlines in a single column\n",
    "news_djia['combined_news'] = None\n",
    "for i in range(len(news_djia)):\n",
    "    news_djia.iloc[i,27] = ' '.join(str(x) for x in news_djia.iloc[i,2:27]) ## la colonne combined_news est la 28ème"
   ]
  },
  {
   "cell_type": "code",
   "execution_count": 22,
   "metadata": {},
   "outputs": [
    {
     "data": {
      "text/plain": [
       "'remember adorable year old sang opening ceremonies fake russia ends georgia operation sexual harassment would children al qaeda losing support iraq brutal crackdown activities regards un islamic including women buying cucumbers ceasefire georgia putin outmaneuvers west microsoft intel tried kill xo laptop stratfor russo georgian war balance power trying get sense whole georgia russia war vote americap think georgia started think russia america military surprised timing swiftness russian military move south ossetia still trying sort happened america defense official said monday americas beats war drum iran dumps dollar gorbachev georgian military attacked south ossetian capital tskhinvali multiple rocket launchers designed devastate large areas cnn use footage tskhinvali ruins cover georgian report beginning war olympics opening violates ancient tradition truce conflict games ioc could respond taking games away russia pyramids large luxor stacked mega city pyramid tokyo bay top party cities world americas troops still georgia russias response georgia right gorbachev accuses americas making serious blunder pursuing interest caucasus region russia georgia nato cold war two remember adorable year old led country war based evidence fake war georgia israeli connection signs point america encouraging georgia invade south ossetia goddamnit bush christopher king argues america nato behind georgian invasion south ossetia misjudged russian resolve america new mexico asia pacific extinction man climate'"
      ]
     },
     "execution_count": 22,
     "metadata": {},
     "output_type": "execute_result"
    }
   ],
   "source": [
    "news_djia.iloc[2,27]"
   ]
  },
  {
   "cell_type": "code",
   "execution_count": 24,
   "metadata": {},
   "outputs": [
    {
     "data": {
      "text/plain": [
       "['2014-12-24',\n",
       " '2014-12-26',\n",
       " '2014-12-29',\n",
       " '2014-12-30',\n",
       " '2014-12-31',\n",
       " '2015-01-02']"
      ]
     },
     "execution_count": 24,
     "metadata": {},
     "output_type": "execute_result"
    }
   ],
   "source": [
    "news_djia.loc[1605:1610,'Date'].values.tolist() ## 1610 correspond à l'indice de la date 31/12/2014"
   ]
  },
  {
   "cell_type": "code",
   "execution_count": 26,
   "metadata": {},
   "outputs": [
    {
     "data": {
      "text/plain": [
       "1987    2016-07-01\n",
       "Name: Date, dtype: object"
      ]
     },
     "execution_count": 26,
     "metadata": {},
     "output_type": "execute_result"
    }
   ],
   "source": [
    "news_djia.loc[1987:1988,'Date']"
   ]
  },
  {
   "cell_type": "code",
   "execution_count": 23,
   "metadata": {},
   "outputs": [
    {
     "name": "stdout",
     "output_type": "stream",
     "text": [
      "1610\n",
      "378\n"
     ]
    }
   ],
   "source": [
    "##select all news headlines associated respectively with an increase in the DJIA index and a decrease\n",
    "X_djia_up =  news_djia[news_djia[\"Label\"]==1]['combined_news'].tolist() \n",
    "X_djia_down = news_djia[news_djia[\"Label\"]==0]['combined_news'].tolist() \n",
    "\n",
    "##form the train and test sets by selecting news headlines in the period 2008-08-08 to 2014-12-31, and 2015-01-01 to 2016-07-01\n",
    "###initialize\n",
    "X_train = pd.DataFrame()\n",
    "X_test = pd.DataFrame()\n",
    "\n",
    "X_train['combined_news'] = news_djia[news_djia['Date'] < '2015-01-01']['combined_news'] ## selectionner l'ensemble des titres de 08/08/2008 au 31/12/2014   \n",
    "X_test['combined_news'] = news_djia[news_djia['Date'] > '2014-12-31']['combined_news'] ## selectionner l'ensemble des titres de 01/01/2015 au 01/07/2016\n",
    "\n",
    "Y_train = np.reshape(np.array(news_djia[news_djia['Date'] < '2015-01-01']['Label'],dtype=\"float64\"), (len(X_train),1))\n",
    "Y_test =  np.reshape(np.array(news_djia[news_djia['Date'] > '2014-12-31']['Label'],dtype=\"float64\"), (len(X_test),1))\n",
    "\n",
    "##do the following when instead of pooling, we use each column\n",
    "'''\n",
    "for i in (news_djia.columns[2:27]):\n",
    "    X_train[i] = news_djia[news_djia['Date'] < '2015-01-01'][i]   \n",
    "    X_test[i] = news_djia[news_djia['Date'] > '2014-12-31'][i] \n",
    "'''\n",
    "print(len(X_train))\n",
    "print(len(X_test))"
   ]
  },
  {
   "cell_type": "code",
   "execution_count": 24,
   "metadata": {},
   "outputs": [],
   "source": [
    "## gather in into a single text all the texts contained in X_djia_up\n",
    "djia_up_list = []\n",
    "for sentence in X_djia_up:\n",
    "    e = sentence.split()\n",
    "    djia_up_list.append(e)\n",
    "djia_up_list = [j for sub in djia_up_list for j in sub]\n",
    "\n",
    "## gather in into a single text all the texts contained in X_djia_down\n",
    "djia_down_list = []\n",
    "for sentence in X_djia_down:\n",
    "    f = sentence.split()\n",
    "    djia_down_list.append(f)\n",
    "djia_down_list = [j for sub in djia_down_list for j in sub]"
   ]
  },
  {
   "cell_type": "code",
   "execution_count": 25,
   "metadata": {},
   "outputs": [
    {
     "data": {
      "text/plain": [
       "309209"
      ]
     },
     "execution_count": 25,
     "metadata": {},
     "output_type": "execute_result"
    }
   ],
   "source": [
    "len(djia_up_list)"
   ]
  },
  {
   "cell_type": "code",
   "execution_count": 26,
   "metadata": {
    "scrolled": false
   },
   "outputs": [
    {
     "data": {
      "image/png": "[encoded data removed]",
      "text/plain": [
       "<Figure size 432x288 with 1 Axes>"
      ]
     },
     "metadata": {},
     "output_type": "display_data"
    }
   ],
   "source": [
    "##bar plot of Label variable\n",
    "plt.style.use('ggplot')\n",
    "sns.countplot(x='Label', hue='Label', data=news_djia)\n",
    "plt.savefig(\"fall0_rise1.PNG\")"
   ]
  },
  {
   "cell_type": "code",
   "execution_count": 27,
   "metadata": {},
   "outputs": [
    {
     "name": "stdout",
     "output_type": "stream",
     "text": [
      "923\n",
      "1065\n"
     ]
    }
   ],
   "source": [
    "##classes size\n",
    "print(news_djia[\"Label\"].tolist().count(0))\n",
    "print(news_djia[\"Label\"].tolist().count(1))"
   ]
  },
  {
   "cell_type": "code",
   "execution_count": 33,
   "metadata": {},
   "outputs": [],
   "source": [
    "from collections import Counter"
   ]
  },
  {
   "cell_type": "code",
   "execution_count": 34,
   "metadata": {},
   "outputs": [],
   "source": [
    "##count number of each word in djia_up_list and in djia_down_list\n",
    "djia_up_counter = Counter(djia_up_list)\n",
    "djia_down_counter = Counter(djia_down_list)\n",
    "\n",
    "djia_up_top_30_words = pd.DataFrame(djia_up_counter.most_common(30), columns=['word', 'count'])\n",
    "djia_down_top_30_words = pd.DataFrame(djia_down_counter.most_common(30), columns=['word', 'count'])"
   ]
  },
  {
   "cell_type": "code",
   "execution_count": 35,
   "metadata": {},
   "outputs": [
    {
     "data": {
      "text/plain": [
       "(array([ 0,  1,  2,  3,  4,  5,  6,  7,  8,  9, 10, 11, 12, 13, 14, 15, 16,\n",
       "        17, 18, 19, 20, 21, 22, 23, 24, 25, 26, 27, 28, 29]),\n",
       " <a list of 30 Text major ticklabel objects>)"
      ]
     },
     "execution_count": 35,
     "metadata": {},
     "output_type": "execute_result"
    },
    {
     "data": {
      "image/png": "[encoded data removed]",
      "text/plain": [
       "<Figure size 720x432 with 1 Axes>"
      ]
     },
     "metadata": {},
     "output_type": "display_data"
    }
   ],
   "source": [
    "fig, ax = plt.subplots(figsize=(10, 6))\n",
    "sns.barplot(x='word', y='count', data=djia_up_top_30_words, ax=ax)\n",
    "plt.title('Top 30 words when DJIA goes up')\n",
    "plt.xticks(rotation='vertical')"
   ]
  },
  {
   "cell_type": "code",
   "execution_count": 36,
   "metadata": {},
   "outputs": [
    {
     "data": {
      "image/png": "[encoded data removed]",
      "text/plain": [
       "<Figure size 576x576 with 1 Axes>"
      ]
     },
     "metadata": {},
     "output_type": "display_data"
    },
    {
     "data": {
      "text/plain": [
       "<wordcloud.wordcloud.WordCloud at 0x1a0205993d0>"
      ]
     },
     "execution_count": 36,
     "metadata": {},
     "output_type": "execute_result"
    }
   ],
   "source": [
    "##word cloud of the when DJIA goes up/stable\n",
    "wordcloud1 = WordCloud(background_color='black', width=3000, height=2500).generate(' '.join(djia_up_top_30_words.word.tolist()))                     \n",
    "plt.figure(1,figsize=(8,8))\n",
    "plt.imshow(wordcloud1)\n",
    "plt.axis('off')\n",
    "plt.title(\"Top 30 words when DJIA goes up/stable \")\n",
    "plt.show()            \n",
    "wordcloud1.to_file(\"rise_stable_djia.png\")"
   ]
  },
  {
   "cell_type": "code",
   "execution_count": 37,
   "metadata": {},
   "outputs": [
    {
     "data": {
      "text/plain": [
       "(array([ 0,  1,  2,  3,  4,  5,  6,  7,  8,  9, 10, 11, 12, 13, 14, 15, 16,\n",
       "        17, 18, 19, 20, 21, 22, 23, 24, 25, 26, 27, 28, 29]),\n",
       " <a list of 30 Text major ticklabel objects>)"
      ]
     },
     "execution_count": 37,
     "metadata": {},
     "output_type": "execute_result"
    },
    {
     "data": {
      "image/png": "[encoded data removed]",
      "text/plain": [
       "<Figure size 720x432 with 1 Axes>"
      ]
     },
     "metadata": {},
     "output_type": "display_data"
    }
   ],
   "source": [
    "fig, ax = plt.subplots(figsize=(10, 6))\n",
    "sns.barplot(x='word', y='count', data=djia_down_top_30_words, ax=ax)\n",
    "plt.title('Top 30 words when DJIA goes down')\n",
    "plt.xticks(rotation='vertical')"
   ]
  },
  {
   "cell_type": "code",
   "execution_count": 38,
   "metadata": {},
   "outputs": [
    {
     "data": {
      "image/png": "[encoded data removed]",
      "text/plain": [
       "<Figure size 576x576 with 1 Axes>"
      ]
     },
     "metadata": {},
     "output_type": "display_data"
    },
    {
     "data": {
      "text/plain": [
       "<wordcloud.wordcloud.WordCloud at 0x1a020618fd0>"
      ]
     },
     "execution_count": 38,
     "metadata": {},
     "output_type": "execute_result"
    }
   ],
   "source": [
    "##word cloud of the when DJIA goes goes down\n",
    "wordcloud2 = WordCloud(background_color='white', width=3000, height=2500).generate(' '.join(djia_down_top_30_words.word.tolist()))                     \n",
    "plt.figure(1,figsize=(8,8))\n",
    "plt.imshow(wordcloud2)\n",
    "plt.axis('off')\n",
    "plt.title(\"Top 30 words when DJIA goes down\")\n",
    "plt.show()            \n",
    "wordcloud2.to_file(\"down_djia.png\")"
   ]
  },
  {
   "cell_type": "markdown",
   "metadata": {},
   "source": [
    "## <font color='darkblue'>Second section</font>"
   ]
  },
  {
   "cell_type": "code",
   "execution_count": null,
   "metadata": {},
   "outputs": [],
   "source": [
    "#Second section : developp the RNN model"
   ]
  },
  {
   "cell_type": "code",
   "execution_count": null,
   "metadata": {},
   "outputs": [],
   "source": [
    "##we need to install VC_redist.x64 on the computer"
   ]
  },
  {
   "cell_type": "code",
   "execution_count": null,
   "metadata": {},
   "outputs": [],
   "source": [
    "pip install tensorflow"
   ]
  },
  {
   "cell_type": "code",
   "execution_count": 40,
   "metadata": {},
   "outputs": [
    {
     "name": "stdout",
     "output_type": "stream",
     "text": [
      "Requirement already satisfied: keras in c:\\users\\jeane\\anaconda3\\lib\\site-packages (2.4.3)Note: you may need to restart the kernel to use updated packages.\n",
      "\n",
      "Requirement already satisfied: numpy>=1.9.1 in c:\\users\\jeane\\anaconda3\\lib\\site-packages (from keras) (1.18.5)\n",
      "Requirement already satisfied: h5py in c:\\users\\jeane\\anaconda3\\lib\\site-packages (from keras) (2.10.0)\n",
      "Requirement already satisfied: pyyaml in c:\\users\\jeane\\anaconda3\\lib\\site-packages (from keras) (5.3.1)\n",
      "Requirement already satisfied: scipy>=0.14 in c:\\users\\jeane\\anaconda3\\lib\\site-packages (from keras) (1.4.1)\n",
      "Requirement already satisfied: six in c:\\users\\jeane\\anaconda3\\lib\\site-packages (from h5py->keras) (1.15.0)\n"
     ]
    }
   ],
   "source": [
    "pip install keras"
   ]
  },
  {
   "cell_type": "code",
   "execution_count": 28,
   "metadata": {},
   "outputs": [
    {
     "ename": "ModuleNotFoundError",
     "evalue": "No module named 'tensorflow'",
     "output_type": "error",
     "traceback": [
      "\u001b[1;31m---------------------------------------------------------------------------\u001b[0m",
      "\u001b[1;31mModuleNotFoundError\u001b[0m                       Traceback (most recent call last)",
      "\u001b[1;32m<ipython-input-28-0b06f8748471>\u001b[0m in \u001b[0;36m<module>\u001b[1;34m\u001b[0m\n\u001b[1;32m----> 1\u001b[1;33m \u001b[1;32mimport\u001b[0m \u001b[0mtensorflow\u001b[0m \u001b[1;32mas\u001b[0m \u001b[0mtf\u001b[0m\u001b[1;33m\u001b[0m\u001b[1;33m\u001b[0m\u001b[0m\n\u001b[0m\u001b[0;32m      2\u001b[0m \u001b[1;32mimport\u001b[0m \u001b[0mkeras\u001b[0m\u001b[1;33m\u001b[0m\u001b[1;33m\u001b[0m\u001b[0m\n\u001b[0;32m      3\u001b[0m \u001b[1;32mfrom\u001b[0m \u001b[0mkeras\u001b[0m\u001b[1;33m.\u001b[0m\u001b[0mpreprocessing\u001b[0m\u001b[1;33m.\u001b[0m\u001b[0mtext\u001b[0m \u001b[1;32mimport\u001b[0m \u001b[0mTokenizer\u001b[0m\u001b[1;33m\u001b[0m\u001b[1;33m\u001b[0m\u001b[0m\n\u001b[0;32m      4\u001b[0m \u001b[1;32mfrom\u001b[0m \u001b[0mkeras\u001b[0m\u001b[1;33m.\u001b[0m\u001b[0mlayers\u001b[0m\u001b[1;33m.\u001b[0m\u001b[0membeddings\u001b[0m \u001b[1;32mimport\u001b[0m \u001b[0mEmbedding\u001b[0m\u001b[1;33m\u001b[0m\u001b[1;33m\u001b[0m\u001b[0m\n\u001b[0;32m      5\u001b[0m \u001b[1;32mfrom\u001b[0m \u001b[0mkeras\u001b[0m\u001b[1;33m.\u001b[0m\u001b[0mpreprocessing\u001b[0m\u001b[1;33m.\u001b[0m\u001b[0msequence\u001b[0m \u001b[1;32mimport\u001b[0m \u001b[0mpad_sequences\u001b[0m\u001b[1;33m\u001b[0m\u001b[1;33m\u001b[0m\u001b[0m\n",
      "\u001b[1;31mModuleNotFoundError\u001b[0m: No module named 'tensorflow'"
     ]
    }
   ],
   "source": [
    "import tensorflow as tf\n",
    "import keras \n",
    "from keras.preprocessing.text import Tokenizer\n",
    "from keras.layers.embeddings import Embedding\n",
    "from keras.preprocessing.sequence import pad_sequences\n",
    "from keras.models import Model\n",
    "from keras.layers import Activation, Bidirectional, Dense, Input, LSTM,GRU, Embedding, Dropout,Concatenate,Flatten\n",
    "from keras.layers.normalization import BatchNormalization\n",
    "from keras.preprocessing import sequence\n",
    "from keras.models import Sequential\n",
    "from keras.initializers import glorot_uniform\n",
    "from keras.optimizers import Adam\n",
    "from keras.layers.core import Flatten\n",
    "from keras.utils import to_categorical\n",
    "import keras.metrics\n",
    "from keras.layers.merge import Concatenate\n",
    "from sklearn.metrics import roc_curve"
   ]
  },
  {
   "cell_type": "code",
   "execution_count": 42,
   "metadata": {},
   "outputs": [],
   "source": [
    "##tokenize the entire text in the coulmn combined_news\n",
    "tokenizer_obj = Tokenizer()\n",
    "tokenizer_obj.fit_on_texts(news_djia['combined_news'].values)"
   ]
  },
  {
   "cell_type": "code",
   "execution_count": 43,
   "metadata": {},
   "outputs": [
    {
     "data": {
      "text/plain": [
       "1"
      ]
     },
     "execution_count": 43,
     "metadata": {},
     "output_type": "execute_result"
    }
   ],
   "source": [
    "len(X_train.columns)"
   ]
  },
  {
   "cell_type": "markdown",
   "metadata": {},
   "source": [
    "if we want to use each column, ratcher than pool them together"
   ]
  },
  {
   "cell_type": "code",
   "execution_count": 44,
   "metadata": {},
   "outputs": [],
   "source": [
    "''' if we want to use each column, ratcher than pool them together\n",
    "##transform the the columns of data frame into lists, in this code we have consider the case where the 25 columns\n",
    "## are used\n",
    "X_train_general_list = []\n",
    "X_test_general_list = []\n",
    "\n",
    "for i in range(len(X_train.columns)):\n",
    "    a = X_train.iloc[:,i].tolist()\n",
    "    X_train_general_list.append(a)\n",
    "\n",
    "    b = X_test.iloc[:,i].tolist()\n",
    "    X_test_general_list.append(b)    \n",
    "\n",
    "##vectorize  text corpus, by turning each text into a sequence of integers \n",
    "X_train_general_seq = []\n",
    "X_test_general_seq = []\n",
    "\n",
    "for i in range(len(X_train.columns)):\n",
    "    c = tokenizer_obj.texts_to_sequences(X_train_general_list[i])\n",
    "    X_train_general_seq.append(c)\n",
    "\n",
    "    d = tokenizer_obj.texts_to_sequences(X_test_general_list[i])\n",
    "    X_test_general_seq.append(d)    \n",
    "'''"
   ]
  },
  {
   "cell_type": "code",
   "execution_count": null,
   "metadata": {},
   "outputs": [],
   "source": [
    "#check the content of X_train_general_list\n",
    "X_train_general_list"
   ]
  },
  {
   "cell_type": "code",
   "execution_count": 45,
   "metadata": {},
   "outputs": [],
   "source": [
    "'''\n",
    "maxtrain =[]\n",
    "for i in range(len(X_train.columns)):\n",
    "    maxi_a = max([len(sent_vec) for sent_vec in X_train_general_seq[i]]),\n",
    "    maxtrain.append(maxi_a)         \n",
    "    \n",
    "maxtest =[]\n",
    "for i in range(len(X_test.columns)):\n",
    "    maxi_b = max([len(sent_vec) for sent_vec in X_test_general_seq[i]]),\n",
    "    maxtest.append(maxi_b)   \n",
    "\n",
    "maxLen = max(max(maxtrain),max(maxtest))\n",
    "'''"
   ]
  },
  {
   "cell_type": "code",
   "execution_count": 47,
   "metadata": {},
   "outputs": [],
   "source": [
    "'''\n",
    "X_train_general_pad=[]\n",
    "X_test_general_pad=[]\n",
    "\n",
    "for i in range(len(X_train.columns)):\n",
    "    e = pad_sequences(X_train_general_seq[i], maxlen=39, padding='post')\n",
    "    X_train_general_pad.append(e)\n",
    "    \n",
    "    f = pad_sequences(X_test_general_seq[i], maxlen=39, padding='post')\n",
    "    X_test_general_pad.append(f)\n",
    "\n",
    "print(X_test_general_pad[0].shape[1])\n",
    "'''"
   ]
  },
  {
   "cell_type": "markdown",
   "metadata": {},
   "source": [
    "use the gathered one"
   ]
  },
  {
   "cell_type": "code",
   "execution_count": 55,
   "metadata": {},
   "outputs": [],
   "source": [
    "##if we use the whole of the 25 news in a time\n",
    "##transform into list\n",
    "X_train_general_list = X_train['combined_news'].tolist()\n",
    "X_test_general_list = X_test['combined_news'].tolist()"
   ]
  },
  {
   "cell_type": "code",
   "execution_count": 56,
   "metadata": {},
   "outputs": [
    {
     "data": {
      "text/plain": [
       "456"
      ]
     },
     "execution_count": 56,
     "metadata": {},
     "output_type": "execute_result"
    }
   ],
   "source": [
    "#research among all the combined new headlines of each date the one which has the largest number of words, \n",
    "##this will serve to determine the dimension of the embedding layer\n",
    "max_length = max(max([len(s.split()) for s in X_train_general_list]),max([len(s.split()) for s in X_test_general_list]))\n",
    "max_length"
   ]
  },
  {
   "cell_type": "code",
   "execution_count": 57,
   "metadata": {},
   "outputs": [],
   "source": [
    "#define vocabulary size\n",
    "vocab_size = len(tokenizer_obj.word_index)+1"
   ]
  },
  {
   "cell_type": "code",
   "execution_count": 58,
   "metadata": {},
   "outputs": [],
   "source": [
    "## tokenize, and assign a number to each word.\n",
    "X_train_general_seq = tokenizer_obj.texts_to_sequences(X_train_general_list) \n",
    "X_test_general_seq= tokenizer_obj.texts_to_sequences(X_test_general_list)"
   ]
  },
  {
   "cell_type": "code",
   "execution_count": 59,
   "metadata": {},
   "outputs": [],
   "source": [
    "##since all sentences don't have the same length, we pad them until with 0 so tht all the sentences will be \n",
    "##as long as the sentence which has the largest number of words\n",
    "X_train_general_pad = pad_sequences(X_train_general_seq, maxlen=max_length, padding = 'post')\n",
    "X_test_general_pad = pad_sequences(X_test_general_seq, maxlen=max_length, padding = 'post')"
   ]
  },
  {
   "cell_type": "markdown",
   "metadata": {},
   "source": [
    "Pour traiter des données textuelles, nous avons du words embedding, c'est à dire une représentation vectorielle des mots dans espace multidimentionel. \n",
    "* On peut soit utiliser un dictionnaire de mots, où le travail du word embedding  à été déjà fait et on peut directement utiliser ce dictionnaire dans notre modèle, \n",
    "\n",
    "* ou soit on peut faire faire à notre modèle la vectorisation des mots (plongement lexical) en utilsant dans le cas des réseaux de neurone, une couche dédiée à cela (Embedding layer)\n",
    "\n",
    "Nous avons priviligié la première option, car elle permet de gagner du temps. Sur : https://www.kaggle.com/watts2/glove6b50dtxt nous avons téléchargé un dictionnaire de mot, chaque mot est représenter par un vecteur de 50 dimensions, qui sont ces caractéristiques, obtenues par l'algorithme de word embedding Glove. Il y 400000 mots anglais , dans le disctionnaire\n"
   ]
  },
  {
   "cell_type": "code",
   "execution_count": 48,
   "metadata": {},
   "outputs": [
    {
     "name": "stdout",
     "output_type": "stream",
     "text": [
      "Found 400000 word vectors.\n"
     ]
    }
   ],
   "source": [
    "##import a pretrained Glove for word embedding via https://www.kaggle.com/thanakomsn/glove6b300dtxt\n",
    "##and create the dictionary that will contain each word and its vector\n",
    "\n",
    "embeddings_index = {}\n",
    "f = open('D:/5504_8240_compressed_glove_6B_300d_txt/glove_6B_300d.txt',encoding = \"utf-8\")\n",
    "for line in f:\n",
    "    values = line.split()\n",
    "    word = values[0]\n",
    "    coefs = np.asarray(values[1:], dtype='float32')\n",
    "    embeddings_index[word] = coefs\n",
    "f.close()\n",
    "\n",
    "print('Found %s word vectors.' % len(embeddings_index))"
   ]
  },
  {
   "cell_type": "code",
   "execution_count": 49,
   "metadata": {},
   "outputs": [
    {
     "name": "stdout",
     "output_type": "stream",
     "text": [
      "Loaded 400000 word vectors.\n"
     ]
    }
   ],
   "source": [
    "not_present_list = [] ## create a empty list, it will keep the words which are in our vocabulary of the data and  not in the glove dictionnayr\n",
    "\n",
    "vocab_size = len(tokenizer_obj.word_index) + 1  # adding 1 to fit Keras embedding (requirement)\n",
    "\n",
    "print('Loaded %s word vectors.' % len(embeddings_index))\n",
    "\n",
    "embedding_matrix = np.zeros((vocab_size, len(embeddings_index['no']))) ## initialize the embeddind matrix of shape (2169,300) to 0\n",
    "\n",
    "for word, i in tokenizer_obj.word_index.items():    ## we browser whole of couples (word , index) that exist in the vocabulary of the data\n",
    "    if word in embeddings_index.keys(): ## if the word which is in our vocabulary is in glove dictionnary, take its embedding vector\n",
    "        embedding_vector = embeddings_index.get(word) \n",
    "    else:\n",
    "        not_present_list.append(word)   ##else, add the word to the not_present_list, its embedding vector is None for the moment \n",
    "    if embedding_vector is not None:    ## set the embedding vector of word in the embedding matrix\n",
    "        embedding_matrix[i] = embedding_vector\n",
    "    else:\n",
    "        embedding_matrix[i] = np.zeros(300) ## the embedding vector for unknown words, is 0\n"
   ]
  },
  {
   "cell_type": "code",
   "execution_count": 50,
   "metadata": {},
   "outputs": [
    {
     "data": {
      "text/plain": [
       "39"
      ]
     },
     "execution_count": 50,
     "metadata": {},
     "output_type": "execute_result"
    }
   ],
   "source": []
  },
  {
   "cell_type": "code",
   "execution_count": 74,
   "metadata": {},
   "outputs": [
    {
     "name": "stdout",
     "output_type": "stream",
     "text": [
      "Model: \"sequential_4\"\n",
      "_________________________________________________________________\n",
      "Layer (type)                 Output Shape              Param #   \n",
      "=================================================================\n",
      "embed_layer (Embedding)      (None, 456, 300)          10092000  \n",
      "_________________________________________________________________\n",
      "lstm_8 (LSTM)                (None, 456, 120)          202080    \n",
      "_________________________________________________________________\n",
      "batch_normalization_5 (Batch (None, 456, 120)          480       \n",
      "_________________________________________________________________\n",
      "lstm_9 (LSTM)                (None, 64)                47360     \n",
      "_________________________________________________________________\n",
      "batch_normalization_6 (Batch (None, 64)                256       \n",
      "_________________________________________________________________\n",
      "dense_4 (Dense)              (None, 1)                 65        \n",
      "=================================================================\n",
      "Total params: 10,342,241\n",
      "Trainable params: 249,873\n",
      "Non-trainable params: 10,092,368\n",
      "_________________________________________________________________\n"
     ]
    }
   ],
   "source": [
    "##Build the model \n",
    "model_rnn = Sequential()\n",
    "##embedding layer\n",
    "model_rnn.add(Embedding(name=\"embed_layer\", input_dim = vocab_size, \n",
    "                       output_dim=len(embeddings_index['patato']),weights=[embedding_matrix], \n",
    "                       input_length=max_length,trainable=False))\n",
    "##first layer of lstm\n",
    "model_rnn.add(LSTM(units = 120,return_sequences= True))\n",
    "##apply a batch normalization\n",
    "model_rnn.add(BatchNormalization())\n",
    "##second layer of lstm\n",
    "model_rnn.add(LSTM(units = 64, return_sequences= False))\n",
    "##apply a batch normalization\n",
    "model_rnn.add(BatchNormalization())\n",
    "##sigmoid layer\n",
    "model_rnn.add(Dense(units = 1,activation ='sigmoid'))\n",
    "\n",
    "model_rnn.summary()"
   ]
  },
  {
   "cell_type": "code",
   "execution_count": 75,
   "metadata": {},
   "outputs": [],
   "source": [
    "##compile the model \n",
    "model_rnn.compile(loss=\"binary_crossentropy\", metrics=['acc',keras.metrics.AUC()], optimizer=Adam(0.01))"
   ]
  },
  {
   "cell_type": "markdown",
   "metadata": {},
   "source": [
    "Maintenant nous pouvons entrainer le modèle pour l'apprentissage. Le modèle (lstm_classify) prend comme entrée un tableau de formes (m, max_len) et donne en sortie les vecteurs de probabilité de la forme (m, 1). Il faut donc convertir X_train (liste de phrases sous forme de chaînes de caractères) à X_train_indices (tableau de phrases comme liste d'indices de mots). On aura Y_train l'ensemble les étiquettes 0 ou 1"
   ]
  },
  {
   "cell_type": "code",
   "execution_count": 76,
   "metadata": {},
   "outputs": [
    {
     "name": "stdout",
     "output_type": "stream",
     "text": [
      "Epoch 1/75\n",
      "51/51 [==============================] - 39s 758ms/step - loss: 0.6950 - acc: 0.5391 - auc_5: 0.4873 - val_loss: 0.7010 - val_acc: 0.4921 - val_auc_5: 0.5000\n",
      "Epoch 2/75\n",
      "51/51 [==============================] - 42s 833ms/step - loss: 0.6914 - acc: 0.5422 - auc_5: 0.4912 - val_loss: 0.8222 - val_acc: 0.4921 - val_auc_5: 0.5000\n",
      "Epoch 3/75\n",
      "51/51 [==============================] - 42s 818ms/step - loss: 0.6964 - acc: 0.5342 - auc_5: 0.4964 - val_loss: 0.9124 - val_acc: 0.5079 - val_auc_5: 0.5255\n",
      "Epoch 4/75\n",
      "51/51 [==============================] - 41s 795ms/step - loss: 0.7067 - acc: 0.5124 - auc_5: 0.4896 - val_loss: 0.6931 - val_acc: 0.5079 - val_auc_5: 0.5000\n",
      "Epoch 5/75\n",
      "51/51 [==============================] - 50s 971ms/step - loss: 0.6911 - acc: 0.5416 - auc_5: 0.5033 - val_loss: 0.7693 - val_acc: 0.4921 - val_auc_5: 0.5000\n",
      "Epoch 6/75\n",
      "51/51 [==============================] - 48s 932ms/step - loss: 0.6906 - acc: 0.5435 - auc_5: 0.4776 - val_loss: 0.6941 - val_acc: 0.5079 - val_auc_5: 0.5000\n",
      "Epoch 7/75\n",
      "51/51 [==============================] - 48s 937ms/step - loss: 0.6897 - acc: 0.5422 - auc_5: 0.4855 - val_loss: 0.8317 - val_acc: 0.4921 - val_auc_5: 0.5000\n",
      "Epoch 8/75\n",
      "51/51 [==============================] - 45s 874ms/step - loss: 0.6912 - acc: 0.5360 - auc_5: 0.4734 - val_loss: 0.7184 - val_acc: 0.4921 - val_auc_5: 0.5000\n",
      "Epoch 9/75\n",
      "51/51 [==============================] - 44s 867ms/step - loss: 0.6895 - acc: 0.5422 - auc_5: 0.4757 - val_loss: 0.7214 - val_acc: 0.4921 - val_auc_5: 0.5000\n",
      "Epoch 10/75\n",
      "51/51 [==============================] - 44s 871ms/step - loss: 0.6893 - acc: 0.5422 - auc_5: 0.4938 - val_loss: 0.7158 - val_acc: 0.4921 - val_auc_5: 0.5000\n",
      "Epoch 11/75\n",
      "51/51 [==============================] - 44s 870ms/step - loss: 0.6898 - acc: 0.5429 - auc_5: 0.4757 - val_loss: 0.6930 - val_acc: 0.5079 - val_auc_5: 0.5000\n",
      "Epoch 12/75\n",
      "51/51 [==============================] - 46s 899ms/step - loss: 0.6899 - acc: 0.5429 - auc_5: 0.4848 - val_loss: 0.6942 - val_acc: 0.5079 - val_auc_5: 0.5000\n",
      "Epoch 13/75\n",
      "51/51 [==============================] - 44s 866ms/step - loss: 0.6898 - acc: 0.5429 - auc_5: 0.4852 - val_loss: 0.6933 - val_acc: 0.4921 - val_auc_5: 0.5000\n",
      "Epoch 14/75\n",
      "51/51 [==============================] - 44s 869ms/step - loss: 0.6896 - acc: 0.5385 - auc_5: 0.4881 - val_loss: 0.6990 - val_acc: 0.5079 - val_auc_5: 0.5000\n",
      "Epoch 15/75\n",
      "51/51 [==============================] - 44s 866ms/step - loss: 0.6894 - acc: 0.5429 - auc_5: 0.4747 - val_loss: 0.6982 - val_acc: 0.4921 - val_auc_5: 0.5000\n",
      "Epoch 16/75\n",
      "51/51 [==============================] - 44s 862ms/step - loss: 0.6902 - acc: 0.5410 - auc_5: 0.4701 - val_loss: 0.6936 - val_acc: 0.4921 - val_auc_5: 0.5000\n",
      "Epoch 17/75\n",
      "51/51 [==============================] - 44s 855ms/step - loss: 0.6900 - acc: 0.5360 - auc_5: 0.4839 - val_loss: 0.6932 - val_acc: 0.5079 - val_auc_5: 0.5000\n",
      "Epoch 18/75\n",
      "51/51 [==============================] - 44s 862ms/step - loss: 0.6903 - acc: 0.5422 - auc_5: 0.4848 - val_loss: 0.6955 - val_acc: 0.5079 - val_auc_5: 0.5000\n",
      "Epoch 19/75\n",
      "51/51 [==============================] - 44s 860ms/step - loss: 0.6921 - acc: 0.5373 - auc_5: 0.4887 - val_loss: 0.6932 - val_acc: 0.5079 - val_auc_5: 0.5000\n",
      "Epoch 20/75\n",
      "51/51 [==============================] - 44s 869ms/step - loss: 0.6909 - acc: 0.5335 - auc_5: 0.4752 - val_loss: 0.7013 - val_acc: 0.5079 - val_auc_5: 0.5000\n",
      "Epoch 21/75\n",
      "51/51 [==============================] - 44s 860ms/step - loss: 0.6897 - acc: 0.5429 - auc_5: 0.4814 - val_loss: 0.6938 - val_acc: 0.5079 - val_auc_5: 0.5000\n",
      "Epoch 22/75\n",
      "51/51 [==============================] - 44s 859ms/step - loss: 0.6907 - acc: 0.5360 - auc_5: 0.4625 - val_loss: 0.6950 - val_acc: 0.5079 - val_auc_5: 0.5000\n",
      "Epoch 23/75\n",
      "51/51 [==============================] - 44s 869ms/step - loss: 0.6891 - acc: 0.5429 - auc_5: 0.4926 - val_loss: 0.6932 - val_acc: 0.5079 - val_auc_5: 0.5000\n",
      "Epoch 24/75\n",
      "51/51 [==============================] - 44s 861ms/step - loss: 0.6896 - acc: 0.5429 - auc_5: 0.4872 - val_loss: 0.6940 - val_acc: 0.5079 - val_auc_5: 0.5000\n",
      "Epoch 25/75\n",
      "51/51 [==============================] - 44s 864ms/step - loss: 0.6891 - acc: 0.5429 - auc_5: 0.5006 - val_loss: 0.7256 - val_acc: 0.4921 - val_auc_5: 0.5000\n",
      "Epoch 26/75\n",
      "51/51 [==============================] - 44s 864ms/step - loss: 0.6890 - acc: 0.5435 - auc_5: 0.4872 - val_loss: 0.7014 - val_acc: 0.4921 - val_auc_5: 0.5000\n",
      "Epoch 27/75\n",
      "51/51 [==============================] - 44s 857ms/step - loss: 0.6892 - acc: 0.5385 - auc_5: 0.4749 - val_loss: 0.6942 - val_acc: 0.5079 - val_auc_5: 0.5000\n",
      "Epoch 28/75\n",
      "51/51 [==============================] - 44s 863ms/step - loss: 0.6894 - acc: 0.5429 - auc_5: 0.4878 - val_loss: 0.6930 - val_acc: 0.5079 - val_auc_5: 0.5000\n",
      "Epoch 29/75\n",
      "51/51 [==============================] - 44s 859ms/step - loss: 0.6888 - acc: 0.5435 - auc_5: 0.4827 - val_loss: 0.6937 - val_acc: 0.5079 - val_auc_5: 0.5000\n",
      "Epoch 30/75\n",
      "51/51 [==============================] - 44s 868ms/step - loss: 0.6897 - acc: 0.5398 - auc_5: 0.4755 - val_loss: 0.6938 - val_acc: 0.5079 - val_auc_5: 0.5000\n",
      "Epoch 31/75\n",
      "51/51 [==============================] - 44s 864ms/step - loss: 0.6915 - acc: 0.5292 - auc_5: 0.4867 - val_loss: 0.6933 - val_acc: 0.5079 - val_auc_5: 0.5000\n",
      "Epoch 32/75\n",
      "51/51 [==============================] - 44s 871ms/step - loss: 0.6893 - acc: 0.5429 - auc_5: 0.4975 - val_loss: 0.6955 - val_acc: 0.5079 - val_auc_5: 0.5000\n",
      "Epoch 33/75\n",
      "51/51 [==============================] - 44s 865ms/step - loss: 0.6886 - acc: 0.5429 - auc_5: 0.5071 - val_loss: 0.6959 - val_acc: 0.5079 - val_auc_5: 0.5000\n",
      "Epoch 34/75\n",
      "51/51 [==============================] - 44s 864ms/step - loss: 0.6899 - acc: 0.5429 - auc_5: 0.5009 - val_loss: 0.7009 - val_acc: 0.5079 - val_auc_5: 0.5000\n",
      "Epoch 35/75\n",
      "51/51 [==============================] - 44s 862ms/step - loss: 0.6900 - acc: 0.5429 - auc_5: 0.4870 - val_loss: 0.6986 - val_acc: 0.5079 - val_auc_5: 0.5000\n",
      "Epoch 36/75\n",
      "51/51 [==============================] - 45s 874ms/step - loss: 0.6895 - acc: 0.5429 - auc_5: 0.4843 - val_loss: 0.6954 - val_acc: 0.5079 - val_auc_5: 0.5000\n",
      "Epoch 37/75\n",
      "51/51 [==============================] - 39s 772ms/step - loss: 0.6897 - acc: 0.5429 - auc_5: 0.4688 - val_loss: 0.6992 - val_acc: 0.5079 - val_auc_5: 0.5000\n",
      "Epoch 38/75\n",
      "51/51 [==============================] - 44s 863ms/step - loss: 0.6907 - acc: 0.5422 - auc_5: 0.4887 - val_loss: 0.6961 - val_acc: 0.5079 - val_auc_5: 0.5000\n",
      "Epoch 39/75\n",
      "51/51 [==============================] - 49s 966ms/step - loss: 0.6902 - acc: 0.5472 - auc_5: 0.5094 - val_loss: 0.7075 - val_acc: 0.5079 - val_auc_5: 0.5000\n",
      "Epoch 40/75\n",
      "51/51 [==============================] - 50s 980ms/step - loss: 0.6904 - acc: 0.5398 - auc_5: 0.4833 - val_loss: 0.6956 - val_acc: 0.5079 - val_auc_5: 0.5000\n",
      "Epoch 41/75\n",
      "51/51 [==============================] - 51s 995ms/step - loss: 0.6899 - acc: 0.5385 - auc_5: 0.4895 - val_loss: 0.6991 - val_acc: 0.5079 - val_auc_5: 0.5000\n",
      "Epoch 42/75\n",
      "51/51 [==============================] - 48s 949ms/step - loss: 0.6895 - acc: 0.5429 - auc_5: 0.4686 - val_loss: 0.6968 - val_acc: 0.5079 - val_auc_5: 0.5000\n",
      "Epoch 43/75\n",
      "51/51 [==============================] - 50s 977ms/step - loss: 0.6884 - acc: 0.5429 - auc_5: 0.4996 - val_loss: 0.6931 - val_acc: 0.5079 - val_auc_5: 0.5000\n",
      "Epoch 44/75\n",
      "51/51 [==============================] - 50s 981ms/step - loss: 0.6893 - acc: 0.5435 - auc_5: 0.4710 - val_loss: 0.6943 - val_acc: 0.5079 - val_auc_5: 0.5000\n",
      "Epoch 45/75\n",
      "51/51 [==============================] - 49s 963ms/step - loss: 0.6895 - acc: 0.5429 - auc_5: 0.4798 - val_loss: 0.6944 - val_acc: 0.5079 - val_auc_5: 0.5000\n",
      "Epoch 46/75\n",
      "51/51 [==============================] - 55s 1s/step - loss: 0.6895 - acc: 0.5385 - auc_5: 0.4831 - val_loss: 0.6957 - val_acc: 0.5079 - val_auc_5: 0.5000\n",
      "Epoch 47/75\n",
      "51/51 [==============================] - 50s 983ms/step - loss: 0.6891 - acc: 0.5429 - auc_5: 0.4900 - val_loss: 0.6936 - val_acc: 0.5079 - val_auc_5: 0.5000\n",
      "Epoch 48/75\n",
      "51/51 [==============================] - 53s 1s/step - loss: 0.6891 - acc: 0.5429 - auc_5: 0.4792 - val_loss: 0.6942 - val_acc: 0.5079 - val_auc_5: 0.5000\n",
      "Epoch 49/75\n",
      "51/51 [==============================] - 49s 970ms/step - loss: 0.6889 - acc: 0.5429 - auc_5: 0.4911 - val_loss: 0.6936 - val_acc: 0.5079 - val_auc_5: 0.5000\n",
      "Epoch 50/75\n",
      "51/51 [==============================] - 51s 995ms/step - loss: 0.6892 - acc: 0.5410 - auc_5: 0.4837 - val_loss: 0.6943 - val_acc: 0.5079 - val_auc_5: 0.5000\n",
      "Epoch 51/75\n",
      "51/51 [==============================] - 50s 971ms/step - loss: 0.6895 - acc: 0.5429 - auc_5: 0.4761 - val_loss: 0.6933 - val_acc: 0.5079 - val_auc_5: 0.5000\n",
      "Epoch 52/75\n",
      "51/51 [==============================] - 53s 1s/step - loss: 0.6893 - acc: 0.5429 - auc_5: 0.4667 - val_loss: 0.7271 - val_acc: 0.5079 - val_auc_5: 0.5000\n",
      "Epoch 53/75\n",
      "51/51 [==============================] - 54s 1s/step - loss: 0.6892 - acc: 0.5435 - auc_5: 0.4922 - val_loss: 1.1287 - val_acc: 0.4921 - val_auc_5: 0.5000\n",
      "Epoch 54/75\n",
      "51/51 [==============================] - 51s 1s/step - loss: 0.6910 - acc: 0.5422 - auc_5: 0.4809 - val_loss: 0.7288 - val_acc: 0.4921 - val_auc_5: 0.5000\n",
      "Epoch 55/75\n",
      "51/51 [==============================] - 49s 966ms/step - loss: 0.6917 - acc: 0.5422 - auc_5: 0.4976 - val_loss: 0.6993 - val_acc: 0.4921 - val_auc_5: 0.5000\n",
      "Epoch 56/75\n",
      "51/51 [==============================] - 52s 1s/step - loss: 0.6935 - acc: 0.5311 - auc_5: 0.5015 - val_loss: 4.7561 - val_acc: 0.4921 - val_auc_5: 0.5000\n",
      "Epoch 57/75\n",
      "51/51 [==============================] - 53s 1s/step - loss: 0.6912 - acc: 0.5292 - auc_5: 0.4952 - val_loss: 3.3922 - val_acc: 0.5079 - val_auc_5: 0.5000\n",
      "Epoch 58/75\n",
      "51/51 [==============================] - 51s 1s/step - loss: 0.6907 - acc: 0.5335 - auc_5: 0.5005 - val_loss: 4.5890 - val_acc: 0.4921 - val_auc_5: 0.5000\n",
      "Epoch 59/75\n",
      "51/51 [==============================] - 54s 1s/step - loss: 0.6912 - acc: 0.5410 - auc_5: 0.4813 - val_loss: 4.0307 - val_acc: 0.4921 - val_auc_5: 0.5000\n",
      "Epoch 60/75\n",
      "51/51 [==============================] - 54s 1s/step - loss: 0.6914 - acc: 0.5379 - auc_5: 0.4718 - val_loss: 1.9283 - val_acc: 0.4921 - val_auc_5: 0.5000\n",
      "Epoch 61/75\n",
      "51/51 [==============================] - 54s 1s/step - loss: 0.6906 - acc: 0.5416 - auc_5: 0.4817 - val_loss: 0.8514 - val_acc: 0.4921 - val_auc_5: 0.5000\n",
      "Epoch 62/75\n",
      "51/51 [==============================] - 50s 977ms/step - loss: 0.6901 - acc: 0.5429 - auc_5: 0.4790 - val_loss: 0.7508 - val_acc: 0.4921 - val_auc_5: 0.5000\n",
      "Epoch 63/75\n",
      "51/51 [==============================] - 55s 1s/step - loss: 0.6894 - acc: 0.5422 - auc_5: 0.4973 - val_loss: 0.7213 - val_acc: 0.4921 - val_auc_5: 0.5000\n",
      "Epoch 64/75\n",
      "51/51 [==============================] - 49s 953ms/step - loss: 0.6897 - acc: 0.5429 - auc_5: 0.4781 - val_loss: 0.6967 - val_acc: 0.4921 - val_auc_5: 0.5000\n",
      "Epoch 65/75\n",
      "51/51 [==============================] - 48s 939ms/step - loss: 0.6892 - acc: 0.5491 - auc_5: 0.5090 - val_loss: 0.6951 - val_acc: 0.4921 - val_auc_5: 0.5000\n",
      "Epoch 66/75\n",
      "51/51 [==============================] - 52s 1s/step - loss: 0.6898 - acc: 0.5429 - auc_5: 0.4960 - val_loss: 0.6936 - val_acc: 0.4921 - val_auc_5: 0.5000\n",
      "Epoch 67/75\n",
      "51/51 [==============================] - 55s 1s/step - loss: 0.6914 - acc: 0.5317 - auc_5: 0.4777 - val_loss: 0.6930 - val_acc: 0.5079 - val_auc_5: 0.5000\n",
      "Epoch 68/75\n",
      "51/51 [==============================] - 50s 984ms/step - loss: 0.6910 - acc: 0.5292 - auc_5: 0.4785 - val_loss: 0.6957 - val_acc: 0.5079 - val_auc_5: 0.5000\n",
      "Epoch 69/75\n",
      "51/51 [==============================] - 54s 1s/step - loss: 0.6903 - acc: 0.5422 - auc_5: 0.4876 - val_loss: 0.6960 - val_acc: 0.5079 - val_auc_5: 0.5000\n",
      "Epoch 70/75\n",
      "51/51 [==============================] - 58s 1s/step - loss: 0.6898 - acc: 0.5422 - auc_5: 0.4742 - val_loss: 0.6951 - val_acc: 0.5079 - val_auc_5: 0.5000\n",
      "Epoch 71/75\n",
      "51/51 [==============================] - 70s 1s/step - loss: 0.6895 - acc: 0.5422 - auc_5: 0.4906 - val_loss: 0.6951 - val_acc: 0.5079 - val_auc_5: 0.5000\n",
      "Epoch 72/75\n",
      "51/51 [==============================] - 51s 998ms/step - loss: 0.6898 - acc: 0.5416 - auc_5: 0.4723 - val_loss: 0.6953 - val_acc: 0.5079 - val_auc_5: 0.5000\n",
      "Epoch 73/75\n",
      "51/51 [==============================] - 46s 899ms/step - loss: 0.6897 - acc: 0.5422 - auc_5: 0.4859 - val_loss: 0.6948 - val_acc: 0.5079 - val_auc_5: 0.5000\n",
      "Epoch 74/75\n",
      "51/51 [==============================] - 46s 895ms/step - loss: 0.6894 - acc: 0.5422 - auc_5: 0.4792 - val_loss: 0.6949 - val_acc: 0.5079 - val_auc_5: 0.5000\n",
      "Epoch 75/75\n",
      "51/51 [==============================] - 45s 878ms/step - loss: 0.6897 - acc: 0.5422 - auc_5: 0.4868 - val_loss: 0.6953 - val_acc: 0.5079 - val_auc_5: 0.5000\n"
     ]
    }
   ],
   "source": [
    "##fit the model\n",
    "hist_rnn=model_rnn.fit(X_train_general_pad ,Y_train,validation_data=(X_test_general_pad,Y_test), epochs = 75, batch_size=32,shuffle=True)"
   ]
  },
  {
   "cell_type": "code",
   "execution_count": 77,
   "metadata": {},
   "outputs": [
    {
     "data": {
      "text/plain": [
       "{'loss': [0.6949607729911804,\n",
       "  0.6914290189743042,\n",
       "  0.6964253187179565,\n",
       "  0.706666111946106,\n",
       "  0.6911012530326843,\n",
       "  0.6905913352966309,\n",
       "  0.689669668674469,\n",
       "  0.6911958456039429,\n",
       "  0.6895254850387573,\n",
       "  0.6893332004547119,\n",
       "  0.689787745475769,\n",
       "  0.6898752450942993,\n",
       "  0.6897686123847961,\n",
       "  0.6896254420280457,\n",
       "  0.6893589496612549,\n",
       "  0.690184473991394,\n",
       "  0.6899615526199341,\n",
       "  0.6902682781219482,\n",
       "  0.6920800805091858,\n",
       "  0.6908931136131287,\n",
       "  0.6896751523017883,\n",
       "  0.6906803250312805,\n",
       "  0.6891266703605652,\n",
       "  0.6895935535430908,\n",
       "  0.6891464591026306,\n",
       "  0.6890149116516113,\n",
       "  0.6892162561416626,\n",
       "  0.6893672943115234,\n",
       "  0.6888230443000793,\n",
       "  0.6896856427192688,\n",
       "  0.6915259957313538,\n",
       "  0.6892957091331482,\n",
       "  0.6886187195777893,\n",
       "  0.6898519396781921,\n",
       "  0.6900258660316467,\n",
       "  0.6894662976264954,\n",
       "  0.6897197961807251,\n",
       "  0.6906700134277344,\n",
       "  0.6902083158493042,\n",
       "  0.690359354019165,\n",
       "  0.6899321675300598,\n",
       "  0.689536988735199,\n",
       "  0.688433051109314,\n",
       "  0.6892759203910828,\n",
       "  0.6894581317901611,\n",
       "  0.6894991993904114,\n",
       "  0.6891119480133057,\n",
       "  0.6891195774078369,\n",
       "  0.6888762712478638,\n",
       "  0.6891599297523499,\n",
       "  0.6895108222961426,\n",
       "  0.6893040537834167,\n",
       "  0.6891945600509644,\n",
       "  0.6910181045532227,\n",
       "  0.6917234063148499,\n",
       "  0.6935274004936218,\n",
       "  0.6911900043487549,\n",
       "  0.6907386779785156,\n",
       "  0.6912427544593811,\n",
       "  0.6913576722145081,\n",
       "  0.6906222701072693,\n",
       "  0.6901434063911438,\n",
       "  0.6894004940986633,\n",
       "  0.6896929144859314,\n",
       "  0.6892029047012329,\n",
       "  0.6897569894790649,\n",
       "  0.6914073824882507,\n",
       "  0.691027820110321,\n",
       "  0.6903415322303772,\n",
       "  0.689771294593811,\n",
       "  0.6895085573196411,\n",
       "  0.6897707581520081,\n",
       "  0.6897062063217163,\n",
       "  0.6893882751464844,\n",
       "  0.6897119879722595],\n",
       " 'acc': [0.539130449295044,\n",
       "  0.5422360301017761,\n",
       "  0.5341615080833435,\n",
       "  0.5124223828315735,\n",
       "  0.5416148900985718,\n",
       "  0.54347825050354,\n",
       "  0.5422360301017761,\n",
       "  0.5360248684883118,\n",
       "  0.5422360301017761,\n",
       "  0.5422360301017761,\n",
       "  0.5428571701049805,\n",
       "  0.5428571701049805,\n",
       "  0.5428571701049805,\n",
       "  0.5385093092918396,\n",
       "  0.5428571701049805,\n",
       "  0.5409938097000122,\n",
       "  0.5360248684883118,\n",
       "  0.5422360301017761,\n",
       "  0.5372670888900757,\n",
       "  0.5335403680801392,\n",
       "  0.5428571701049805,\n",
       "  0.5360248684883118,\n",
       "  0.5428571701049805,\n",
       "  0.5428571701049805,\n",
       "  0.5428571701049805,\n",
       "  0.54347825050354,\n",
       "  0.5385093092918396,\n",
       "  0.5428571701049805,\n",
       "  0.54347825050354,\n",
       "  0.5397515296936035,\n",
       "  0.5291925668716431,\n",
       "  0.5428571701049805,\n",
       "  0.5428571701049805,\n",
       "  0.5428571701049805,\n",
       "  0.5428571701049805,\n",
       "  0.5428571701049805,\n",
       "  0.5428571701049805,\n",
       "  0.5422360301017761,\n",
       "  0.5472049713134766,\n",
       "  0.5397515296936035,\n",
       "  0.5385093092918396,\n",
       "  0.5428571701049805,\n",
       "  0.5428571701049805,\n",
       "  0.54347825050354,\n",
       "  0.5428571701049805,\n",
       "  0.5385093092918396,\n",
       "  0.5428571701049805,\n",
       "  0.5428571701049805,\n",
       "  0.5428571701049805,\n",
       "  0.5409938097000122,\n",
       "  0.5428571701049805,\n",
       "  0.5428571701049805,\n",
       "  0.54347825050354,\n",
       "  0.5422360301017761,\n",
       "  0.5422360301017761,\n",
       "  0.5310559272766113,\n",
       "  0.5291925668716431,\n",
       "  0.5335403680801392,\n",
       "  0.5409938097000122,\n",
       "  0.5378881692886353,\n",
       "  0.5416148900985718,\n",
       "  0.5428571701049805,\n",
       "  0.5422360301017761,\n",
       "  0.5428571701049805,\n",
       "  0.5490683317184448,\n",
       "  0.5428571701049805,\n",
       "  0.5316770076751709,\n",
       "  0.5291925668716431,\n",
       "  0.5422360301017761,\n",
       "  0.5422360301017761,\n",
       "  0.5422360301017761,\n",
       "  0.5416148900985718,\n",
       "  0.5422360301017761,\n",
       "  0.5422360301017761,\n",
       "  0.5422360301017761],\n",
       " 'auc_5': [0.4873197078704834,\n",
       "  0.4911571741104126,\n",
       "  0.4964190125465393,\n",
       "  0.48960214853286743,\n",
       "  0.5033338069915771,\n",
       "  0.47761350870132446,\n",
       "  0.48545774817466736,\n",
       "  0.47344425320625305,\n",
       "  0.47567999362945557,\n",
       "  0.49384984374046326,\n",
       "  0.475674569606781,\n",
       "  0.4848344922065735,\n",
       "  0.4852432906627655,\n",
       "  0.48812171816825867,\n",
       "  0.474731981754303,\n",
       "  0.47013604640960693,\n",
       "  0.4838770925998688,\n",
       "  0.48476457595825195,\n",
       "  0.48867112398147583,\n",
       "  0.4752199649810791,\n",
       "  0.48139965534210205,\n",
       "  0.4625101387500763,\n",
       "  0.49263209104537964,\n",
       "  0.4872404634952545,\n",
       "  0.5005944967269897,\n",
       "  0.48723194003105164,\n",
       "  0.4748772382736206,\n",
       "  0.4877549111843109,\n",
       "  0.4827168583869934,\n",
       "  0.4755004942417145,\n",
       "  0.4867089092731476,\n",
       "  0.49746426939964294,\n",
       "  0.5071331262588501,\n",
       "  0.5008758306503296,\n",
       "  0.4870438575744629,\n",
       "  0.4843161702156067,\n",
       "  0.46877843141555786,\n",
       "  0.4887247681617737,\n",
       "  0.5093883872032166,\n",
       "  0.48327013850212097,\n",
       "  0.4894646108150482,\n",
       "  0.46864938735961914,\n",
       "  0.49962306022644043,\n",
       "  0.4710460305213928,\n",
       "  0.4797855615615845,\n",
       "  0.4830533266067505,\n",
       "  0.4899945855140686,\n",
       "  0.479218989610672,\n",
       "  0.4911019802093506,\n",
       "  0.48373177647590637,\n",
       "  0.47606855630874634,\n",
       "  0.46669963002204895,\n",
       "  0.49218761920928955,\n",
       "  0.4809061884880066,\n",
       "  0.4976274371147156,\n",
       "  0.5015246868133545,\n",
       "  0.49518418312072754,\n",
       "  0.5005455613136292,\n",
       "  0.48133978247642517,\n",
       "  0.4717726707458496,\n",
       "  0.4816623032093048,\n",
       "  0.4790099859237671,\n",
       "  0.4973445534706116,\n",
       "  0.478145033121109,\n",
       "  0.5090060234069824,\n",
       "  0.495960533618927,\n",
       "  0.4776756763458252,\n",
       "  0.4785204231739044,\n",
       "  0.4876445233821869,\n",
       "  0.47424936294555664,\n",
       "  0.4905914068222046,\n",
       "  0.4723461866378784,\n",
       "  0.48594266176223755,\n",
       "  0.47921517491340637,\n",
       "  0.48683789372444153],\n",
       " 'val_loss': [0.7009520530700684,\n",
       "  0.8222107291221619,\n",
       "  0.9123717546463013,\n",
       "  0.6931314468383789,\n",
       "  0.7692784667015076,\n",
       "  0.6940714716911316,\n",
       "  0.8317247629165649,\n",
       "  0.7183741927146912,\n",
       "  0.7214497327804565,\n",
       "  0.7158336043357849,\n",
       "  0.6930400133132935,\n",
       "  0.6941930651664734,\n",
       "  0.6933422684669495,\n",
       "  0.698982298374176,\n",
       "  0.6981855034828186,\n",
       "  0.6936424374580383,\n",
       "  0.6931801438331604,\n",
       "  0.6954905390739441,\n",
       "  0.6932493448257446,\n",
       "  0.701318085193634,\n",
       "  0.6938358545303345,\n",
       "  0.69497150182724,\n",
       "  0.69317626953125,\n",
       "  0.6940150260925293,\n",
       "  0.7256044149398804,\n",
       "  0.7013806700706482,\n",
       "  0.6942234635353088,\n",
       "  0.693031907081604,\n",
       "  0.6936560869216919,\n",
       "  0.6937722563743591,\n",
       "  0.6932957768440247,\n",
       "  0.6955018043518066,\n",
       "  0.6958971619606018,\n",
       "  0.7009115219116211,\n",
       "  0.6986093521118164,\n",
       "  0.6954206824302673,\n",
       "  0.6991711854934692,\n",
       "  0.6960734128952026,\n",
       "  0.7075449824333191,\n",
       "  0.6956272721290588,\n",
       "  0.6991182565689087,\n",
       "  0.6967973113059998,\n",
       "  0.6930542588233948,\n",
       "  0.6943286657333374,\n",
       "  0.6943791508674622,\n",
       "  0.6956711411476135,\n",
       "  0.6936007142066956,\n",
       "  0.6941919922828674,\n",
       "  0.6936284899711609,\n",
       "  0.6943127512931824,\n",
       "  0.6932922005653381,\n",
       "  0.7270699143409729,\n",
       "  1.1286540031433105,\n",
       "  0.7288166284561157,\n",
       "  0.6992554068565369,\n",
       "  4.756131172180176,\n",
       "  3.39215087890625,\n",
       "  4.588961124420166,\n",
       "  4.030659198760986,\n",
       "  1.9283475875854492,\n",
       "  0.8514248728752136,\n",
       "  0.750790536403656,\n",
       "  0.7212777137756348,\n",
       "  0.6966613531112671,\n",
       "  0.6950622797012329,\n",
       "  0.693611204624176,\n",
       "  0.6930282711982727,\n",
       "  0.6956921219825745,\n",
       "  0.6959884166717529,\n",
       "  0.6950598955154419,\n",
       "  0.6951314210891724,\n",
       "  0.695337176322937,\n",
       "  0.6948038935661316,\n",
       "  0.6948779225349426,\n",
       "  0.6953380107879639],\n",
       " 'val_acc': [0.4920634925365448,\n",
       "  0.4920634925365448,\n",
       "  0.5079365372657776,\n",
       "  0.5079365372657776,\n",
       "  0.4920634925365448,\n",
       "  0.5079365372657776,\n",
       "  0.4920634925365448,\n",
       "  0.4920634925365448,\n",
       "  0.4920634925365448,\n",
       "  0.4920634925365448,\n",
       "  0.5079365372657776,\n",
       "  0.5079365372657776,\n",
       "  0.4920634925365448,\n",
       "  0.5079365372657776,\n",
       "  0.4920634925365448,\n",
       "  0.4920634925365448,\n",
       "  0.5079365372657776,\n",
       "  0.5079365372657776,\n",
       "  0.5079365372657776,\n",
       "  0.5079365372657776,\n",
       "  0.5079365372657776,\n",
       "  0.5079365372657776,\n",
       "  0.5079365372657776,\n",
       "  0.5079365372657776,\n",
       "  0.4920634925365448,\n",
       "  0.4920634925365448,\n",
       "  0.5079365372657776,\n",
       "  0.5079365372657776,\n",
       "  0.5079365372657776,\n",
       "  0.5079365372657776,\n",
       "  0.5079365372657776,\n",
       "  0.5079365372657776,\n",
       "  0.5079365372657776,\n",
       "  0.5079365372657776,\n",
       "  0.5079365372657776,\n",
       "  0.5079365372657776,\n",
       "  0.5079365372657776,\n",
       "  0.5079365372657776,\n",
       "  0.5079365372657776,\n",
       "  0.5079365372657776,\n",
       "  0.5079365372657776,\n",
       "  0.5079365372657776,\n",
       "  0.5079365372657776,\n",
       "  0.5079365372657776,\n",
       "  0.5079365372657776,\n",
       "  0.5079365372657776,\n",
       "  0.5079365372657776,\n",
       "  0.5079365372657776,\n",
       "  0.5079365372657776,\n",
       "  0.5079365372657776,\n",
       "  0.5079365372657776,\n",
       "  0.5079365372657776,\n",
       "  0.4920634925365448,\n",
       "  0.4920634925365448,\n",
       "  0.4920634925365448,\n",
       "  0.4920634925365448,\n",
       "  0.5079365372657776,\n",
       "  0.4920634925365448,\n",
       "  0.4920634925365448,\n",
       "  0.4920634925365448,\n",
       "  0.4920634925365448,\n",
       "  0.4920634925365448,\n",
       "  0.4920634925365448,\n",
       "  0.4920634925365448,\n",
       "  0.4920634925365448,\n",
       "  0.4920634925365448,\n",
       "  0.5079365372657776,\n",
       "  0.5079365372657776,\n",
       "  0.5079365372657776,\n",
       "  0.5079365372657776,\n",
       "  0.5079365372657776,\n",
       "  0.5079365372657776,\n",
       "  0.5079365372657776,\n",
       "  0.5079365372657776,\n",
       "  0.5079365372657776],\n",
       " 'val_auc_5': [0.5,\n",
       "  0.5,\n",
       "  0.5255096554756165,\n",
       "  0.5,\n",
       "  0.5,\n",
       "  0.5,\n",
       "  0.5,\n",
       "  0.5,\n",
       "  0.5,\n",
       "  0.5,\n",
       "  0.5,\n",
       "  0.5,\n",
       "  0.5,\n",
       "  0.5,\n",
       "  0.5,\n",
       "  0.5,\n",
       "  0.5,\n",
       "  0.5,\n",
       "  0.5,\n",
       "  0.5,\n",
       "  0.5,\n",
       "  0.5,\n",
       "  0.5,\n",
       "  0.5,\n",
       "  0.5,\n",
       "  0.5,\n",
       "  0.5,\n",
       "  0.5,\n",
       "  0.5,\n",
       "  0.5,\n",
       "  0.5,\n",
       "  0.5,\n",
       "  0.5,\n",
       "  0.5,\n",
       "  0.5,\n",
       "  0.5,\n",
       "  0.5,\n",
       "  0.5,\n",
       "  0.5,\n",
       "  0.5,\n",
       "  0.5,\n",
       "  0.5,\n",
       "  0.5,\n",
       "  0.5,\n",
       "  0.5,\n",
       "  0.5,\n",
       "  0.5,\n",
       "  0.5,\n",
       "  0.5,\n",
       "  0.5,\n",
       "  0.5,\n",
       "  0.5,\n",
       "  0.5,\n",
       "  0.5,\n",
       "  0.5,\n",
       "  0.5,\n",
       "  0.5,\n",
       "  0.5,\n",
       "  0.5,\n",
       "  0.5,\n",
       "  0.5,\n",
       "  0.5,\n",
       "  0.5,\n",
       "  0.5,\n",
       "  0.5,\n",
       "  0.5,\n",
       "  0.5,\n",
       "  0.5,\n",
       "  0.5,\n",
       "  0.5,\n",
       "  0.5,\n",
       "  0.5,\n",
       "  0.5,\n",
       "  0.5,\n",
       "  0.5]}"
      ]
     },
     "execution_count": 77,
     "metadata": {},
     "output_type": "execute_result"
    }
   ],
   "source": [
    "##keep in mind the keys values of this dictionary in order to use the correct name, they are used in the plotting.\n",
    "hist_rnn.history"
   ]
  },
  {
   "cell_type": "code",
   "execution_count": 81,
   "metadata": {},
   "outputs": [
    {
     "data": {
      "text/plain": [
       "<Figure size 576x576 with 0 Axes>"
      ]
     },
     "metadata": {},
     "output_type": "display_data"
    },
    {
     "data": {
      "image/png": "[encoded data removed]",
      "text/plain": [
       "<Figure size 432x288 with 2 Axes>"
      ]
     },
     "metadata": {},
     "output_type": "display_data"
    }
   ],
   "source": [
    "##plot the cost evolution \n",
    "plt.figure(figsize=(8,8))\n",
    "\n",
    "fig,axloss1 = plt.subplots()\n",
    "axloss2 = axloss1.twinx()\n",
    "axloss1.plot(hist_rnn.history['loss'])\n",
    "axloss2.plot(hist_rnn.history['val_loss'],color='b')\n",
    "axloss1.set_title('model loss')\n",
    "axloss1.set_ylabel('loss')\n",
    "axloss1.set_xlabel('epoch')\n",
    "axloss1.legend(['train loss'], loc='upper left')\n",
    "axloss2.legend(['val loss'], loc='upper right')\n",
    "plt.savefig(\"loss_rnn.PNG\")\n",
    "plt.show()"
   ]
  },
  {
   "cell_type": "code",
   "execution_count": 84,
   "metadata": {},
   "outputs": [
    {
     "data": {
      "image/png": "[encoded data removed]",
      "text/plain": [
       "<Figure size 432x288 with 1 Axes>"
      ]
     },
     "metadata": {},
     "output_type": "display_data"
    }
   ],
   "source": [
    "plt.plot(hist_rnn.history['auc_5'])\n",
    "plt.plot(hist_rnn.history['val_auc_5'])\n",
    "plt.title('model auc')\n",
    "plt.ylabel('auc')\n",
    "plt.xlabel('epoch')\n",
    "plt.legend(['train', 'val'], loc='upper left')\n",
    "plt.savefig(\"auc_rnn.PNG\")\n",
    "plt.show()"
   ]
  },
  {
   "cell_type": "code",
   "execution_count": 86,
   "metadata": {},
   "outputs": [
    {
     "name": "stdout",
     "output_type": "stream",
     "text": [
      "12/12 [==============================] - 4s 299ms/step - loss: 0.6953 - acc: 0.5079 - auc_5: 0.5000\n",
      "\n",
      "RNN accuracy: 0.508 \n",
      "RNN AUC: 0.500 \n"
     ]
    }
   ],
   "source": [
    "##for the RNN model roc curve\n",
    "loss_rnn, acc_rnn, auc_rnn = model_rnn.evaluate(X_test_general_pad,Y_test)\n",
    "print()\n",
    "print(\"RNN accuracy: %0.3f \" % (acc_rnn))\n",
    "print(\"RNN AUC: %0.3f \" % (auc_rnn))"
   ]
  },
  {
   "cell_type": "code",
   "execution_count": 94,
   "metadata": {},
   "outputs": [],
   "source": [
    "##for the RNN model roc curve\n",
    "Y_pred_rnn = model_rnn.predict(X_test_general_pad).ravel()\n",
    "fpr_rnn, tpr_rnn, thresholds_rnn = roc_curve(Y_test, Y_pred_rnn)"
   ]
  },
  {
   "cell_type": "code",
   "execution_count": 100,
   "metadata": {},
   "outputs": [],
   "source": []
  },
  {
   "cell_type": "markdown",
   "metadata": {},
   "source": [
    "## <font color='darkblue'>Third section</font>\n",
    "Here we will use machine learning algorithm"
   ]
  },
  {
   "cell_type": "code",
   "execution_count": 33,
   "metadata": {},
   "outputs": [],
   "source": [
    "#Third section : machine learning approaches, import the require packages"
   ]
  },
  {
   "cell_type": "code",
   "execution_count": 16,
   "metadata": {},
   "outputs": [],
   "source": [
    "from sklearn.feature_extraction.text import TfidfTransformer, TfidfVectorizer\n",
    "\n",
    "#Stemming\n",
    "from nltk.stem import SnowballStemmer\n",
    "stemmer = SnowballStemmer('english')\n",
    "\n",
    "from sklearn.pipeline import Pipeline\n",
    "from sklearn.linear_model import  LogisticRegression\n",
    "from sklearn.linear_model import PassiveAggressiveClassifier\n",
    "from sklearn.ensemble import RandomForestClassifier\n",
    "from sklearn import svm\n",
    "from sklearn.metrics import auc,accuracy_score"
   ]
  },
  {
   "cell_type": "code",
   "execution_count": 17,
   "metadata": {},
   "outputs": [],
   "source": [
    "##apply stemming for the combined_news\n",
    "news_djia['stem_combined_news'] = news_djia['combined_news'].apply(lambda x: [stemmer.stem(y) for y in x.split()])\n",
    "news_djia['stem_combined_news'] = news_djia['stem_combined_news'].apply(lambda x: ' '.join(x))"
   ]
  },
  {
   "cell_type": "code",
   "execution_count": 97,
   "metadata": {},
   "outputs": [
    {
     "data": {
      "text/html": [
       "<div>\n",
       "<style scoped>\n",
       "    .dataframe tbody tr th:only-of-type {\n",
       "        vertical-align: middle;\n",
       "    }\n",
       "\n",
       "    .dataframe tbody tr th {\n",
       "        vertical-align: top;\n",
       "    }\n",
       "\n",
       "    .dataframe thead th {\n",
       "        text-align: right;\n",
       "    }\n",
       "</style>\n",
       "<table border=\"1\" class=\"dataframe\">\n",
       "  <thead>\n",
       "    <tr style=\"text-align: right;\">\n",
       "      <th></th>\n",
       "      <th>Date</th>\n",
       "      <th>Label</th>\n",
       "      <th>Top1</th>\n",
       "      <th>Top2</th>\n",
       "      <th>Top3</th>\n",
       "      <th>Top4</th>\n",
       "      <th>Top5</th>\n",
       "      <th>Top6</th>\n",
       "      <th>Top7</th>\n",
       "      <th>Top8</th>\n",
       "      <th>...</th>\n",
       "      <th>Top18</th>\n",
       "      <th>Top19</th>\n",
       "      <th>Top20</th>\n",
       "      <th>Top21</th>\n",
       "      <th>Top22</th>\n",
       "      <th>Top23</th>\n",
       "      <th>Top24</th>\n",
       "      <th>Top25</th>\n",
       "      <th>combined_news</th>\n",
       "      <th>stem_combined_news</th>\n",
       "    </tr>\n",
       "  </thead>\n",
       "  <tbody>\n",
       "    <tr>\n",
       "      <th>0</th>\n",
       "      <td>2008-08-11</td>\n",
       "      <td>1</td>\n",
       "      <td>georgia downs two russian warplanes countries ...</td>\n",
       "      <td>breaking musharraf impeached</td>\n",
       "      <td>russia today columns troops roll south ossetia...</td>\n",
       "      <td>russian tanks moving towards capital south oss...</td>\n",
       "      <td>afghan children raped impunity american offici...</td>\n",
       "      <td>russian tanks entered south ossetia whilst geo...</td>\n",
       "      <td>breaking georgia invades south ossetia russia ...</td>\n",
       "      <td>enemy combatent trials nothing sham salim hama...</td>\n",
       "      <td>...</td>\n",
       "      <td>condoleezza rice america would act prevent isr...</td>\n",
       "      <td>busy day european americanion approved new san...</td>\n",
       "      <td>georgia withdraw soldiers iraq help fight russ...</td>\n",
       "      <td>pentagon thinks attacking iran bad idea americ...</td>\n",
       "      <td>caucasus crisis georgia invades south ossetia</td>\n",
       "      <td>indian shoe manufactory series like work</td>\n",
       "      <td>visitors suffering mental illnesses banned oly...</td>\n",
       "      <td>help mexico kidnapping surge</td>\n",
       "      <td>georgia downs two russian warplanes countries ...</td>\n",
       "      <td>georgia down two russian warplan countri move ...</td>\n",
       "    </tr>\n",
       "    <tr>\n",
       "      <th>1</th>\n",
       "      <td>2008-08-12</td>\n",
       "      <td>0</td>\n",
       "      <td>wont america nato help us wont help us help iraq</td>\n",
       "      <td>bush puts foot georgian conflict</td>\n",
       "      <td>jewish georgian minister thanks israeli traini...</td>\n",
       "      <td>georgian army flees disarray russians advance ...</td>\n",
       "      <td>olympic opening ceremony fireworks faked</td>\n",
       "      <td>mossad fraudulent new zealand passports iraq</td>\n",
       "      <td>russia angered israeli military sale georgia</td>\n",
       "      <td>american citizen living sossetia blames americ...</td>\n",
       "      <td>...</td>\n",
       "      <td>riots still going montreal police murdered boy...</td>\n",
       "      <td>china overtake america largest manufacturer</td>\n",
       "      <td>war south ossetia</td>\n",
       "      <td>israeli physicians group condemns state torture</td>\n",
       "      <td>russia beaten americanited states head peak oil</td>\n",
       "      <td>perhaps question georgia russia conflict</td>\n",
       "      <td>russia much better war</td>\n",
       "      <td>come trading sex food</td>\n",
       "      <td>wont america nato help us wont help us help ir...</td>\n",
       "      <td>wont america nato help us wont help us help ir...</td>\n",
       "    </tr>\n",
       "    <tr>\n",
       "      <th>2</th>\n",
       "      <td>2008-08-13</td>\n",
       "      <td>0</td>\n",
       "      <td>remember adorable year old sang opening ceremo...</td>\n",
       "      <td>russia ends georgia operation</td>\n",
       "      <td>sexual harassment would children</td>\n",
       "      <td>al qaeda losing support iraq brutal crackdown ...</td>\n",
       "      <td>ceasefire georgia putin outmaneuvers west</td>\n",
       "      <td>microsoft intel tried kill xo laptop</td>\n",
       "      <td>stratfor russo georgian war balance power</td>\n",
       "      <td>trying get sense whole georgia russia war vote...</td>\n",
       "      <td>...</td>\n",
       "      <td>gorbachev accuses americas making serious blun...</td>\n",
       "      <td>russia georgia nato cold war two</td>\n",
       "      <td>remember adorable year old led country war bas...</td>\n",
       "      <td>war georgia israeli connection</td>\n",
       "      <td>signs point america encouraging georgia invade...</td>\n",
       "      <td>christopher king argues america nato behind ge...</td>\n",
       "      <td>america new mexico</td>\n",
       "      <td>asia pacific extinction man climate</td>\n",
       "      <td>remember adorable year old sang opening ceremo...</td>\n",
       "      <td>rememb ador year old sang open ceremoni fake r...</td>\n",
       "    </tr>\n",
       "    <tr>\n",
       "      <th>3</th>\n",
       "      <td>2008-08-14</td>\n",
       "      <td>1</td>\n",
       "      <td>americas refuses israel weapons attack iran re...</td>\n",
       "      <td>president ordered attack tskhinvali knew doome...</td>\n",
       "      <td>israel clears troops killed cameraman</td>\n",
       "      <td>britain policy tough drugs pointless says form...</td>\n",
       "      <td>body year old found trunk latest kidnapping vi...</td>\n",
       "      <td>china moved million quake survivors prefab homes</td>\n",
       "      <td>bush announces operation get americap russia g...</td>\n",
       "      <td>russian forces sink georgian ships</td>\n",
       "      <td>...</td>\n",
       "      <td>georgia ddos came america sources</td>\n",
       "      <td>russian convoy heads georgia violating truce</td>\n",
       "      <td>israeli defence minister america strike iran</td>\n",
       "      <td>gorbachev choice</td>\n",
       "      <td>witness russian forces head towards tbilisi br...</td>\n",
       "      <td>quarter russians blame americas conflict poll</td>\n",
       "      <td>georgian president says america military take ...</td>\n",
       "      <td>nobel laureate aleksander solzhenitsyn accuses...</td>\n",
       "      <td>americas refuses israel weapons attack iran re...</td>\n",
       "      <td>america refus israel weapon attack iran report...</td>\n",
       "    </tr>\n",
       "    <tr>\n",
       "      <th>4</th>\n",
       "      <td>2008-08-15</td>\n",
       "      <td>1</td>\n",
       "      <td>experts admit legalise drugs</td>\n",
       "      <td>war south osetia pictures made russian soldier</td>\n",
       "      <td>swedish wrestler ara abrahamian throws away me...</td>\n",
       "      <td>russia exaggerated death toll south ossetia or...</td>\n",
       "      <td>missile killed inside pakistan may launched cia</td>\n",
       "      <td>rushdie condemns random house refusal publish ...</td>\n",
       "      <td>poland america agree missle defense deal inter...</td>\n",
       "      <td>russians conquer tblisi bet seriously bet</td>\n",
       "      <td>...</td>\n",
       "      <td>war caucasus much product american imperial dr...</td>\n",
       "      <td>non media photos south ossetiageorgia conflict</td>\n",
       "      <td>georgian tv reporter shot russian sniper live ...</td>\n",
       "      <td>saudi arabia mother moves block child marriage</td>\n",
       "      <td>taliban wages war humanitarian aid workers</td>\n",
       "      <td>russia world forget georgia territorial integrity</td>\n",
       "      <td>darfur rebels accuse sudan mounting major attack</td>\n",
       "      <td>philippines peace advocate say muslims need as...</td>\n",
       "      <td>experts admit legalise drugs war south osetia ...</td>\n",
       "      <td>expert admit legalis drug war south osetia pic...</td>\n",
       "    </tr>\n",
       "  </tbody>\n",
       "</table>\n",
       "<p>5 rows × 29 columns</p>\n",
       "</div>"
      ],
      "text/plain": [
       "         Date  Label                                               Top1  \\\n",
       "0  2008-08-11      1  georgia downs two russian warplanes countries ...   \n",
       "1  2008-08-12      0   wont america nato help us wont help us help iraq   \n",
       "2  2008-08-13      0  remember adorable year old sang opening ceremo...   \n",
       "3  2008-08-14      1  americas refuses israel weapons attack iran re...   \n",
       "4  2008-08-15      1                       experts admit legalise drugs   \n",
       "\n",
       "                                                Top2  \\\n",
       "0                       breaking musharraf impeached   \n",
       "1                   bush puts foot georgian conflict   \n",
       "2                      russia ends georgia operation   \n",
       "3  president ordered attack tskhinvali knew doome...   \n",
       "4     war south osetia pictures made russian soldier   \n",
       "\n",
       "                                                Top3  \\\n",
       "0  russia today columns troops roll south ossetia...   \n",
       "1  jewish georgian minister thanks israeli traini...   \n",
       "2                   sexual harassment would children   \n",
       "3              israel clears troops killed cameraman   \n",
       "4  swedish wrestler ara abrahamian throws away me...   \n",
       "\n",
       "                                                Top4  \\\n",
       "0  russian tanks moving towards capital south oss...   \n",
       "1  georgian army flees disarray russians advance ...   \n",
       "2  al qaeda losing support iraq brutal crackdown ...   \n",
       "3  britain policy tough drugs pointless says form...   \n",
       "4  russia exaggerated death toll south ossetia or...   \n",
       "\n",
       "                                                Top5  \\\n",
       "0  afghan children raped impunity american offici...   \n",
       "1           olympic opening ceremony fireworks faked   \n",
       "2          ceasefire georgia putin outmaneuvers west   \n",
       "3  body year old found trunk latest kidnapping vi...   \n",
       "4    missile killed inside pakistan may launched cia   \n",
       "\n",
       "                                                Top6  \\\n",
       "0  russian tanks entered south ossetia whilst geo...   \n",
       "1       mossad fraudulent new zealand passports iraq   \n",
       "2               microsoft intel tried kill xo laptop   \n",
       "3   china moved million quake survivors prefab homes   \n",
       "4  rushdie condemns random house refusal publish ...   \n",
       "\n",
       "                                                Top7  \\\n",
       "0  breaking georgia invades south ossetia russia ...   \n",
       "1       russia angered israeli military sale georgia   \n",
       "2          stratfor russo georgian war balance power   \n",
       "3  bush announces operation get americap russia g...   \n",
       "4  poland america agree missle defense deal inter...   \n",
       "\n",
       "                                                Top8  ...  \\\n",
       "0  enemy combatent trials nothing sham salim hama...  ...   \n",
       "1  american citizen living sossetia blames americ...  ...   \n",
       "2  trying get sense whole georgia russia war vote...  ...   \n",
       "3                 russian forces sink georgian ships  ...   \n",
       "4          russians conquer tblisi bet seriously bet  ...   \n",
       "\n",
       "                                               Top18  \\\n",
       "0  condoleezza rice america would act prevent isr...   \n",
       "1  riots still going montreal police murdered boy...   \n",
       "2  gorbachev accuses americas making serious blun...   \n",
       "3                  georgia ddos came america sources   \n",
       "4  war caucasus much product american imperial dr...   \n",
       "\n",
       "                                               Top19  \\\n",
       "0  busy day european americanion approved new san...   \n",
       "1        china overtake america largest manufacturer   \n",
       "2                   russia georgia nato cold war two   \n",
       "3       russian convoy heads georgia violating truce   \n",
       "4     non media photos south ossetiageorgia conflict   \n",
       "\n",
       "                                               Top20  \\\n",
       "0  georgia withdraw soldiers iraq help fight russ...   \n",
       "1                                  war south ossetia   \n",
       "2  remember adorable year old led country war bas...   \n",
       "3       israeli defence minister america strike iran   \n",
       "4  georgian tv reporter shot russian sniper live ...   \n",
       "\n",
       "                                               Top21  \\\n",
       "0  pentagon thinks attacking iran bad idea americ...   \n",
       "1    israeli physicians group condemns state torture   \n",
       "2                     war georgia israeli connection   \n",
       "3                                   gorbachev choice   \n",
       "4     saudi arabia mother moves block child marriage   \n",
       "\n",
       "                                               Top22  \\\n",
       "0      caucasus crisis georgia invades south ossetia   \n",
       "1    russia beaten americanited states head peak oil   \n",
       "2  signs point america encouraging georgia invade...   \n",
       "3  witness russian forces head towards tbilisi br...   \n",
       "4         taliban wages war humanitarian aid workers   \n",
       "\n",
       "                                               Top23  \\\n",
       "0           indian shoe manufactory series like work   \n",
       "1           perhaps question georgia russia conflict   \n",
       "2  christopher king argues america nato behind ge...   \n",
       "3      quarter russians blame americas conflict poll   \n",
       "4  russia world forget georgia territorial integrity   \n",
       "\n",
       "                                               Top24  \\\n",
       "0  visitors suffering mental illnesses banned oly...   \n",
       "1                             russia much better war   \n",
       "2                                 america new mexico   \n",
       "3  georgian president says america military take ...   \n",
       "4   darfur rebels accuse sudan mounting major attack   \n",
       "\n",
       "                                               Top25  \\\n",
       "0                       help mexico kidnapping surge   \n",
       "1                              come trading sex food   \n",
       "2                asia pacific extinction man climate   \n",
       "3  nobel laureate aleksander solzhenitsyn accuses...   \n",
       "4  philippines peace advocate say muslims need as...   \n",
       "\n",
       "                                       combined_news  \\\n",
       "0  georgia downs two russian warplanes countries ...   \n",
       "1  wont america nato help us wont help us help ir...   \n",
       "2  remember adorable year old sang opening ceremo...   \n",
       "3  americas refuses israel weapons attack iran re...   \n",
       "4  experts admit legalise drugs war south osetia ...   \n",
       "\n",
       "                                  stem_combined_news  \n",
       "0  georgia down two russian warplan countri move ...  \n",
       "1  wont america nato help us wont help us help ir...  \n",
       "2  rememb ador year old sang open ceremoni fake r...  \n",
       "3  america refus israel weapon attack iran report...  \n",
       "4  expert admit legalis drug war south osetia pic...  \n",
       "\n",
       "[5 rows x 29 columns]"
      ]
     },
     "execution_count": 97,
     "metadata": {},
     "output_type": "execute_result"
    }
   ],
   "source": [
    "news_djia.head()"
   ]
  },
  {
   "cell_type": "code",
   "execution_count": 18,
   "metadata": {},
   "outputs": [],
   "source": [
    "X_other_train = news_djia[news_djia['Date'] < '2015-01-01']['stem_combined_news'] ## selectionner l'ensemble des titres de 08/08/2008 au 31/12/2014   \n",
    "X_other_test = news_djia[news_djia['Date'] > '2014-12-31']['stem_combined_news'] ## selectionner l'ensemble des titres de 01/01/2015 au 01/07/2016"
   ]
  },
  {
   "cell_type": "code",
   "execution_count": 99,
   "metadata": {},
   "outputs": [
    {
     "name": "stdout",
     "output_type": "stream",
     "text": [
      "1610\n",
      "378\n"
     ]
    }
   ],
   "source": [
    "print(len(X_other_train))\n",
    "print(len(X_other_test))"
   ]
  },
  {
   "cell_type": "code",
   "execution_count": 28,
   "metadata": {},
   "outputs": [],
   "source": [
    "tfvec = TfidfVectorizer(min_df=0.01,ngram_range = (3, 3))"
   ]
  },
  {
   "cell_type": "code",
   "execution_count": 29,
   "metadata": {},
   "outputs": [
    {
     "name": "stdout",
     "output_type": "stream",
     "text": [
      "Logistic Regression accuracy: 0.516 \n",
      "Logistic Regression AUC: 0.511 \n",
      "Predicted  0.0  1.0\n",
      "Actual             \n",
      "0.0         40  146\n",
      "1.0         37  155\n"
     ]
    },
    {
     "name": "stderr",
     "output_type": "stream",
     "text": [
      "C:\\Users\\jeane\\anaconda3\\lib\\site-packages\\sklearn\\utils\\validation.py:73: DataConversionWarning: A column-vector y was passed when a 1d array was expected. Please change the shape of y to (n_samples, ), for example using ravel().\n",
      "  return f(**kwargs)\n"
     ]
    }
   ],
   "source": [
    "# using LogisticRegression\n",
    "logReg_pipeline = Pipeline([\n",
    "   (\"tfidf vectorizer\", tfvec),\n",
    "    ('LogR_model', LogisticRegression())\n",
    "])\n",
    "\n",
    "\n",
    "logReg_pipeline.fit(X_other_train, Y_train)\n",
    "Y_pred_logReg = logReg_pipeline.predict(X_other_test).ravel()\n",
    "fpr_logReg, tpr_logReg, thresholds_logReg = roc_curve(Y_test, Y_pred_logReg)\n",
    "auc_logReg = auc(fpr_logReg, tpr_logReg)\n",
    "accuracy_logReg = accuracy_score(Y_test,Y_pred_logReg) ##accuracy\n",
    "print(\"Logistic Regression accuracy: %0.3f \" % (accuracy_logReg))\n",
    "print(\"Logistic Regression AUC: %0.3f \" % (auc_logReg))\n",
    "print(pd.crosstab(Y_test.ravel(), Y_pred_logReg, rownames=[\"Actual\"], colnames=[\"Predicted\"]))"
   ]
  },
  {
   "cell_type": "code",
   "execution_count": 117,
   "metadata": {},
   "outputs": [
    {
     "name": "stdout",
     "output_type": "stream",
     "text": [
      "0.5677018633540373\n"
     ]
    }
   ],
   "source": [
    "##accuracy on train set with the logReg\n",
    "Y_pred_logReg_train = logReg_pipeline.predict(X_other_train).ravel()\n",
    "accuracy_logReg = accuracy_score(Y_train,Y_pred_logReg_train)\n",
    "print(accuracy_logReg)"
   ]
  },
  {
   "cell_type": "code",
   "execution_count": 30,
   "metadata": {},
   "outputs": [
    {
     "name": "stderr",
     "output_type": "stream",
     "text": [
      "C:\\Users\\jeane\\anaconda3\\lib\\site-packages\\sklearn\\utils\\validation.py:73: DataConversionWarning: A column-vector y was passed when a 1d array was expected. Please change the shape of y to (n_samples, ), for example using ravel().\n",
      "  return f(**kwargs)\n"
     ]
    },
    {
     "name": "stdout",
     "output_type": "stream",
     "text": [
      "Linear SV accuracy: 0.508 \n",
      "Linear SV AUC: 0.504 \n",
      "Predicted  0.0  1.0\n",
      "Actual             \n",
      "0.0         45  141\n",
      "1.0         45  147\n"
     ]
    }
   ],
   "source": [
    "# using SVM\n",
    "svm_pipeline = Pipeline([\n",
    "    (\"tfidf vectorizer\", tfvec),\n",
    "    ('svm_model', svm.LinearSVC())\n",
    "])\n",
    "\n",
    "svm_pipeline.fit(X_other_train, Y_train)\n",
    "Y_pred_svm = svm_pipeline.predict(X_other_test).ravel()\n",
    "fpr_svm, tpr_svm, thresholds_svm = roc_curve(Y_test, Y_pred_svm)\n",
    "auc_svm = auc(fpr_svm, tpr_svm)\n",
    "accuracy_svm = accuracy_score(Y_test,Y_pred_svm) ##accuracy\n",
    "print(\"Linear SV accuracy: %0.3f \" % (accuracy_svm))\n",
    "print(\"Linear SV AUC: %0.3f \" % (auc_svm))\n",
    "print(pd.crosstab(Y_test.ravel(), Y_pred_svm, rownames=[\"Actual\"], colnames=[\"Predicted\"]))"
   ]
  },
  {
   "cell_type": "code",
   "execution_count": 119,
   "metadata": {},
   "outputs": [
    {
     "name": "stdout",
     "output_type": "stream",
     "text": [
      "0.5658385093167702\n"
     ]
    }
   ],
   "source": [
    "##accuracy on train set with the linear sv\n",
    "Y_pred_svm_train = svm_pipeline.predict(X_other_train).ravel()\n",
    "accuracy_svm = accuracy_score(Y_train,Y_pred_svm_train)\n",
    "print(accuracy_svm)"
   ]
  },
  {
   "cell_type": "code",
   "execution_count": 36,
   "metadata": {},
   "outputs": [
    {
     "name": "stdout",
     "output_type": "stream",
     "text": [
      "Random forest accuracy: 0.516 \n",
      "Random forest AUC: 0.512 \n",
      "Predicted  0.0  1.0\n",
      "Actual             \n",
      "0.0         45  141\n",
      "1.0         42  150\n"
     ]
    }
   ],
   "source": [
    "# using random forest\n",
    "rf_pipeline = Pipeline([\n",
    "    ('tfidf vectorizer', tfvec),\n",
    "    ('rf_model', RandomForestClassifier(n_estimators=400, n_jobs=4))\n",
    "])\n",
    "\n",
    "rf_pipeline.fit(X_other_train, Y_train.ravel())\n",
    "Y_pred_rf = rf_pipeline.predict(X_other_test).ravel()\n",
    "fpr_rf, tpr_rf, thresholds_rf = roc_curve(Y_test, Y_pred_rf)\n",
    "auc_rf = auc(fpr_rf, tpr_rf)\n",
    "accuracy_rf = accuracy_score(Y_test,Y_pred_rf) ##accuracy\n",
    "print(\"Random forest accuracy: %0.3f \" % (accuracy_rf))\n",
    "print(\"Random forest AUC: %0.3f \" % (auc_rf))\n",
    "print(pd.crosstab(Y_test.ravel(), Y_pred_rf, rownames=[\"Actual\"], colnames=[\"Predicted\"]))"
   ]
  },
  {
   "cell_type": "code",
   "execution_count": 120,
   "metadata": {},
   "outputs": [
    {
     "name": "stdout",
     "output_type": "stream",
     "text": [
      "0.6701863354037267\n"
     ]
    }
   ],
   "source": [
    "##accuracy on train set with the RF\n",
    "Y_pred_rf_train = rf_pipeline.predict(X_other_train).ravel()\n",
    "accuracy_rf = accuracy_score(Y_train,Y_pred_rf_train)\n",
    "print(accuracy_rf)"
   ]
  },
  {
   "cell_type": "code",
   "execution_count": 27,
   "metadata": {},
   "outputs": [
    {
     "name": "stderr",
     "output_type": "stream",
     "text": [
      "C:\\Users\\jeane\\anaconda3\\lib\\site-packages\\sklearn\\utils\\validation.py:73: DataConversionWarning: A column-vector y was passed when a 1d array was expected. Please change the shape of y to (n_samples, ), for example using ravel().\n",
      "  return f(**kwargs)\n"
     ]
    },
    {
     "name": "stdout",
     "output_type": "stream",
     "text": [
      "Passive aggressive classifier accuracy: 0.519 \n",
      "Passive aggressive classifier AUC: 0.513 \n",
      "Predicted  0.0  1.0\n",
      "Actual             \n",
      "0.0         34  152\n",
      "1.0         30  162\n"
     ]
    }
   ],
   "source": [
    "# using Passive aggressive classifier\n",
    "pac_pipeline = Pipeline([\n",
    "     ('tfidf vectorizer', tfvec),\n",
    "    ('pac',PassiveAggressiveClassifier())\n",
    "])\n",
    "\n",
    "pac_pipeline.fit(X_other_train, Y_train)\n",
    "Y_pred_pac = pac_pipeline.predict(X_other_test).ravel()\n",
    "fpr_pac, tpr_pac, thresholds_pac = roc_curve(Y_test, Y_pred_pac)\n",
    "auc_pac = auc(fpr_pac, tpr_pac)\n",
    "accuracy_pac = accuracy_score(Y_test,Y_pred_pac) ##accuracy\n",
    "print(\"Passive aggressive classifier accuracy: %0.3f \" % (accuracy_pac))\n",
    "print(\"Passive aggressive classifier AUC: %0.3f \" % (auc_pac))\n",
    "print(pd.crosstab(Y_test.ravel(), Y_pred_pac, rownames=[\"Actual\"], colnames=[\"Predicted\"]))"
   ]
  },
  {
   "cell_type": "code",
   "execution_count": 121,
   "metadata": {},
   "outputs": [
    {
     "name": "stdout",
     "output_type": "stream",
     "text": [
      "0.4925465838509317\n"
     ]
    }
   ],
   "source": [
    "##accuracy on train set with the PAC\n",
    "Y_pred_pac_train = pac_pipeline.predict(X_other_train).ravel()\n",
    "accuracy_pac = accuracy_score(Y_train,Y_pred_pac_train)\n",
    "print(accuracy_pac)"
   ]
  },
  {
   "cell_type": "code",
   "execution_count": null,
   "metadata": {},
   "outputs": [],
   "source": [
    "Y_pred_pac = pac_pipeline.predict(X_other_test).ravel()\n"
   ]
  },
  {
   "cell_type": "code",
   "execution_count": 116,
   "metadata": {},
   "outputs": [
    {
     "data": {
      "image/png": "[encoded data removed]",
      "text/plain": [
       "<Figure size 432x288 with 1 Axes>"
      ]
     },
     "metadata": {},
     "output_type": "display_data"
    },
    {
     "data": {
      "text/plain": [
       "<Figure size 432x288 with 0 Axes>"
      ]
     },
     "metadata": {},
     "output_type": "display_data"
    }
   ],
   "source": [
    "plt.figure(1)\n",
    "plt.plot([0, 1], [0, 1], 'k--')\n",
    "plt.plot(fpr_rnn, tpr_rnn, label='RNN (area = {:.3f})'.format(auc_rnn))\n",
    "plt.plot(fpr_logReg, tpr_logReg, label='LR (area = {:.3f})'.format(auc_logReg))\n",
    "plt.plot(fpr_svm, tpr_svm, label='L SVM (area = {:.3f})'.format(auc_svm))\n",
    "plt.plot(fpr_rf, tpr_rf, label='RF (area = {:.3f})'.format(auc_rf))\n",
    "plt.plot(fpr_pac, tpr_pac, label='PAC (area = {:.3f})'.format(auc_pac))\n",
    "plt.xlabel('False positive rate')\n",
    "plt.ylabel('True positive rate')\n",
    "plt.title('ROC curve')\n",
    "plt.legend(loc='best')\n",
    "plt.show()\n",
    "plt.savefig(\"ROC.PNG\")"
   ]
  }
 ],
 "metadata": {
  "kernelspec": {
   "display_name": "Python 3",
   "language": "python",
   "name": "python3"
  },
  "language_info": {
   "codemirror_mode": {
    "name": "ipython",
    "version": 3
   },
   "file_extension": ".py",
   "mimetype": "text/x-python",
   "name": "python",
   "nbconvert_exporter": "python",
   "pygments_lexer": "ipython3",
   "version": "3.8.3"
  }
 },
 "nbformat": 4,
 "nbformat_minor": 2
}
