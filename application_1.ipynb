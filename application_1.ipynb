{
 "cells": [
  {
   "cell_type": "markdown",
   "metadata": {},
   "source": [
    "https://www.kaggle.com/ozgeozkaya/sick-dataset"
   ]
  },
  {
   "cell_type": "code",
   "execution_count": 1,
   "metadata": {},
   "outputs": [
    {
     "name": "stderr",
     "output_type": "stream",
     "text": [
      "[nltk_data] Downloading package punkt to\n",
      "[nltk_data]     C:\\Users\\jeane\\AppData\\Roaming\\nltk_data...\n",
      "[nltk_data]   Package punkt is already up-to-date!\n"
     ]
    }
   ],
   "source": [
    "##import all required pakages\n",
    "import pandas as pd\n",
    "import numpy as np\n",
    "import re\n",
    "import string\n",
    "import nltk\n",
    "nltk.download(\"punkt\")\n",
    "from nltk.corpus import stopwords\n",
    "from nltk.tokenize import word_tokenize"
   ]
  },
  {
   "cell_type": "code",
   "execution_count": 2,
   "metadata": {},
   "outputs": [],
   "source": [
    "from nltk.corpus import stopwords\n",
    "from nltk.stem import SnowballStemmer"
   ]
  },
  {
   "cell_type": "code",
   "execution_count": 3,
   "metadata": {},
   "outputs": [],
   "source": [
    "stemmer = SnowballStemmer('english')"
   ]
  },
  {
   "cell_type": "code",
   "execution_count": 4,
   "metadata": {},
   "outputs": [],
   "source": [
    "import matplotlib.pyplot as plt\n",
    "import seaborn as sns\n",
    "%matplotlib inline"
   ]
  },
  {
   "cell_type": "code",
   "execution_count": 5,
   "metadata": {},
   "outputs": [
    {
     "name": "stderr",
     "output_type": "stream",
     "text": [
      "[nltk_data] Downloading package stopwords to\n",
      "[nltk_data]     C:\\Users\\jeane\\AppData\\Roaming\\nltk_data...\n",
      "[nltk_data]   Package stopwords is already up-to-date!\n"
     ]
    },
    {
     "data": {
      "text/plain": [
       "True"
      ]
     },
     "execution_count": 5,
     "metadata": {},
     "output_type": "execute_result"
    }
   ],
   "source": [
    "nltk.download('stopwords')"
   ]
  },
  {
   "cell_type": "code",
   "execution_count": null,
   "metadata": {},
   "outputs": [],
   "source": [
    "import random\n",
    "from sklearn.model_selection import train_test_split\n",
    "from sklearn.preprocessing import LabelBinarizer"
   ]
  },
  {
   "cell_type": "code",
   "execution_count": null,
   "metadata": {},
   "outputs": [],
   "source": [
    "##need to install VC_redist.x64 before installing tensorflow"
   ]
  },
  {
   "cell_type": "code",
   "execution_count": null,
   "metadata": {},
   "outputs": [],
   "source": [
    "pip install tensorflow"
   ]
  },
  {
   "cell_type": "code",
   "execution_count": null,
   "metadata": {},
   "outputs": [],
   "source": [
    "pip install keras"
   ]
  },
  {
   "cell_type": "code",
   "execution_count": 53,
   "metadata": {},
   "outputs": [],
   "source": [
    "import tensorflow as tf\n",
    "import keras\n",
    "from keras.preprocessing.text import Tokenizer\n",
    "from keras.preprocessing.sequence import pad_sequences\n",
    "from keras.models import Model\n",
    "from keras.layers import Bidirectional, Dense, Input, LSTM, Embedding, Dropout,Multiply,Concatenate, Activation,Lambda, Subtract,Flatten,TimeDistributed\n",
    "from keras.layers.normalization import BatchNormalization\n",
    "from keras.preprocessing import sequence\n",
    "from keras.models import Sequential\n",
    "from keras.initializers import glorot_uniform\n",
    "from keras.optimizers import Adam\n",
    "from keras.utils import to_categorical\n",
    "import keras.metrics\n",
    "from keras.layers.embeddings import Embedding\n",
    "from keras import backend as K\n",
    "from keras.layers.core import Lambda\n",
    "from sklearn.metrics import confusion_matrix, f1_score"
   ]
  },
  {
   "cell_type": "code",
   "execution_count": 79,
   "metadata": {},
   "outputs": [],
   "source": [
    "from keras.layers import Conv1D\n",
    "from keras.layers import MaxPooling1D\n",
    "from keras.layers import Flatten\n",
    "from keras.layers.merge import concatenate"
   ]
  },
  {
   "cell_type": "code",
   "execution_count": 6,
   "metadata": {},
   "outputs": [],
   "source": [
    "##import the data : available on : https://www.kaggle.com/ozgeozkaya/sick-dataset\n",
    "data = pd.read_csv(\"D:/datasets_633450_1126605_SICK_train.txt\", header = 0 ,sep=\"\\t\")"
   ]
  },
  {
   "cell_type": "code",
   "execution_count": 7,
   "metadata": {},
   "outputs": [
    {
     "data": {
      "text/html": [
       "<div>\n",
       "<style scoped>\n",
       "    .dataframe tbody tr th:only-of-type {\n",
       "        vertical-align: middle;\n",
       "    }\n",
       "\n",
       "    .dataframe tbody tr th {\n",
       "        vertical-align: top;\n",
       "    }\n",
       "\n",
       "    .dataframe thead th {\n",
       "        text-align: right;\n",
       "    }\n",
       "</style>\n",
       "<table border=\"1\" class=\"dataframe\">\n",
       "  <thead>\n",
       "    <tr style=\"text-align: right;\">\n",
       "      <th></th>\n",
       "      <th>pair_ID</th>\n",
       "      <th>sentence_A</th>\n",
       "      <th>sentence_B</th>\n",
       "      <th>relatedness_score</th>\n",
       "      <th>entailment_judgment</th>\n",
       "    </tr>\n",
       "  </thead>\n",
       "  <tbody>\n",
       "    <tr>\n",
       "      <th>0</th>\n",
       "      <td>1</td>\n",
       "      <td>A group of kids is playing in a yard and an ol...</td>\n",
       "      <td>A group of boys in a yard is playing and a man...</td>\n",
       "      <td>4.5</td>\n",
       "      <td>NEUTRAL</td>\n",
       "    </tr>\n",
       "    <tr>\n",
       "      <th>1</th>\n",
       "      <td>2</td>\n",
       "      <td>A group of children is playing in the house an...</td>\n",
       "      <td>A group of kids is playing in a yard and an ol...</td>\n",
       "      <td>3.2</td>\n",
       "      <td>NEUTRAL</td>\n",
       "    </tr>\n",
       "    <tr>\n",
       "      <th>2</th>\n",
       "      <td>3</td>\n",
       "      <td>The young boys are playing outdoors and the ma...</td>\n",
       "      <td>The kids are playing outdoors near a man with ...</td>\n",
       "      <td>4.7</td>\n",
       "      <td>ENTAILMENT</td>\n",
       "    </tr>\n",
       "    <tr>\n",
       "      <th>3</th>\n",
       "      <td>5</td>\n",
       "      <td>The kids are playing outdoors near a man with ...</td>\n",
       "      <td>A group of kids is playing in a yard and an ol...</td>\n",
       "      <td>3.4</td>\n",
       "      <td>NEUTRAL</td>\n",
       "    </tr>\n",
       "    <tr>\n",
       "      <th>4</th>\n",
       "      <td>9</td>\n",
       "      <td>The young boys are playing outdoors and the ma...</td>\n",
       "      <td>A group of kids is playing in a yard and an ol...</td>\n",
       "      <td>3.7</td>\n",
       "      <td>NEUTRAL</td>\n",
       "    </tr>\n",
       "    <tr>\n",
       "      <th>...</th>\n",
       "      <td>...</td>\n",
       "      <td>...</td>\n",
       "      <td>...</td>\n",
       "      <td>...</td>\n",
       "      <td>...</td>\n",
       "    </tr>\n",
       "    <tr>\n",
       "      <th>4495</th>\n",
       "      <td>9993</td>\n",
       "      <td>A door is being opened by a man</td>\n",
       "      <td>A bald man in a band is playing guitar in the ...</td>\n",
       "      <td>1.1</td>\n",
       "      <td>NEUTRAL</td>\n",
       "    </tr>\n",
       "    <tr>\n",
       "      <th>4496</th>\n",
       "      <td>9997</td>\n",
       "      <td>Someone is boiling okra in a pot</td>\n",
       "      <td>The man is not playing the drums</td>\n",
       "      <td>1.0</td>\n",
       "      <td>NEUTRAL</td>\n",
       "    </tr>\n",
       "    <tr>\n",
       "      <th>4497</th>\n",
       "      <td>9998</td>\n",
       "      <td>The man is singing heartily and playing the gu...</td>\n",
       "      <td>A bicyclist is holding a bike over his head in...</td>\n",
       "      <td>1.0</td>\n",
       "      <td>NEUTRAL</td>\n",
       "    </tr>\n",
       "    <tr>\n",
       "      <th>4498</th>\n",
       "      <td>9999</td>\n",
       "      <td>A man in blue has a yellow ball in the mitt</td>\n",
       "      <td>A man is jumping rope outside</td>\n",
       "      <td>1.2</td>\n",
       "      <td>NEUTRAL</td>\n",
       "    </tr>\n",
       "    <tr>\n",
       "      <th>4499</th>\n",
       "      <td>10000</td>\n",
       "      <td>Three dogs are resting on a sidewalk</td>\n",
       "      <td>The woman with a knife is slicing a pepper</td>\n",
       "      <td>1.0</td>\n",
       "      <td>NEUTRAL</td>\n",
       "    </tr>\n",
       "  </tbody>\n",
       "</table>\n",
       "<p>4500 rows × 5 columns</p>\n",
       "</div>"
      ],
      "text/plain": [
       "      pair_ID                                         sentence_A  \\\n",
       "0           1  A group of kids is playing in a yard and an ol...   \n",
       "1           2  A group of children is playing in the house an...   \n",
       "2           3  The young boys are playing outdoors and the ma...   \n",
       "3           5  The kids are playing outdoors near a man with ...   \n",
       "4           9  The young boys are playing outdoors and the ma...   \n",
       "...       ...                                                ...   \n",
       "4495     9993                    A door is being opened by a man   \n",
       "4496     9997                   Someone is boiling okra in a pot   \n",
       "4497     9998  The man is singing heartily and playing the gu...   \n",
       "4498     9999        A man in blue has a yellow ball in the mitt   \n",
       "4499    10000               Three dogs are resting on a sidewalk   \n",
       "\n",
       "                                             sentence_B  relatedness_score  \\\n",
       "0     A group of boys in a yard is playing and a man...                4.5   \n",
       "1     A group of kids is playing in a yard and an ol...                3.2   \n",
       "2     The kids are playing outdoors near a man with ...                4.7   \n",
       "3     A group of kids is playing in a yard and an ol...                3.4   \n",
       "4     A group of kids is playing in a yard and an ol...                3.7   \n",
       "...                                                 ...                ...   \n",
       "4495  A bald man in a band is playing guitar in the ...                1.1   \n",
       "4496                   The man is not playing the drums                1.0   \n",
       "4497  A bicyclist is holding a bike over his head in...                1.0   \n",
       "4498                      A man is jumping rope outside                1.2   \n",
       "4499         The woman with a knife is slicing a pepper                1.0   \n",
       "\n",
       "     entailment_judgment  \n",
       "0                NEUTRAL  \n",
       "1                NEUTRAL  \n",
       "2             ENTAILMENT  \n",
       "3                NEUTRAL  \n",
       "4                NEUTRAL  \n",
       "...                  ...  \n",
       "4495             NEUTRAL  \n",
       "4496             NEUTRAL  \n",
       "4497             NEUTRAL  \n",
       "4498             NEUTRAL  \n",
       "4499             NEUTRAL  \n",
       "\n",
       "[4500 rows x 5 columns]"
      ]
     },
     "metadata": {},
     "output_type": "display_data"
    }
   ],
   "source": [
    "display(data)"
   ]
  },
  {
   "cell_type": "code",
   "execution_count": 8,
   "metadata": {},
   "outputs": [
    {
     "data": {
      "text/plain": [
       "'A group of children is playing in the house and there is no man standing in the background'"
      ]
     },
     "execution_count": 8,
     "metadata": {},
     "output_type": "execute_result"
    }
   ],
   "source": [
    "data.iloc[1,1]"
   ]
  },
  {
   "cell_type": "code",
   "execution_count": 9,
   "metadata": {},
   "outputs": [
    {
     "data": {
      "text/plain": [
       "'A group of kids is playing in a yard and an old man is standing in the background'"
      ]
     },
     "execution_count": 9,
     "metadata": {},
     "output_type": "execute_result"
    }
   ],
   "source": [
    "data.iloc[1,2]"
   ]
  },
  {
   "cell_type": "code",
   "execution_count": 10,
   "metadata": {},
   "outputs": [
    {
     "data": {
      "text/plain": [
       "'A man in a shirt dyed purple is walking away from a man in a black shirt, who is serious'"
      ]
     },
     "execution_count": 10,
     "metadata": {},
     "output_type": "execute_result"
    }
   ],
   "source": [
    "data.iloc[420,1]"
   ]
  },
  {
   "cell_type": "code",
   "execution_count": 11,
   "metadata": {},
   "outputs": [
    {
     "data": {
      "image/png": "[encoded data removed]",
      "text/plain": [
       "<Figure size 432x288 with 1 Axes>"
      ]
     },
     "metadata": {},
     "output_type": "display_data"
    }
   ],
   "source": [
    "##barplot of the 'entailment_judgment' variable \n",
    "\n",
    "plt.style.use('ggplot')\n",
    "sns.countplot(x='entailment_judgment', hue='entailment_judgment', data=data)\n",
    "plt.savefig(\"stat_desc\")"
   ]
  },
  {
   "cell_type": "code",
   "execution_count": 102,
   "metadata": {},
   "outputs": [
    {
     "name": "stdout",
     "output_type": "stream",
     "text": [
      "665\n",
      "2536\n",
      "1299\n"
     ]
    }
   ],
   "source": [
    "##categories size in the dataset \n",
    "\n",
    "print(data[\"entailment_judgment\"].tolist().count('CONTRADICTION'))\n",
    "print(data[\"entailment_judgment\"].tolist().count('NEUTRAL'))\n",
    "print(data[\"entailment_judgment\"].tolist().count('ENTAILMENT'))"
   ]
  },
  {
   "cell_type": "code",
   "execution_count": 12,
   "metadata": {},
   "outputs": [],
   "source": [
    "##recode the the 'entailment_judgment' variable \n",
    "\n",
    "conditions = [\n",
    "        (data['entailment_judgment'] == 'CONTRADICTION'),\n",
    "        (data['entailment_judgment'] == 'NEUTRAL'),\n",
    "        (data['entailment_judgment'] == 'ENTAILMENT')]\n",
    "choices = [0,1,2]"
   ]
  },
  {
   "cell_type": "code",
   "execution_count": 13,
   "metadata": {},
   "outputs": [],
   "source": [
    "data['Y'] = np.select(conditions, choices)"
   ]
  },
  {
   "cell_type": "markdown",
   "metadata": {},
   "source": [
    "Dans la suite de nous auront à preprocess le dataset.\n",
    "La base de données est assez propores, de ce fait nous n'avons pas à enlever des caractères indésirables. Les phrases qui sont dans notre base de données ne sont pas trop longues, de plus certaines paires ne diffèrent rien que par la négation. Nous avons donc décider de ne pas enlever les stopwords. \n",
    "\n",
    "Nous aurons à remplacer les expresions contractées par leurs formes pleines\n",
    "Enlever la ponctuation\n",
    "Utiliser snow\n"
   ]
  },
  {
   "cell_type": "code",
   "execution_count": 18,
   "metadata": {},
   "outputs": [],
   "source": [
    "## define a data preprocessing function\n",
    "\n",
    "def clean_sentence(x,stem_words=True):                            \n",
    "    tokens = word_tokenize(x)  ## tokenize\n",
    "    tokens = [w.lower() for w in tokens] ## lowercase\n",
    "    table = str.maketrans('', '', string.punctuation) ## remove ponctuation\n",
    "    words = [w.translate(table) for w in tokens]\n",
    "    if stem_words:                                    ##stem if you want\n",
    "        words = [stemmer.stem(word) for word in words] \n",
    "    text = \" \".join(words)\n",
    "    return text\n",
    "\n",
    "###define a sub-function that removes undesirable characters, and replace contracted forms\n",
    "def general_clean_text(column_text,stem_words=True):    \n",
    "    \n",
    "    \n",
    "    column_text = column_text.apply(lambda x: re.sub(r\"[^A-Za-z0-9^,!.\\/'+-=]\", \" \", x))\n",
    "    \n",
    "    \n",
    "    column_text = column_text.apply(lambda x: re.sub(r\"what's\", \"what is \", x)) \n",
    "    \n",
    "    \n",
    "    column_text = column_text.apply(lambda x: re.sub(r\"\\'s\", \" \", x))\n",
    "    \n",
    "    column_text = column_text.apply(lambda x: re.sub(r\"\\'ve\", \" have \", x))\n",
    "    \n",
    "    \n",
    "    column_text = column_text.apply(lambda x: re.sub(r\"can't\", \"cannot \", x))\n",
    "    \n",
    "    \n",
    "    column_text = column_text.apply(lambda x: re.sub(r\"n't\", \" not \", x))\n",
    "    \n",
    "    \n",
    "    column_text = column_text.apply(lambda x: re.sub(r\"i'm\", \"i am \", x))\n",
    "    \n",
    "    \n",
    "    column_text = column_text.apply(lambda x: re.sub(r\"\\'re\", \" are \", x))\n",
    "    \n",
    "    \n",
    "    column_text = column_text.apply(lambda x: re.sub(r\"\\'d\", \" would \", x))\n",
    "    \n",
    "    \n",
    "    column_text = column_text.apply(lambda x: re.sub(r\"\\'ll\", \" will \", x))\n",
    "    \n",
    "    column_text = column_text.apply(lambda x: clean_sentence(x,stem_words))\n",
    "    \n",
    "    return column_text\n"
   ]
  },
  {
   "cell_type": "code",
   "execution_count": 19,
   "metadata": {},
   "outputs": [],
   "source": [
    "##apply the function\n",
    "\n",
    "data['sentence_A']=general_clean_text(data['sentence_A'],stem_words=False)\n",
    "data['sentence_B']=general_clean_text(data['sentence_B'],stem_words=False)"
   ]
  },
  {
   "cell_type": "code",
   "execution_count": 20,
   "metadata": {},
   "outputs": [
    {
     "data": {
      "text/html": [
       "<div>\n",
       "<style scoped>\n",
       "    .dataframe tbody tr th:only-of-type {\n",
       "        vertical-align: middle;\n",
       "    }\n",
       "\n",
       "    .dataframe tbody tr th {\n",
       "        vertical-align: top;\n",
       "    }\n",
       "\n",
       "    .dataframe thead th {\n",
       "        text-align: right;\n",
       "    }\n",
       "</style>\n",
       "<table border=\"1\" class=\"dataframe\">\n",
       "  <thead>\n",
       "    <tr style=\"text-align: right;\">\n",
       "      <th></th>\n",
       "      <th>pair_ID</th>\n",
       "      <th>sentence_A</th>\n",
       "      <th>sentence_B</th>\n",
       "      <th>relatedness_score</th>\n",
       "      <th>entailment_judgment</th>\n",
       "      <th>Y</th>\n",
       "    </tr>\n",
       "  </thead>\n",
       "  <tbody>\n",
       "    <tr>\n",
       "      <th>0</th>\n",
       "      <td>1</td>\n",
       "      <td>a group of kids is playing in a yard and an ol...</td>\n",
       "      <td>a group of boys in a yard is playing and a man...</td>\n",
       "      <td>4.5</td>\n",
       "      <td>NEUTRAL</td>\n",
       "      <td>1</td>\n",
       "    </tr>\n",
       "    <tr>\n",
       "      <th>1</th>\n",
       "      <td>2</td>\n",
       "      <td>a group of children is playing in the house an...</td>\n",
       "      <td>a group of kids is playing in a yard and an ol...</td>\n",
       "      <td>3.2</td>\n",
       "      <td>NEUTRAL</td>\n",
       "      <td>1</td>\n",
       "    </tr>\n",
       "    <tr>\n",
       "      <th>2</th>\n",
       "      <td>3</td>\n",
       "      <td>the young boys are playing outdoors and the ma...</td>\n",
       "      <td>the kids are playing outdoors near a man with ...</td>\n",
       "      <td>4.7</td>\n",
       "      <td>ENTAILMENT</td>\n",
       "      <td>2</td>\n",
       "    </tr>\n",
       "    <tr>\n",
       "      <th>3</th>\n",
       "      <td>5</td>\n",
       "      <td>the kids are playing outdoors near a man with ...</td>\n",
       "      <td>a group of kids is playing in a yard and an ol...</td>\n",
       "      <td>3.4</td>\n",
       "      <td>NEUTRAL</td>\n",
       "      <td>1</td>\n",
       "    </tr>\n",
       "    <tr>\n",
       "      <th>4</th>\n",
       "      <td>9</td>\n",
       "      <td>the young boys are playing outdoors and the ma...</td>\n",
       "      <td>a group of kids is playing in a yard and an ol...</td>\n",
       "      <td>3.7</td>\n",
       "      <td>NEUTRAL</td>\n",
       "      <td>1</td>\n",
       "    </tr>\n",
       "    <tr>\n",
       "      <th>...</th>\n",
       "      <td>...</td>\n",
       "      <td>...</td>\n",
       "      <td>...</td>\n",
       "      <td>...</td>\n",
       "      <td>...</td>\n",
       "      <td>...</td>\n",
       "    </tr>\n",
       "    <tr>\n",
       "      <th>4495</th>\n",
       "      <td>9993</td>\n",
       "      <td>a door is being opened by a man</td>\n",
       "      <td>a bald man in a band is playing guitar in the ...</td>\n",
       "      <td>1.1</td>\n",
       "      <td>NEUTRAL</td>\n",
       "      <td>1</td>\n",
       "    </tr>\n",
       "    <tr>\n",
       "      <th>4496</th>\n",
       "      <td>9997</td>\n",
       "      <td>someone is boiling okra in a pot</td>\n",
       "      <td>the man is not playing the drums</td>\n",
       "      <td>1.0</td>\n",
       "      <td>NEUTRAL</td>\n",
       "      <td>1</td>\n",
       "    </tr>\n",
       "    <tr>\n",
       "      <th>4497</th>\n",
       "      <td>9998</td>\n",
       "      <td>the man is singing heartily and playing the gu...</td>\n",
       "      <td>a bicyclist is holding a bike over his head in...</td>\n",
       "      <td>1.0</td>\n",
       "      <td>NEUTRAL</td>\n",
       "      <td>1</td>\n",
       "    </tr>\n",
       "    <tr>\n",
       "      <th>4498</th>\n",
       "      <td>9999</td>\n",
       "      <td>a man in blue has a yellow ball in the mitt</td>\n",
       "      <td>a man is jumping rope outside</td>\n",
       "      <td>1.2</td>\n",
       "      <td>NEUTRAL</td>\n",
       "      <td>1</td>\n",
       "    </tr>\n",
       "    <tr>\n",
       "      <th>4499</th>\n",
       "      <td>10000</td>\n",
       "      <td>three dogs are resting on a sidewalk</td>\n",
       "      <td>the woman with a knife is slicing a pepper</td>\n",
       "      <td>1.0</td>\n",
       "      <td>NEUTRAL</td>\n",
       "      <td>1</td>\n",
       "    </tr>\n",
       "  </tbody>\n",
       "</table>\n",
       "<p>4500 rows × 6 columns</p>\n",
       "</div>"
      ],
      "text/plain": [
       "      pair_ID                                         sentence_A  \\\n",
       "0           1  a group of kids is playing in a yard and an ol...   \n",
       "1           2  a group of children is playing in the house an...   \n",
       "2           3  the young boys are playing outdoors and the ma...   \n",
       "3           5  the kids are playing outdoors near a man with ...   \n",
       "4           9  the young boys are playing outdoors and the ma...   \n",
       "...       ...                                                ...   \n",
       "4495     9993                    a door is being opened by a man   \n",
       "4496     9997                   someone is boiling okra in a pot   \n",
       "4497     9998  the man is singing heartily and playing the gu...   \n",
       "4498     9999        a man in blue has a yellow ball in the mitt   \n",
       "4499    10000               three dogs are resting on a sidewalk   \n",
       "\n",
       "                                             sentence_B  relatedness_score  \\\n",
       "0     a group of boys in a yard is playing and a man...                4.5   \n",
       "1     a group of kids is playing in a yard and an ol...                3.2   \n",
       "2     the kids are playing outdoors near a man with ...                4.7   \n",
       "3     a group of kids is playing in a yard and an ol...                3.4   \n",
       "4     a group of kids is playing in a yard and an ol...                3.7   \n",
       "...                                                 ...                ...   \n",
       "4495  a bald man in a band is playing guitar in the ...                1.1   \n",
       "4496                   the man is not playing the drums                1.0   \n",
       "4497  a bicyclist is holding a bike over his head in...                1.0   \n",
       "4498                      a man is jumping rope outside                1.2   \n",
       "4499         the woman with a knife is slicing a pepper                1.0   \n",
       "\n",
       "     entailment_judgment  Y  \n",
       "0                NEUTRAL  1  \n",
       "1                NEUTRAL  1  \n",
       "2             ENTAILMENT  2  \n",
       "3                NEUTRAL  1  \n",
       "4                NEUTRAL  1  \n",
       "...                  ... ..  \n",
       "4495             NEUTRAL  1  \n",
       "4496             NEUTRAL  1  \n",
       "4497             NEUTRAL  1  \n",
       "4498             NEUTRAL  1  \n",
       "4499             NEUTRAL  1  \n",
       "\n",
       "[4500 rows x 6 columns]"
      ]
     },
     "metadata": {},
     "output_type": "display_data"
    }
   ],
   "source": [
    "display(data)"
   ]
  },
  {
   "cell_type": "code",
   "execution_count": 33,
   "metadata": {},
   "outputs": [],
   "source": [
    "##split into train set and test set (validation set more precisely)\n",
    "\n",
    "X_train, X_test, Y_train, Y_test = train_test_split(data.iloc[:,1:3],data[\"Y\"],test_size=0.3,random_state=random.seed(2))"
   ]
  },
  {
   "cell_type": "code",
   "execution_count": 34,
   "metadata": {},
   "outputs": [
    {
     "name": "stdout",
     "output_type": "stream",
     "text": [
      "3150\n",
      "1350\n"
     ]
    }
   ],
   "source": [
    "print(len(X_train))\n",
    "print(len(X_test))"
   ]
  },
  {
   "cell_type": "code",
   "execution_count": 109,
   "metadata": {},
   "outputs": [
    {
     "name": "stdout",
     "output_type": "stream",
     "text": [
      "199\n",
      "765\n",
      "386\n"
     ]
    }
   ],
   "source": [
    "##categories size in the test set\n",
    "\n",
    "print(Y_test.tolist().count(0))\n",
    "print(Y_test.tolist().count(1))\n",
    "print(Y_test.tolist().count(2))"
   ]
  },
  {
   "cell_type": "code",
   "execution_count": 35,
   "metadata": {},
   "outputs": [
    {
     "data": {
      "text/plain": [
       "<matplotlib.axes._subplots.AxesSubplot at 0x1c500dae280>"
      ]
     },
     "execution_count": 35,
     "metadata": {},
     "output_type": "execute_result"
    },
    {
     "data": {
      "image/png": "[encoded data removed]",
      "text/plain": [
       "<Figure size 432x288 with 1 Axes>"
      ]
     },
     "metadata": {},
     "output_type": "display_data"
    }
   ],
   "source": [
    "plt.style.use('ggplot')\n",
    "sns.countplot(x=Y_train, hue=Y_train)"
   ]
  },
  {
   "cell_type": "code",
   "execution_count": 36,
   "metadata": {},
   "outputs": [],
   "source": [
    "## tranform the target variable into one-hot-encoding variable\n",
    "\n",
    "Y_train_onehot=LabelBinarizer().fit_transform(Y_train)\n",
    "Y_test_onehot=LabelBinarizer().fit_transform(Y_test)"
   ]
  },
  {
   "cell_type": "code",
   "execution_count": 39,
   "metadata": {},
   "outputs": [],
   "source": [
    "##combine the pair of sentences in a column named 'text'\n",
    "\n",
    "data['text'] = data[['sentence_A','sentence_B']].apply(lambda x:str(x[0])+\" \"+str(x[1]), axis=1)"
   ]
  },
  {
   "cell_type": "code",
   "execution_count": 40,
   "metadata": {},
   "outputs": [],
   "source": [
    "##tokenize the entire text in the coulmn text\n",
    "\n",
    "tokenizer_obj = Tokenizer()\n",
    "tokenizer_obj.fit_on_texts(data['text'].values)"
   ]
  },
  {
   "cell_type": "code",
   "execution_count": 41,
   "metadata": {},
   "outputs": [
    {
     "data": {
      "text/plain": [
       "2168"
      ]
     },
     "execution_count": 41,
     "metadata": {},
     "output_type": "execute_result"
    }
   ],
   "source": [
    "##assign an inter to each word found in the text column\n",
    "\n",
    "tokenizer_obj.word_index \n",
    "len(tokenizer_obj.word_index) ##nomber of unique words"
   ]
  },
  {
   "cell_type": "code",
   "execution_count": 42,
   "metadata": {},
   "outputs": [],
   "source": [
    "##transform the the columns of data frame into lists\n",
    "X_train_sentA=X_train['sentence_A'].tolist()\n",
    "X_train_sentB=X_train['sentence_B'].tolist()\n",
    "X_test_sentA=X_test['sentence_A'].tolist()\n",
    "X_test_sentB=X_test['sentence_B'].tolist()\n",
    "\n",
    "\n",
    "##vectorize  text corpus, by turning each text into a sequence of integers \n",
    "X_train_seqA = tokenizer_obj.texts_to_sequences(X_train_sentA)\n",
    "X_train_seqB = tokenizer_obj.texts_to_sequences(X_train_sentB)\n",
    "X_test_seqA = tokenizer_obj.texts_to_sequences(X_test_sentA)\n",
    "X_test_seqB = tokenizer_obj.texts_to_sequences(X_test_sentB)"
   ]
  },
  {
   "cell_type": "code",
   "execution_count": 43,
   "metadata": {},
   "outputs": [
    {
     "data": {
      "text/plain": [
       "['the black and white dog is running indoors',\n",
       " 'a great dog is climbing a steep hill']"
      ]
     },
     "execution_count": 43,
     "metadata": {},
     "output_type": "execute_result"
    }
   ],
   "source": [
    "X_train_sentA[0:2]"
   ]
  },
  {
   "cell_type": "code",
   "execution_count": 44,
   "metadata": {},
   "outputs": [
    {
     "data": {
      "text/plain": [
       "[[3, 27, 6, 24, 11, 2, 28, 621], [1, 1003, 11, 2, 90, 1, 712, 137]]"
      ]
     },
     "execution_count": 44,
     "metadata": {},
     "output_type": "execute_result"
    }
   ],
   "source": [
    "##each sentence is now a sequence of integer, this interger will be matched to the embeddings vector of the word\n",
    "##in a dictionary\n",
    "X_train_seqA[0:2]"
   ]
  },
  {
   "cell_type": "code",
   "execution_count": 45,
   "metadata": {},
   "outputs": [
    {
     "data": {
      "text/plain": [
       "32"
      ]
     },
     "execution_count": 45,
     "metadata": {},
     "output_type": "execute_result"
    }
   ],
   "source": [
    "#research among all the sentences the one which has the largest number of words , this will serve to determine \n",
    "## the dimension of the embedding layer\n",
    "\n",
    "max_len = max(max([len(sent_vec) for sent_vec in X_train_seqA]),\n",
    "              max([len(sent_vec) for sent_vec in X_train_seqB]),\n",
    "              max([len(sent_vec) for sent_vec in X_test_seqA]),\n",
    "              max([len(sent_vec) for sent_vec in X_test_seqB]))\n",
    "\n",
    "max_len"
   ]
  },
  {
   "cell_type": "code",
   "execution_count": 46,
   "metadata": {},
   "outputs": [
    {
     "data": {
      "text/plain": [
       "array([[   3,   27,    6,   24,   11,    2,   28,  621,    0,    0,    0,\n",
       "           0,    0,    0,    0,    0,    0,    0,    0,    0,    0,    0,\n",
       "           0,    0,    0,    0,    0,    0,    0,    0,    0,    0],\n",
       "       [   1, 1003,   11,    2,   90,    1,  712,  137,    0,    0,    0,\n",
       "           0,    0,    0,    0,    0,    0,    0,    0,    0,    0,    0,\n",
       "           0,    0,    0,    0,    0,    0,    0,    0,    0,    0]])"
      ]
     },
     "execution_count": 46,
     "metadata": {},
     "output_type": "execute_result"
    }
   ],
   "source": [
    "##since all sentences don't have the same length, we pad them until with 0 so tht all the sentences will be \n",
    "##as long as the sentence which has the largest number of words\n",
    "\n",
    "X_train_seqA = pad_sequences(X_train_seqA, maxlen=max_len, padding='post')\n",
    "X_train_seqB = pad_sequences(X_train_seqB, maxlen=max_len, padding='post')\n",
    "X_test_seqA = pad_sequences(X_test_seqA, maxlen=max_len, padding='post')\n",
    "X_test_seqB = pad_sequences(X_test_seqB, maxlen=max_len, padding='post')\n",
    "\n",
    "X_train_seqA[0:2]"
   ]
  },
  {
   "cell_type": "code",
   "execution_count": 47,
   "metadata": {},
   "outputs": [
    {
     "data": {
      "text/plain": [
       "(3150, 32)"
      ]
     },
     "execution_count": 47,
     "metadata": {},
     "output_type": "execute_result"
    }
   ],
   "source": [
    "X_train_seqA.shape"
   ]
  },
  {
   "cell_type": "code",
   "execution_count": 48,
   "metadata": {},
   "outputs": [
    {
     "name": "stdout",
     "output_type": "stream",
     "text": [
      "Requirement already satisfied: joblib in c:\\users\\jeane\\anaconda3\\lib\\site-packages (0.16.0)\n"
     ]
    }
   ],
   "source": [
    "! pip install joblib"
   ]
  },
  {
   "cell_type": "code",
   "execution_count": 49,
   "metadata": {},
   "outputs": [],
   "source": [
    "import joblib"
   ]
  },
  {
   "cell_type": "code",
   "execution_count": 50,
   "metadata": {},
   "outputs": [
    {
     "name": "stdout",
     "output_type": "stream",
     "text": [
      "Found 400000 word vectors.\n"
     ]
    }
   ],
   "source": [
    "\n",
    "#import a pretrained Glove for word embedding via https://www.kaggle.com/thanakomsn/glove6b300dtxt\n",
    "#and create the dictionary that will contain each word and its vector\n",
    "\n",
    "embeddings_index = {}\n",
    "f = open('D:/5504_8240_compressed_glove_6B_300d_txt/glove_6B_300d.txt',encoding = \"utf-8\")\n",
    "for line in f:\n",
    "    values = line.split()\n",
    "    word = values[0]\n",
    "    coefs = np.asarray(values[1:], dtype='float32')\n",
    "    embeddings_index[word] = coefs\n",
    "f.close()\n",
    "\n",
    "print('Found %s word vectors.' % len(embeddings_index))"
   ]
  },
  {
   "cell_type": "code",
   "execution_count": 51,
   "metadata": {},
   "outputs": [
    {
     "data": {
      "text/plain": [
       "300"
      ]
     },
     "execution_count": 51,
     "metadata": {},
     "output_type": "execute_result"
    }
   ],
   "source": [
    "embeddings_index['patato']\n",
    "len(embeddings_index['patato'])"
   ]
  },
  {
   "cell_type": "code",
   "execution_count": 52,
   "metadata": {},
   "outputs": [
    {
     "name": "stdout",
     "output_type": "stream",
     "text": [
      "Loaded 400000 word vectors.\n"
     ]
    }
   ],
   "source": [
    "not_present_list = [] ## create a empty list, it will keep the words which are in our vocabulary of the data and  not in the glove dictionnayr\n",
    "\n",
    "vocab_size = len(tokenizer_obj.word_index) + 1  # adding 1 to fit Keras embedding (requirement)\n",
    "\n",
    "print('Loaded %s word vectors.' % len(embeddings_index))\n",
    "\n",
    "embedding_matrix = np.zeros((vocab_size, len(embeddings_index['no']))) ## initialize the embeddind matrix of shape (2169,300) to 0\n",
    "\n",
    "for word, i in tokenizer_obj.word_index.items():    ## we browser whole of couples (word , index) that exist in the vocabulary of the data\n",
    "    if word in embeddings_index.keys(): ## if the word which is in our vocabulary is in glove dictionnary, take its embedding vector\n",
    "        embedding_vector = embeddings_index.get(word) \n",
    "    else:\n",
    "        not_present_list.append(word)   ##else, add the word to the not_present_list, its embedding vector is None for the moment \n",
    "    if embedding_vector is not None:    ## set the embedding vector of word in the embedding matrix\n",
    "        embedding_matrix[i] = embedding_vector\n",
    "    else:\n",
    "        embedding_matrix[i] = np.zeros(300) ## the embedding vector for unknown words, is 0\n"
   ]
  },
  {
   "cell_type": "code",
   "execution_count": 54,
   "metadata": {},
   "outputs": [],
   "source": [
    "##create a function that computes the cosine cosine similarity \n",
    "###https://stackoverflow.com/questions/51003027/computing-cosine-similarity-between-two-\n",
    "##tensors-in-keras/51003359#51003359\n",
    "\n",
    "def cosine_distance(vests):\n",
    "    x, y = vests\n",
    "    x = K.l2_normalize(x, axis=-1)   ##compute normalize x to be a vector of norm 1\n",
    "    y = K.l2_normalize(y, axis=-1)   ##compute normalize y to be a vector of norm 1\n",
    "    return -K.mean(x * y, axis=-1, keepdims=True)\n",
    "\n",
    "def cos_dist_output_shape(shapes):\n",
    "    shape1, shape2 = shapes\n",
    "    return (shape1[0],1)"
   ]
  },
  {
   "cell_type": "code",
   "execution_count": 65,
   "metadata": {},
   "outputs": [],
   "source": [
    "##Build the model\n",
    "\n",
    "#### we introduce the the pair of sentences in the model, each sentence is an array of \n",
    "#### length X_train_seqA.shape[1] =32= max_len\n",
    "\n",
    "input_1 = Input(shape=(X_train_seqA.shape[1],)) \n",
    "input_2 = Input(shape=(X_train_seqB.shape[1],))\n",
    "\n",
    "\n",
    "##create the embedding layer \n",
    "common_embed = Embedding(name=\"embed_layer\", input_dim = vocab_size, \n",
    "                       output_dim=len(embeddings_index['patato']),weights=[embedding_matrix], \n",
    "                       input_length=X_train_seqA.shape[1],trainable=False)\n",
    "\n",
    "##get the embedded form of each word in the sentences\n",
    "sent_1 = common_embed(input_1)\n",
    "sent_2 = common_embed(input_2)\n",
    "\n",
    "##create the bi-LSTM that will be run on the embedded sequences\n",
    "common_bilstm = Bidirectional(LSTM(64,return_sequences=True, activation=\"tanh\"))\n",
    "\n",
    "vector_1 = common_bilstm(sent_1)\n",
    "vector_1 = Flatten()(vector_1) ## flatten the vector\n",
    "\n",
    "\n",
    "vector_2 = common_bilstm(sent_2)\n",
    "vector_2 = Flatten()(vector_2)\n",
    "\n",
    "## compute the square of each element of the vector vector_1-vector_2\n",
    "x3 = Subtract()([vector_1, vector_2])\n",
    "x3 = Multiply()([x3, x3])\n",
    "\n",
    "## compute the square of each element of the vector vector_1 and the vector_2 and substract\n",
    "x1_ = Multiply()([vector_1, vector_1])\n",
    "x2_ = Multiply()([vector_2, vector_2])\n",
    "x4 = Subtract()([x1_, x2_])\n",
    "    \n",
    "##compute the cosine    \n",
    "x5 = Lambda(cosine_distance, output_shape=cos_dist_output_shape)([vector_1, vector_2])\n",
    "    \n",
    "# concatenate    \n",
    "conc = Concatenate(axis=-1)([x5,x4,x3])\n",
    "\n",
    "## apply tanh function, a dropout and then a softmax function\n",
    "x = Dense(100, activation=\"tanh\", name='conc_layer')(conc)\n",
    "x = Dropout(0.1)(x)\n",
    "out = Dense(3, activation=\"softmax\", name = 'out')(x)\n",
    "\n",
    "model_lstm = Model([input_1, input_2], out)\n"
   ]
  },
  {
   "cell_type": "code",
   "execution_count": 66,
   "metadata": {},
   "outputs": [
    {
     "name": "stdout",
     "output_type": "stream",
     "text": [
      "Model: \"functional_5\"\n",
      "__________________________________________________________________________________________________\n",
      "Layer (type)                    Output Shape         Param #     Connected to                     \n",
      "==================================================================================================\n",
      "input_9 (InputLayer)            [(None, 32)]         0                                            \n",
      "__________________________________________________________________________________________________\n",
      "input_10 (InputLayer)           [(None, 32)]         0                                            \n",
      "__________________________________________________________________________________________________\n",
      "embed_layer (Embedding)         (None, 32, 300)      650700      input_9[0][0]                    \n",
      "                                                                 input_10[0][0]                   \n",
      "__________________________________________________________________________________________________\n",
      "bidirectional_4 (Bidirectional) (None, 32, 128)      186880      embed_layer[0][0]                \n",
      "                                                                 embed_layer[1][0]                \n",
      "__________________________________________________________________________________________________\n",
      "flatten_8 (Flatten)             (None, 4096)         0           bidirectional_4[0][0]            \n",
      "__________________________________________________________________________________________________\n",
      "flatten_9 (Flatten)             (None, 4096)         0           bidirectional_4[1][0]            \n",
      "__________________________________________________________________________________________________\n",
      "multiply_13 (Multiply)          (None, 4096)         0           flatten_8[0][0]                  \n",
      "                                                                 flatten_8[0][0]                  \n",
      "__________________________________________________________________________________________________\n",
      "multiply_14 (Multiply)          (None, 4096)         0           flatten_9[0][0]                  \n",
      "                                                                 flatten_9[0][0]                  \n",
      "__________________________________________________________________________________________________\n",
      "subtract_8 (Subtract)           (None, 4096)         0           flatten_8[0][0]                  \n",
      "                                                                 flatten_9[0][0]                  \n",
      "__________________________________________________________________________________________________\n",
      "lambda_4 (Lambda)               (None, 1)            0           flatten_8[0][0]                  \n",
      "                                                                 flatten_9[0][0]                  \n",
      "__________________________________________________________________________________________________\n",
      "subtract_9 (Subtract)           (None, 4096)         0           multiply_13[0][0]                \n",
      "                                                                 multiply_14[0][0]                \n",
      "__________________________________________________________________________________________________\n",
      "multiply_12 (Multiply)          (None, 4096)         0           subtract_8[0][0]                 \n",
      "                                                                 subtract_8[0][0]                 \n",
      "__________________________________________________________________________________________________\n",
      "concatenate_4 (Concatenate)     (None, 8193)         0           lambda_4[0][0]                   \n",
      "                                                                 subtract_9[0][0]                 \n",
      "                                                                 multiply_12[0][0]                \n",
      "__________________________________________________________________________________________________\n",
      "conc_layer (Dense)              (None, 100)          819400      concatenate_4[0][0]              \n",
      "__________________________________________________________________________________________________\n",
      "dropout_3 (Dropout)             (None, 100)          0           conc_layer[0][0]                 \n",
      "__________________________________________________________________________________________________\n",
      "out (Dense)                     (None, 3)            303         dropout_3[0][0]                  \n",
      "==================================================================================================\n",
      "Total params: 1,657,283\n",
      "Trainable params: 1,006,583\n",
      "Non-trainable params: 650,700\n",
      "__________________________________________________________________________________________________\n"
     ]
    }
   ],
   "source": [
    "model_lstm.summary()"
   ]
  },
  {
   "cell_type": "code",
   "execution_count": 67,
   "metadata": {},
   "outputs": [],
   "source": [
    "##compile the model by choosing the loss, the metrics and the otpimizer\n",
    "model_lstm.compile(loss=\"categorical_crossentropy\", metrics=['accuracy',keras.metrics.AUC()], optimizer=Adam(0.00001))"
   ]
  },
  {
   "cell_type": "code",
   "execution_count": 68,
   "metadata": {},
   "outputs": [
    {
     "name": "stdout",
     "output_type": "stream",
     "text": [
      "Epoch 1/100\n",
      "99/99 [==============================] - 15s 153ms/step - loss: 1.0656 - accuracy: 0.5286 - auc_2: 0.7085 - val_loss: 1.0336 - val_accuracy: 0.5667 - val_auc_2: 0.7565\n",
      "Epoch 2/100\n",
      "99/99 [==============================] - 10s 100ms/step - loss: 1.0002 - accuracy: 0.5635 - auc_2: 0.7687 - val_loss: 0.9765 - val_accuracy: 0.5667 - val_auc_2: 0.7639\n",
      "Epoch 3/100\n",
      "99/99 [==============================] - 9s 92ms/step - loss: 0.9471 - accuracy: 0.5625 - auc_2: 0.7750 - val_loss: 0.9336 - val_accuracy: 0.5667 - val_auc_2: 0.7664\n",
      "Epoch 4/100\n",
      "99/99 [==============================] - 8s 84ms/step - loss: 0.9082 - accuracy: 0.5625 - auc_2: 0.7784 - val_loss: 0.9061 - val_accuracy: 0.5667 - val_auc_2: 0.7687\n",
      "Epoch 5/100\n",
      "99/99 [==============================] - 9s 89ms/step - loss: 0.8824 - accuracy: 0.5629 - auc_2: 0.7818 - val_loss: 0.8904 - val_accuracy: 0.5667 - val_auc_2: 0.7704\n",
      "Epoch 6/100\n",
      "99/99 [==============================] - 9s 92ms/step - loss: 0.8662 - accuracy: 0.5629 - auc_2: 0.7845 - val_loss: 0.8808 - val_accuracy: 0.5667 - val_auc_2: 0.7731\n",
      "Epoch 7/100\n",
      "99/99 [==============================] - 9s 87ms/step - loss: 0.8540 - accuracy: 0.5635 - auc_2: 0.7891 - val_loss: 0.8737 - val_accuracy: 0.5674 - val_auc_2: 0.7758\n",
      "Epoch 8/100\n",
      "99/99 [==============================] - 9s 89ms/step - loss: 0.8429 - accuracy: 0.5641 - auc_2: 0.7933 - val_loss: 0.8677 - val_accuracy: 0.5696 - val_auc_2: 0.7790\n",
      "Epoch 9/100\n",
      "99/99 [==============================] - 9s 88ms/step - loss: 0.8335 - accuracy: 0.5654 - auc_2: 0.7978 - val_loss: 0.8619 - val_accuracy: 0.5704 - val_auc_2: 0.7819\n",
      "Epoch 10/100\n",
      "99/99 [==============================] - 8s 85ms/step - loss: 0.8244 - accuracy: 0.5676 - auc_2: 0.8030 - val_loss: 0.8558 - val_accuracy: 0.5756 - val_auc_2: 0.7859\n",
      "Epoch 11/100\n",
      "99/99 [==============================] - 8s 81ms/step - loss: 0.8146 - accuracy: 0.5717 - auc_2: 0.8080 - val_loss: 0.8492 - val_accuracy: 0.5748 - val_auc_2: 0.7899\n",
      "Epoch 12/100\n",
      "99/99 [==============================] - 8s 79ms/step - loss: 0.8041 - accuracy: 0.5752 - auc_2: 0.8135 - val_loss: 0.8419 - val_accuracy: 0.5778 - val_auc_2: 0.7948\n",
      "Epoch 13/100\n",
      "99/99 [==============================] - 8s 83ms/step - loss: 0.7925 - accuracy: 0.5844 - auc_2: 0.8203 - val_loss: 0.8335 - val_accuracy: 0.5867 - val_auc_2: 0.8003\n",
      "Epoch 14/100\n",
      "99/99 [==============================] - 8s 85ms/step - loss: 0.7793 - accuracy: 0.6029 - auc_2: 0.8275 - val_loss: 0.8241 - val_accuracy: 0.5993 - val_auc_2: 0.8067\n",
      "Epoch 15/100\n",
      "99/99 [==============================] - 8s 86ms/step - loss: 0.7652 - accuracy: 0.6244 - auc_2: 0.8355 - val_loss: 0.8138 - val_accuracy: 0.6148 - val_auc_2: 0.8136\n",
      "Epoch 16/100\n",
      "99/99 [==============================] - 9s 88ms/step - loss: 0.7521 - accuracy: 0.6337 - auc_2: 0.8429 - val_loss: 0.8037 - val_accuracy: 0.6207 - val_auc_2: 0.8199\n",
      "Epoch 17/100\n",
      "99/99 [==============================] - 9s 89ms/step - loss: 0.7363 - accuracy: 0.6438 - auc_2: 0.8506 - val_loss: 0.7931 - val_accuracy: 0.6252 - val_auc_2: 0.8259\n",
      "Epoch 18/100\n",
      "99/99 [==============================] - 10s 102ms/step - loss: 0.7220 - accuracy: 0.6530 - auc_2: 0.8584 - val_loss: 0.7830 - val_accuracy: 0.6319 - val_auc_2: 0.8312\n",
      "Epoch 19/100\n",
      "99/99 [==============================] - 11s 115ms/step - loss: 0.7084 - accuracy: 0.6603 - auc_2: 0.8637 - val_loss: 0.7744 - val_accuracy: 0.6326 - val_auc_2: 0.8351\n",
      "Epoch 20/100\n",
      "99/99 [==============================] - 9s 94ms/step - loss: 0.6955 - accuracy: 0.6667 - auc_2: 0.8689 - val_loss: 0.7658 - val_accuracy: 0.6348 - val_auc_2: 0.8392\n",
      "Epoch 21/100\n",
      "99/99 [==============================] - 9s 92ms/step - loss: 0.6828 - accuracy: 0.6708 - auc_2: 0.8740 - val_loss: 0.7583 - val_accuracy: 0.6378 - val_auc_2: 0.8421\n",
      "Epoch 22/100\n",
      "99/99 [==============================] - 8s 84ms/step - loss: 0.6711 - accuracy: 0.6778 - auc_2: 0.8780 - val_loss: 0.7510 - val_accuracy: 0.6422 - val_auc_2: 0.8453\n",
      "Epoch 23/100\n",
      "99/99 [==============================] - 9s 86ms/step - loss: 0.6591 - accuracy: 0.6848 - auc_2: 0.8825 - val_loss: 0.7444 - val_accuracy: 0.6467 - val_auc_2: 0.8482\n",
      "Epoch 24/100\n",
      "99/99 [==============================] - 9s 93ms/step - loss: 0.6489 - accuracy: 0.6994 - auc_2: 0.8866 - val_loss: 0.7375 - val_accuracy: 0.6548 - val_auc_2: 0.8513\n",
      "Epoch 25/100\n",
      "99/99 [==============================] - 10s 97ms/step - loss: 0.6373 - accuracy: 0.7038 - auc_2: 0.8911 - val_loss: 0.7307 - val_accuracy: 0.6593 - val_auc_2: 0.8544\n",
      "Epoch 26/100\n",
      "99/99 [==============================] - 10s 100ms/step - loss: 0.6261 - accuracy: 0.7165 - auc_2: 0.8956 - val_loss: 0.7242 - val_accuracy: 0.6615 - val_auc_2: 0.8573\n",
      "Epoch 27/100\n",
      "99/99 [==============================] - 10s 98ms/step - loss: 0.6150 - accuracy: 0.7254 - auc_2: 0.8999 - val_loss: 0.7184 - val_accuracy: 0.6711 - val_auc_2: 0.8604\n",
      "Epoch 28/100\n",
      "99/99 [==============================] - 9s 93ms/step - loss: 0.6056 - accuracy: 0.7352 - auc_2: 0.9037 - val_loss: 0.7125 - val_accuracy: 0.6741 - val_auc_2: 0.8632\n",
      "Epoch 29/100\n",
      "99/99 [==============================] - 9s 89ms/step - loss: 0.5933 - accuracy: 0.7454 - auc_2: 0.9085 - val_loss: 0.7065 - val_accuracy: 0.6815 - val_auc_2: 0.8663\n",
      "Epoch 30/100\n",
      "99/99 [==============================] - 9s 91ms/step - loss: 0.5837 - accuracy: 0.7495 - auc_2: 0.9121 - val_loss: 0.7006 - val_accuracy: 0.6852 - val_auc_2: 0.8693\n",
      "Epoch 31/100\n",
      "99/99 [==============================] - 9s 93ms/step - loss: 0.5748 - accuracy: 0.7590 - auc_2: 0.9162 - val_loss: 0.6959 - val_accuracy: 0.6896 - val_auc_2: 0.8713\n",
      "Epoch 32/100\n",
      "99/99 [==============================] - 9s 90ms/step - loss: 0.5631 - accuracy: 0.7625 - auc_2: 0.9197 - val_loss: 0.6910 - val_accuracy: 0.6963 - val_auc_2: 0.8738\n",
      "Epoch 33/100\n",
      "99/99 [==============================] - 9s 96ms/step - loss: 0.5532 - accuracy: 0.7679 - auc_2: 0.9232 - val_loss: 0.6865 - val_accuracy: 0.6985 - val_auc_2: 0.8759\n",
      "Epoch 34/100\n",
      "99/99 [==============================] - 9s 93ms/step - loss: 0.5441 - accuracy: 0.7752 - auc_2: 0.9262 - val_loss: 0.6820 - val_accuracy: 0.7015 - val_auc_2: 0.8781\n",
      "Epoch 35/100\n",
      "99/99 [==============================] - 9s 94ms/step - loss: 0.5346 - accuracy: 0.7803 - auc_2: 0.9291 - val_loss: 0.6777 - val_accuracy: 0.7044 - val_auc_2: 0.8800\n",
      "Epoch 36/100\n",
      "99/99 [==============================] - 9s 91ms/step - loss: 0.5261 - accuracy: 0.7898 - auc_2: 0.9326 - val_loss: 0.6741 - val_accuracy: 0.7081 - val_auc_2: 0.8818\n",
      "Epoch 37/100\n",
      "99/99 [==============================] - 9s 90ms/step - loss: 0.5174 - accuracy: 0.7952 - auc_2: 0.9350 - val_loss: 0.6702 - val_accuracy: 0.7141 - val_auc_2: 0.8835\n",
      "Epoch 38/100\n",
      "99/99 [==============================] - 9s 90ms/step - loss: 0.5089 - accuracy: 0.8003 - auc_2: 0.9375 - val_loss: 0.6672 - val_accuracy: 0.7156 - val_auc_2: 0.8849\n",
      "Epoch 39/100\n",
      "99/99 [==============================] - 9s 88ms/step - loss: 0.4995 - accuracy: 0.8092 - auc_2: 0.9405 - val_loss: 0.6640 - val_accuracy: 0.7193 - val_auc_2: 0.8866\n",
      "Epoch 40/100\n",
      "99/99 [==============================] - 9s 91ms/step - loss: 0.4920 - accuracy: 0.8149 - auc_2: 0.9423 - val_loss: 0.6608 - val_accuracy: 0.7237 - val_auc_2: 0.8882\n",
      "Epoch 41/100\n",
      "99/99 [==============================] - 9s 89ms/step - loss: 0.4826 - accuracy: 0.8232 - auc_2: 0.9453 - val_loss: 0.6568 - val_accuracy: 0.7274 - val_auc_2: 0.8899\n",
      "Epoch 42/100\n",
      "99/99 [==============================] - 9s 91ms/step - loss: 0.4744 - accuracy: 0.8270 - auc_2: 0.9480 - val_loss: 0.6541 - val_accuracy: 0.7311 - val_auc_2: 0.8913\n",
      "Epoch 43/100\n",
      "99/99 [==============================] - 9s 94ms/step - loss: 0.4668 - accuracy: 0.8295 - auc_2: 0.9493 - val_loss: 0.6516 - val_accuracy: 0.7326 - val_auc_2: 0.8927\n",
      "Epoch 44/100\n",
      "99/99 [==============================] - 9s 90ms/step - loss: 0.4593 - accuracy: 0.8384 - auc_2: 0.9523 - val_loss: 0.6489 - val_accuracy: 0.7378 - val_auc_2: 0.8942\n",
      "Epoch 45/100\n",
      "99/99 [==============================] - 10s 98ms/step - loss: 0.4507 - accuracy: 0.8406 - auc_2: 0.9544 - val_loss: 0.6467 - val_accuracy: 0.7407 - val_auc_2: 0.8955\n",
      "Epoch 46/100\n",
      "99/99 [==============================] - 9s 91ms/step - loss: 0.4415 - accuracy: 0.8441 - auc_2: 0.9567 - val_loss: 0.6439 - val_accuracy: 0.7489 - val_auc_2: 0.8969\n"
     ]
    },
    {
     "name": "stdout",
     "output_type": "stream",
     "text": [
      "Epoch 47/100\n",
      "99/99 [==============================] - 9s 88ms/step - loss: 0.4342 - accuracy: 0.8511 - auc_2: 0.9589 - val_loss: 0.6412 - val_accuracy: 0.7541 - val_auc_2: 0.8982\n",
      "Epoch 48/100\n",
      "99/99 [==============================] - 9s 88ms/step - loss: 0.4265 - accuracy: 0.8559 - auc_2: 0.9604 - val_loss: 0.6387 - val_accuracy: 0.7556 - val_auc_2: 0.8995\n",
      "Epoch 49/100\n",
      "99/99 [==============================] - 10s 100ms/step - loss: 0.4191 - accuracy: 0.8606 - auc_2: 0.9625 - val_loss: 0.6374 - val_accuracy: 0.7570 - val_auc_2: 0.9005\n",
      "Epoch 50/100\n",
      "99/99 [==============================] - 9s 93ms/step - loss: 0.4109 - accuracy: 0.8667 - auc_2: 0.9641 - val_loss: 0.6353 - val_accuracy: 0.7600 - val_auc_2: 0.9015\n",
      "Epoch 51/100\n",
      "99/99 [==============================] - 9s 89ms/step - loss: 0.4028 - accuracy: 0.8743 - auc_2: 0.9661 - val_loss: 0.6331 - val_accuracy: 0.7600 - val_auc_2: 0.9027\n",
      "Epoch 52/100\n",
      "99/99 [==============================] - 9s 91ms/step - loss: 0.3941 - accuracy: 0.8765 - auc_2: 0.9679 - val_loss: 0.6311 - val_accuracy: 0.7607 - val_auc_2: 0.9035\n",
      "Epoch 53/100\n",
      "99/99 [==============================] - 9s 90ms/step - loss: 0.3871 - accuracy: 0.8813 - auc_2: 0.9695 - val_loss: 0.6294 - val_accuracy: 0.7644 - val_auc_2: 0.9045\n",
      "Epoch 54/100\n",
      "99/99 [==============================] - 9s 91ms/step - loss: 0.3794 - accuracy: 0.8841 - auc_2: 0.9708 - val_loss: 0.6281 - val_accuracy: 0.7689 - val_auc_2: 0.9052\n",
      "Epoch 55/100\n",
      "99/99 [==============================] - 9s 92ms/step - loss: 0.3723 - accuracy: 0.8863 - auc_2: 0.9719 - val_loss: 0.6267 - val_accuracy: 0.7696 - val_auc_2: 0.9060\n",
      "Epoch 56/100\n",
      "99/99 [==============================] - 9s 91ms/step - loss: 0.3654 - accuracy: 0.8886 - auc_2: 0.9733 - val_loss: 0.6247 - val_accuracy: 0.7689 - val_auc_2: 0.9067\n",
      "Epoch 57/100\n",
      "99/99 [==============================] - 9s 89ms/step - loss: 0.3574 - accuracy: 0.8943 - auc_2: 0.9746 - val_loss: 0.6238 - val_accuracy: 0.7696 - val_auc_2: 0.9073\n",
      "Epoch 58/100\n",
      "99/99 [==============================] - 9s 92ms/step - loss: 0.3510 - accuracy: 0.8952 - auc_2: 0.9757 - val_loss: 0.6229 - val_accuracy: 0.7696 - val_auc_2: 0.9080\n",
      "Epoch 59/100\n",
      "99/99 [==============================] - 9s 90ms/step - loss: 0.3445 - accuracy: 0.8997 - auc_2: 0.9768 - val_loss: 0.6219 - val_accuracy: 0.7733 - val_auc_2: 0.9086\n",
      "Epoch 60/100\n",
      "99/99 [==============================] - 9s 92ms/step - loss: 0.3387 - accuracy: 0.9010 - auc_2: 0.9778 - val_loss: 0.6217 - val_accuracy: 0.7726 - val_auc_2: 0.9090\n",
      "Epoch 61/100\n",
      "99/99 [==============================] - 9s 92ms/step - loss: 0.3313 - accuracy: 0.9032 - auc_2: 0.9790 - val_loss: 0.6209 - val_accuracy: 0.7763 - val_auc_2: 0.9095\n",
      "Epoch 62/100\n",
      "99/99 [==============================] - 9s 91ms/step - loss: 0.3255 - accuracy: 0.9051 - auc_2: 0.9797 - val_loss: 0.6201 - val_accuracy: 0.7763 - val_auc_2: 0.9102\n",
      "Epoch 63/100\n",
      "99/99 [==============================] - 10s 98ms/step - loss: 0.3197 - accuracy: 0.9079 - auc_2: 0.9806 - val_loss: 0.6207 - val_accuracy: 0.7741 - val_auc_2: 0.9105\n",
      "Epoch 64/100\n",
      "99/99 [==============================] - 10s 101ms/step - loss: 0.3118 - accuracy: 0.9098 - auc_2: 0.9816 - val_loss: 0.6201 - val_accuracy: 0.7778 - val_auc_2: 0.9107\n",
      "Epoch 65/100\n",
      "99/99 [==============================] - 9s 90ms/step - loss: 0.3072 - accuracy: 0.9124 - auc_2: 0.9822 - val_loss: 0.6197 - val_accuracy: 0.7770 - val_auc_2: 0.9114\n",
      "Epoch 66/100\n",
      "99/99 [==============================] - 9s 87ms/step - loss: 0.3019 - accuracy: 0.9137 - auc_2: 0.9828 - val_loss: 0.6201 - val_accuracy: 0.7778 - val_auc_2: 0.9118\n",
      "Epoch 67/100\n",
      "99/99 [==============================] - 9s 86ms/step - loss: 0.2956 - accuracy: 0.9159 - auc_2: 0.9840 - val_loss: 0.6205 - val_accuracy: 0.7785 - val_auc_2: 0.9120\n",
      "Epoch 68/100\n",
      "99/99 [==============================] - 8s 84ms/step - loss: 0.2897 - accuracy: 0.9171 - auc_2: 0.9844 - val_loss: 0.6213 - val_accuracy: 0.7785 - val_auc_2: 0.9121\n",
      "Epoch 69/100\n",
      "99/99 [==============================] - 9s 89ms/step - loss: 0.2848 - accuracy: 0.9229 - auc_2: 0.9852 - val_loss: 0.6206 - val_accuracy: 0.7785 - val_auc_2: 0.9129\n",
      "Epoch 70/100\n",
      "99/99 [==============================] - 9s 90ms/step - loss: 0.2800 - accuracy: 0.9229 - auc_2: 0.9856 - val_loss: 0.6231 - val_accuracy: 0.7800 - val_auc_2: 0.9130\n",
      "Epoch 71/100\n",
      "99/99 [==============================] - 9s 88ms/step - loss: 0.2740 - accuracy: 0.9251 - auc_2: 0.9863 - val_loss: 0.6226 - val_accuracy: 0.7822 - val_auc_2: 0.9127\n",
      "Epoch 72/100\n",
      "99/99 [==============================] - 10s 105ms/step - loss: 0.2688 - accuracy: 0.9235 - auc_2: 0.9869 - val_loss: 0.6226 - val_accuracy: 0.7830 - val_auc_2: 0.9133\n",
      "Epoch 73/100\n",
      "99/99 [==============================] - 9s 93ms/step - loss: 0.2650 - accuracy: 0.9295 - auc_2: 0.9875 - val_loss: 0.6248 - val_accuracy: 0.7815 - val_auc_2: 0.9134\n",
      "Epoch 74/100\n",
      "99/99 [==============================] - 9s 94ms/step - loss: 0.2608 - accuracy: 0.9298 - auc_2: 0.9877 - val_loss: 0.6263 - val_accuracy: 0.7844 - val_auc_2: 0.9137\n",
      "Epoch 75/100\n",
      "99/99 [==============================] - 9s 88ms/step - loss: 0.2542 - accuracy: 0.9321 - auc_2: 0.9886 - val_loss: 0.6280 - val_accuracy: 0.7815 - val_auc_2: 0.9138\n",
      "Epoch 76/100\n",
      "99/99 [==============================] - 8s 86ms/step - loss: 0.2510 - accuracy: 0.9321 - auc_2: 0.9888 - val_loss: 0.6296 - val_accuracy: 0.7815 - val_auc_2: 0.9137\n",
      "Epoch 77/100\n",
      "99/99 [==============================] - 9s 87ms/step - loss: 0.2469 - accuracy: 0.9356 - auc_2: 0.9891 - val_loss: 0.6307 - val_accuracy: 0.7793 - val_auc_2: 0.9140\n",
      "Epoch 78/100\n",
      "99/99 [==============================] - 8s 84ms/step - loss: 0.2410 - accuracy: 0.9352 - auc_2: 0.9897 - val_loss: 0.6305 - val_accuracy: 0.7830 - val_auc_2: 0.9143\n",
      "Epoch 79/100\n",
      "99/99 [==============================] - 8s 85ms/step - loss: 0.2376 - accuracy: 0.9349 - auc_2: 0.9900 - val_loss: 0.6326 - val_accuracy: 0.7815 - val_auc_2: 0.9142\n",
      "Epoch 80/100\n",
      "99/99 [==============================] - 9s 87ms/step - loss: 0.2328 - accuracy: 0.9387 - auc_2: 0.9905 - val_loss: 0.6361 - val_accuracy: 0.7807 - val_auc_2: 0.9140\n",
      "Epoch 81/100\n",
      "99/99 [==============================] - 8s 86ms/step - loss: 0.2286 - accuracy: 0.9375 - auc_2: 0.9909 - val_loss: 0.6368 - val_accuracy: 0.7815 - val_auc_2: 0.9144\n",
      "Epoch 82/100\n",
      "99/99 [==============================] - 8s 83ms/step - loss: 0.2236 - accuracy: 0.9403 - auc_2: 0.9913 - val_loss: 0.6393 - val_accuracy: 0.7800 - val_auc_2: 0.9141\n",
      "Epoch 83/100\n",
      "99/99 [==============================] - 8s 83ms/step - loss: 0.2199 - accuracy: 0.9416 - auc_2: 0.9916 - val_loss: 0.6406 - val_accuracy: 0.7778 - val_auc_2: 0.9139\n",
      "Epoch 84/100\n",
      "99/99 [==============================] - 9s 86ms/step - loss: 0.2156 - accuracy: 0.9438 - auc_2: 0.9921 - val_loss: 0.6426 - val_accuracy: 0.7785 - val_auc_2: 0.9143\n",
      "Epoch 85/100\n",
      "99/99 [==============================] - 9s 87ms/step - loss: 0.2117 - accuracy: 0.9451 - auc_2: 0.9923 - val_loss: 0.6445 - val_accuracy: 0.7815 - val_auc_2: 0.9140\n",
      "Epoch 86/100\n",
      "99/99 [==============================] - 9s 86ms/step - loss: 0.2074 - accuracy: 0.9460 - auc_2: 0.9927 - val_loss: 0.6481 - val_accuracy: 0.7830 - val_auc_2: 0.9143\n",
      "Epoch 87/100\n",
      "99/99 [==============================] - 10s 104ms/step - loss: 0.2043 - accuracy: 0.9463 - auc_2: 0.9928 - val_loss: 0.6501 - val_accuracy: 0.7815 - val_auc_2: 0.9147\n",
      "Epoch 88/100\n",
      "99/99 [==============================] - 11s 112ms/step - loss: 0.2006 - accuracy: 0.9470 - auc_2: 0.9931 - val_loss: 0.6522 - val_accuracy: 0.7807 - val_auc_2: 0.9140\n",
      "Epoch 89/100\n",
      "99/99 [==============================] - 10s 102ms/step - loss: 0.1963 - accuracy: 0.9467 - auc_2: 0.9934 - val_loss: 0.6539 - val_accuracy: 0.7807 - val_auc_2: 0.9147\n",
      "Epoch 90/100\n",
      "99/99 [==============================] - 9s 87ms/step - loss: 0.1924 - accuracy: 0.9508 - auc_2: 0.9938 - val_loss: 0.6552 - val_accuracy: 0.7815 - val_auc_2: 0.9138\n",
      "Epoch 91/100\n",
      "99/99 [==============================] - 9s 87ms/step - loss: 0.1893 - accuracy: 0.9514 - auc_2: 0.9940 - val_loss: 0.6587 - val_accuracy: 0.7822 - val_auc_2: 0.9139\n",
      "Epoch 92/100\n",
      "99/99 [==============================] - 9s 91ms/step - loss: 0.1845 - accuracy: 0.9533 - auc_2: 0.9945 - val_loss: 0.6611 - val_accuracy: 0.7822 - val_auc_2: 0.9137\n"
     ]
    },
    {
     "name": "stdout",
     "output_type": "stream",
     "text": [
      "Epoch 93/100\n",
      "99/99 [==============================] - 10s 96ms/step - loss: 0.1823 - accuracy: 0.9552 - auc_2: 0.9945 - val_loss: 0.6633 - val_accuracy: 0.7815 - val_auc_2: 0.9142\n",
      "Epoch 94/100\n",
      "99/99 [==============================] - 9s 95ms/step - loss: 0.1780 - accuracy: 0.9575 - auc_2: 0.9948 - val_loss: 0.6668 - val_accuracy: 0.7770 - val_auc_2: 0.9128\n",
      "Epoch 95/100\n",
      "99/99 [==============================] - 9s 90ms/step - loss: 0.1749 - accuracy: 0.9578 - auc_2: 0.9949 - val_loss: 0.6694 - val_accuracy: 0.7800 - val_auc_2: 0.9136\n",
      "Epoch 96/100\n",
      "99/99 [==============================] - 9s 87ms/step - loss: 0.1719 - accuracy: 0.9581 - auc_2: 0.9952 - val_loss: 0.6731 - val_accuracy: 0.7800 - val_auc_2: 0.9131\n",
      "Epoch 97/100\n",
      "99/99 [==============================] - 11s 106ms/step - loss: 0.1680 - accuracy: 0.9578 - auc_2: 0.9956 - val_loss: 0.6755 - val_accuracy: 0.7793 - val_auc_2: 0.9132\n",
      "Epoch 98/100\n",
      "99/99 [==============================] - 10s 100ms/step - loss: 0.1649 - accuracy: 0.9613 - auc_2: 0.9957 - val_loss: 0.6794 - val_accuracy: 0.7785 - val_auc_2: 0.9128\n",
      "Epoch 99/100\n",
      "99/99 [==============================] - 10s 104ms/step - loss: 0.1620 - accuracy: 0.9616 - auc_2: 0.9958 - val_loss: 0.6819 - val_accuracy: 0.7770 - val_auc_2: 0.9121\n",
      "Epoch 100/100\n",
      "99/99 [==============================] - 10s 101ms/step - loss: 0.1588 - accuracy: 0.9629 - auc_2: 0.9960 - val_loss: 0.6847 - val_accuracy: 0.7748 - val_auc_2: 0.9125\n"
     ]
    }
   ],
   "source": [
    "##fit the model\n",
    "hist_lstm=model_lstm.fit([X_train_seqA,X_train_seqB], Y_train_onehot,validation_data=([X_test_seqA,X_test_seqB],Y_test_onehot),epochs=100,batch_size = 32)"
   ]
  },
  {
   "cell_type": "code",
   "execution_count": 69,
   "metadata": {},
   "outputs": [
    {
     "data": {
      "image/png": "[encoded data removed]",
      "text/plain": [
       "<Figure size 720x432 with 2 Axes>"
      ]
     },
     "metadata": {},
     "output_type": "display_data"
    }
   ],
   "source": [
    "##plot the loss function and the accuracy\n",
    "plt.figure(figsize=(10,6))\n",
    "\n",
    "plt.subplot(1, 2, 1)\n",
    "plt.plot(hist_lstm.history['loss'])\n",
    "plt.plot(hist_lstm.history['val_loss'])\n",
    "plt.title('Bi-LSTM model loss')\n",
    "plt.ylabel('loss')\n",
    "plt.xlabel('epoch')\n",
    "plt.legend(['train', 'val'], loc='upper left')\n",
    "\n",
    "plt.subplot(1, 2, 2)\n",
    "plt.plot(hist_lstm.history['accuracy'])\n",
    "plt.plot(hist_lstm.history['val_accuracy'])\n",
    "plt.title('Bi-LSTM model accuracy')\n",
    "plt.ylabel('accuracy')\n",
    "plt.xlabel('epoch')\n",
    "plt.legend(['train', 'val'], loc='upper left')\n",
    "plt.savefig(\"loss_acc_lstm.PNG\")\n",
    "plt.show()"
   ]
  },
  {
   "cell_type": "code",
   "execution_count": 70,
   "metadata": {},
   "outputs": [],
   "source": [
    "##prediction on the test set\n",
    "Y_pred_lstm = np.argmax(model_lstm.predict([X_test_seqA,X_test_seqB]), axis=1)\n",
    "Y_test_array = np.asarray(Y_test)"
   ]
  },
  {
   "cell_type": "code",
   "execution_count": 72,
   "metadata": {},
   "outputs": [
    {
     "name": "stdout",
     "output_type": "stream",
     "text": [
      "[[153  35  11]\n",
      " [ 18 645 102]\n",
      " [  9 129 248]]\n",
      "LSTM F1-Score: 0.764 \n"
     ]
    }
   ],
   "source": [
    "##compute the confusion matrix and the F1-score\n",
    "cm_lstm = confusion_matrix(Y_test_array,Y_pred_lstm,labels=[0,1,2])\n",
    "print(cm_lstm)\n",
    "print(\"LSTM F1-Score: %0.3f \" % (f1_score(Y_test_array,Y_pred_lstm, average=\"macro\")))"
   ]
  },
  {
   "cell_type": "code",
   "execution_count": 112,
   "metadata": {},
   "outputs": [],
   "source": [
    "Y_pred_lstm_pd=pd.DataFrame(data=Y_pred_lstm)"
   ]
  },
  {
   "cell_type": "code",
   "execution_count": 113,
   "metadata": {},
   "outputs": [],
   "source": [
    "error_analys = pd.concat([X_test,Y_test,Y_pred_lstm_pd],axis=1)"
   ]
  },
  {
   "cell_type": "code",
   "execution_count": null,
   "metadata": {},
   "outputs": [],
   "source": [
    "error_analys[(error_analys['Y_pred_lstm_pd'] == 1)&(error_analys['Y_pred_lstm_pd'] == 2)].head()"
   ]
  },
  {
   "cell_type": "code",
   "execution_count": 73,
   "metadata": {},
   "outputs": [],
   "source": [
    "## Here we define a fonction to plot the confusion matrix \n",
    "\n",
    "##https://stackoverflow.com/questions/19233771/sklearn-plot-confusion-matrix-with-labels\n",
    "\n",
    "def plot_confusion_matrix(cm,\n",
    "                          target_names,\n",
    "                          title='Confusion matrix',\n",
    "                          cmap=None,\n",
    "                          normalize=True,color='Greens'):\n",
    "    \"\"\"\n",
    "    given a sklearn confusion matrix (cm), make a nice plot\n",
    "\n",
    "    Arguments\n",
    "    ---------\n",
    "    cm:           confusion matrix from sklearn.metrics.confusion_matrix\n",
    "\n",
    "    target_names: given classification classes such as [0, 1, 2]\n",
    "                  the class names, for example: ['CONTRADICTION','NEUTRAL','ENTAILMENT']\n",
    "\n",
    "    title:        the text to display at the top of the matrix\n",
    "\n",
    "    cmap:         the gradient of the values displayed from matplotlib.pyplot.cm\n",
    "                  see http://matplotlib.org/examples/color/colormaps_reference.html\n",
    "                  plt.get_cmap('jet') or plt.cm.Blues\n",
    "\n",
    "    normalize:    If False, plot the raw numbers\n",
    "                  If True, plot the proportions\n",
    "\n",
    "    Usage\n",
    "    -----\n",
    "    plot_confusion_matrix(cm           = cm,                  # confusion matrix created by\n",
    "                                                              # sklearn.metrics.confusion_matrix\n",
    "                          normalize    = True,                # show proportions\n",
    "                          target_names = y_labels_vals,       # list of names of the classes\n",
    "                          title        = best_estimator_name) # title of graph\n",
    "\n",
    "    Citiation\n",
    "    ---------\n",
    "    http://scikit-learn.org/stable/auto_examples/model_selection/plot_confusion_matrix.html\n",
    "\n",
    "    \"\"\"\n",
    "    import itertools\n",
    "\n",
    "    accuracy = np.trace(cm) / np.sum(cm).astype('float')\n",
    "    misclass = 1 - accuracy\n",
    "\n",
    "    if cmap is None:\n",
    "        cmap = plt.get_cmap(color)\n",
    "\n",
    "    plt.figure(figsize=(8, 6))\n",
    "    plt.imshow(cm, interpolation='nearest', cmap=cmap)\n",
    "    plt.title(title)\n",
    "    plt.colorbar()\n",
    "    if target_names is not None:\n",
    "        tick_marks = np.arange(len(target_names))\n",
    "        plt.xticks(tick_marks, target_names, rotation=45)\n",
    "        plt.yticks(tick_marks, target_names)\n",
    "\n",
    "    if normalize:\n",
    "        cm = cm.astype('float') / cm.sum(axis=1)[:, np.newaxis]\n",
    "\n",
    "\n",
    "    thresh = cm.max() / 1.5 if normalize else cm.max() / 2\n",
    "    for i, j in itertools.product(range(cm.shape[0]), range(cm.shape[1])):\n",
    "        if normalize:\n",
    "            plt.text(j, i, \"{:0.4f}\".format(cm[i, j]),\n",
    "                     horizontalalignment=\"center\",\n",
    "                     color=\"white\" if cm[i, j] > thresh else \"black\")\n",
    "        else:\n",
    "            plt.text(j, i, \"{:,}\".format(cm[i, j]),\n",
    "                     horizontalalignment=\"center\",\n",
    "                     color=\"white\" if cm[i, j] > thresh else \"black\")\n",
    "\n",
    "\n",
    "    plt.tight_layout()\n",
    "    plt.ylabel('True label')\n",
    "    plt.xlabel('Predicted label\\naccuracy={:0.4f}; misclass={:0.4f}'.format(accuracy, misclass))\n",
    "    plt.show()"
   ]
  },
  {
   "cell_type": "code",
   "execution_count": null,
   "metadata": {},
   "outputs": [],
   "source": []
  },
  {
   "cell_type": "code",
   "execution_count": 105,
   "metadata": {},
   "outputs": [
    {
     "data": {
      "image/png": "[encoded data removed]",
      "text/plain": [
       "<Figure size 576x432 with 2 Axes>"
      ]
     },
     "metadata": {},
     "output_type": "display_data"
    },
    {
     "data": {
      "text/plain": [
       "<Figure size 432x288 with 0 Axes>"
      ]
     },
     "metadata": {},
     "output_type": "display_data"
    }
   ],
   "source": [
    "####plot the confusion matrix with the defined function\n",
    "plot_confusion_matrix(cm_lstm,['CONTRADICTION','NEUTRAL','ENTAILMENT']\n",
    "                          ,\n",
    "                          title= 'Confusion matrix for LSTM model',\n",
    "                          cmap=None,\n",
    "                          normalize=False,color='Purples')\n",
    "plt.savefig(\"matrix_conf_lstm.PNG\")"
   ]
  },
  {
   "cell_type": "code",
   "execution_count": 95,
   "metadata": {},
   "outputs": [
    {
     "data": {
      "text/plain": [
       "<bound method Model.summary of <tensorflow.python.keras.engine.functional.Functional object at 0x000001C53831E6A0>>"
      ]
     },
     "execution_count": 95,
     "metadata": {},
     "output_type": "execute_result"
    }
   ],
   "source": [
    "##Build the model CNN\n",
    "\n",
    "####we introduce the the pair of sentences in the model, each sentence is an array of length X_train_seqA.shape[1] =32\n",
    "\n",
    "input_1 = Input(shape=(X_train_seqA.shape[1],)) \n",
    "input_2 = Input(shape=(X_train_seqB.shape[1],))\n",
    "\n",
    "\n",
    "##create the embedding layer \n",
    "common_embed = Embedding(name=\"embed_layer\", input_dim = vocab_size, \n",
    "                       output_dim=len(embeddings_index['patato']),weights=[embedding_matrix], \n",
    "                       input_length=X_train_seqA.shape[1],trainable=False)\n",
    "\n",
    "##get the embedded form of each word in the sentences\n",
    "sent_1 = common_embed(input_1)\n",
    "sent_2 = common_embed(input_2)\n",
    "\n",
    "##build 1D convolutional layer with different filter sizes, each of them is followed by max pooling layer\n",
    "filter_sizes = [3,4,5]\n",
    "convs1 = []\n",
    "\n",
    "for filter_size in filter_sizes:\n",
    "    l_conv1 = Conv1D(filters=64, kernel_size=filter_size, activation='relu')(sent_1)\n",
    "    l_pool1 = MaxPooling1D(pool_size=3)(l_conv1)\n",
    "    convs1.append(l_pool1)\n",
    "\n",
    "##merge the different output    \n",
    "l_merge1 = concatenate([convs1[0],convs1[1],convs1[2]],axis=1)\n",
    "\n",
    "##apply dropout, flatten and apply a tanh function\n",
    "vector_1 = Dropout(0.1)(l_merge1)\n",
    "vector_1 = Flatten()(vector_1)\n",
    "vector_1 = Dense(64, activation='tanh')(vector_1) \n",
    "\n",
    "convs2 = []\n",
    "for filter_size in filter_sizes:\n",
    "    l_conv2 = Conv1D(filters=64, kernel_size=filter_size, activation='relu')(sent_2)\n",
    "    l_pool2 = MaxPooling1D(pool_size=3)(l_conv2)\n",
    "    convs2.append(l_pool2)\n",
    "\n",
    "##same as before\n",
    "\n",
    "l_merge2 = concatenate([convs2[0],convs2[1],convs2[2]],axis=1)\n",
    "\n",
    "vector_2 = Dropout(0.1)(l_merge2)\n",
    "vector_2 = Flatten()(vector_2)\n",
    "vector_2 = Dense(64, activation='tanh')(vector_2) \n",
    "\n",
    "x3 = Subtract()([vector_1, vector_2])\n",
    "x3 = Multiply()([x3, x3])\n",
    "\n",
    "x1_ = Multiply()([vector_1, vector_1])\n",
    "x2_ = Multiply()([vector_2, vector_2])\n",
    "x4 = Subtract()([x1_, x2_])\n",
    "    \n",
    "x5 = Lambda(cosine_distance, output_shape=cos_dist_output_shape)([vector_1, vector_2])\n",
    "    \n",
    "conc = Concatenate(axis=-1)([x5,x4,x3])\n",
    "\n",
    "## apply tanh function, a dropout and then a softmax function\n",
    "\n",
    "x = Dense(100, activation=\"tanh\", name='conc_layer')(conc)\n",
    "x = Dropout(0.5)(x)\n",
    "out = Dense(3, activation=\"softmax\", name = 'out')(x)\n",
    "\n",
    "model_cnn = Model([input_1, input_2], out)\n",
    "\n",
    "model_cnn.summary"
   ]
  },
  {
   "cell_type": "code",
   "execution_count": 96,
   "metadata": {},
   "outputs": [],
   "source": [
    "model_cnn.compile(loss=\"categorical_crossentropy\", metrics=['accuracy',keras.metrics.AUC()], optimizer=Adam(0.00001))"
   ]
  },
  {
   "cell_type": "code",
   "execution_count": 97,
   "metadata": {},
   "outputs": [
    {
     "name": "stdout",
     "output_type": "stream",
     "text": [
      "Epoch 1/100\n",
      "99/99 [==============================] - 8s 84ms/step - loss: 1.0948 - accuracy: 0.4187 - auc_7: 0.6020 - val_loss: 0.9739 - val_accuracy: 0.5556 - val_auc_7: 0.7166\n",
      "Epoch 2/100\n",
      "99/99 [==============================] - 7s 68ms/step - loss: 1.0246 - accuracy: 0.5067 - auc_7: 0.6840 - val_loss: 0.9632 - val_accuracy: 0.5644 - val_auc_7: 0.7233\n",
      "Epoch 3/100\n",
      "99/99 [==============================] - 6s 64ms/step - loss: 1.0003 - accuracy: 0.5295 - auc_7: 0.7004 - val_loss: 0.9568 - val_accuracy: 0.5667 - val_auc_7: 0.7271\n",
      "Epoch 4/100\n",
      "99/99 [==============================] - 6s 63ms/step - loss: 0.9848 - accuracy: 0.5394 - auc_7: 0.7089 - val_loss: 0.9521 - val_accuracy: 0.5644 - val_auc_7: 0.7303\n",
      "Epoch 5/100\n",
      "99/99 [==============================] - 6s 62ms/step - loss: 0.9692 - accuracy: 0.5489 - auc_7: 0.7199 - val_loss: 0.9479 - val_accuracy: 0.5674 - val_auc_7: 0.7338\n",
      "Epoch 6/100\n",
      "99/99 [==============================] - 6s 61ms/step - loss: 0.9510 - accuracy: 0.5381 - auc_7: 0.7290 - val_loss: 0.9444 - val_accuracy: 0.5644 - val_auc_7: 0.7360\n",
      "Epoch 7/100\n",
      "99/99 [==============================] - 6s 59ms/step - loss: 0.9456 - accuracy: 0.5540 - auc_7: 0.7343 - val_loss: 0.9411 - val_accuracy: 0.5644 - val_auc_7: 0.7382\n",
      "Epoch 8/100\n",
      "99/99 [==============================] - 6s 60ms/step - loss: 0.9447 - accuracy: 0.5359 - auc_7: 0.7335 - val_loss: 0.9370 - val_accuracy: 0.5659 - val_auc_7: 0.7414\n",
      "Epoch 9/100\n",
      "99/99 [==============================] - 6s 58ms/step - loss: 0.9230 - accuracy: 0.5603 - auc_7: 0.7490 - val_loss: 0.9336 - val_accuracy: 0.5667 - val_auc_7: 0.7436\n",
      "Epoch 10/100\n",
      "99/99 [==============================] - 6s 60ms/step - loss: 0.9182 - accuracy: 0.5673 - auc_7: 0.7526 - val_loss: 0.9299 - val_accuracy: 0.5644 - val_auc_7: 0.7456\n",
      "Epoch 11/100\n",
      "99/99 [==============================] - 6s 60ms/step - loss: 0.9128 - accuracy: 0.5603 - auc_7: 0.7542 - val_loss: 0.9261 - val_accuracy: 0.5652 - val_auc_7: 0.7486\n",
      "Epoch 12/100\n",
      "99/99 [==============================] - 6s 62ms/step - loss: 0.9085 - accuracy: 0.5632 - auc_7: 0.7566 - val_loss: 0.9223 - val_accuracy: 0.5659 - val_auc_7: 0.7511\n",
      "Epoch 13/100\n",
      "99/99 [==============================] - 6s 62ms/step - loss: 0.8901 - accuracy: 0.5683 - auc_7: 0.7684 - val_loss: 0.9177 - val_accuracy: 0.5659 - val_auc_7: 0.7533\n",
      "Epoch 14/100\n",
      "99/99 [==============================] - 6s 62ms/step - loss: 0.8884 - accuracy: 0.5708 - auc_7: 0.7698 - val_loss: 0.9144 - val_accuracy: 0.5630 - val_auc_7: 0.7558\n",
      "Epoch 15/100\n",
      "99/99 [==============================] - 6s 62ms/step - loss: 0.8748 - accuracy: 0.5810 - auc_7: 0.7785 - val_loss: 0.9100 - val_accuracy: 0.5659 - val_auc_7: 0.7578\n",
      "Epoch 16/100\n",
      "99/99 [==============================] - 6s 63ms/step - loss: 0.8660 - accuracy: 0.5829 - auc_7: 0.7840 - val_loss: 0.9058 - val_accuracy: 0.5674 - val_auc_7: 0.7606\n",
      "Epoch 17/100\n",
      "99/99 [==============================] - 6s 63ms/step - loss: 0.8523 - accuracy: 0.5949 - auc_7: 0.7916 - val_loss: 0.9015 - val_accuracy: 0.5711 - val_auc_7: 0.7634\n",
      "Epoch 18/100\n",
      "99/99 [==============================] - 7s 66ms/step - loss: 0.8491 - accuracy: 0.5883 - auc_7: 0.7935 - val_loss: 0.8986 - val_accuracy: 0.5763 - val_auc_7: 0.7643\n",
      "Epoch 19/100\n",
      "99/99 [==============================] - 6s 65ms/step - loss: 0.8322 - accuracy: 0.6035 - auc_7: 0.8037 - val_loss: 0.8941 - val_accuracy: 0.5748 - val_auc_7: 0.7663\n",
      "Epoch 20/100\n",
      "99/99 [==============================] - 6s 63ms/step - loss: 0.8210 - accuracy: 0.6146 - auc_7: 0.8094 - val_loss: 0.8908 - val_accuracy: 0.5726 - val_auc_7: 0.7673\n",
      "Epoch 21/100\n",
      "99/99 [==============================] - 6s 65ms/step - loss: 0.8135 - accuracy: 0.6178 - auc_7: 0.8117 - val_loss: 0.8867 - val_accuracy: 0.5711 - val_auc_7: 0.7702\n",
      "Epoch 22/100\n",
      "99/99 [==============================] - 7s 66ms/step - loss: 0.7978 - accuracy: 0.6244 - auc_7: 0.8231 - val_loss: 0.8830 - val_accuracy: 0.5711 - val_auc_7: 0.7727\n",
      "Epoch 23/100\n",
      "99/99 [==============================] - 7s 74ms/step - loss: 0.7855 - accuracy: 0.6346 - auc_7: 0.8289 - val_loss: 0.8783 - val_accuracy: 0.5719 - val_auc_7: 0.7750\n",
      "Epoch 24/100\n",
      "99/99 [==============================] - 7s 67ms/step - loss: 0.7853 - accuracy: 0.6330 - auc_7: 0.8289 - val_loss: 0.8757 - val_accuracy: 0.5719 - val_auc_7: 0.7745\n",
      "Epoch 25/100\n",
      "99/99 [==============================] - 7s 66ms/step - loss: 0.7825 - accuracy: 0.6283 - auc_7: 0.8279 - val_loss: 0.8716 - val_accuracy: 0.5763 - val_auc_7: 0.7779\n",
      "Epoch 26/100\n",
      "99/99 [==============================] - 7s 67ms/step - loss: 0.7680 - accuracy: 0.6511 - auc_7: 0.8373 - val_loss: 0.8688 - val_accuracy: 0.5704 - val_auc_7: 0.7788\n",
      "Epoch 27/100\n",
      "99/99 [==============================] - 6s 64ms/step - loss: 0.7493 - accuracy: 0.6527 - auc_7: 0.8475 - val_loss: 0.8657 - val_accuracy: 0.5756 - val_auc_7: 0.7813\n",
      "Epoch 28/100\n",
      "99/99 [==============================] - 7s 70ms/step - loss: 0.7472 - accuracy: 0.6556 - auc_7: 0.8489 - val_loss: 0.8640 - val_accuracy: 0.5756 - val_auc_7: 0.7813\n",
      "Epoch 29/100\n",
      "99/99 [==============================] - 7s 69ms/step - loss: 0.7367 - accuracy: 0.6610 - auc_7: 0.8519 - val_loss: 0.8593 - val_accuracy: 0.5763 - val_auc_7: 0.7835\n",
      "Epoch 30/100\n",
      "99/99 [==============================] - 7s 69ms/step - loss: 0.7201 - accuracy: 0.6838 - auc_7: 0.8616 - val_loss: 0.8578 - val_accuracy: 0.5770 - val_auc_7: 0.7849\n",
      "Epoch 31/100\n",
      "99/99 [==============================] - 7s 67ms/step - loss: 0.7089 - accuracy: 0.6816 - auc_7: 0.8653 - val_loss: 0.8560 - val_accuracy: 0.5807 - val_auc_7: 0.7870\n",
      "Epoch 32/100\n",
      "99/99 [==============================] - 7s 66ms/step - loss: 0.7110 - accuracy: 0.6810 - auc_7: 0.8642 - val_loss: 0.8524 - val_accuracy: 0.5778 - val_auc_7: 0.7865\n",
      "Epoch 33/100\n",
      "99/99 [==============================] - 7s 72ms/step - loss: 0.6922 - accuracy: 0.6959 - auc_7: 0.8739 - val_loss: 0.8507 - val_accuracy: 0.5733 - val_auc_7: 0.7866\n",
      "Epoch 34/100\n",
      "99/99 [==============================] - 8s 78ms/step - loss: 0.6830 - accuracy: 0.6984 - auc_7: 0.8769 - val_loss: 0.8487 - val_accuracy: 0.5815 - val_auc_7: 0.7882\n",
      "Epoch 35/100\n",
      "99/99 [==============================] - 7s 74ms/step - loss: 0.6745 - accuracy: 0.6994 - auc_7: 0.8810 - val_loss: 0.8488 - val_accuracy: 0.5837 - val_auc_7: 0.7891\n",
      "Epoch 36/100\n",
      "99/99 [==============================] - 7s 68ms/step - loss: 0.6726 - accuracy: 0.6997 - auc_7: 0.8805 - val_loss: 0.8452 - val_accuracy: 0.5844 - val_auc_7: 0.7894\n",
      "Epoch 37/100\n",
      "99/99 [==============================] - 7s 69ms/step - loss: 0.6590 - accuracy: 0.7162 - auc_7: 0.8869 - val_loss: 0.8457 - val_accuracy: 0.5830 - val_auc_7: 0.7903\n",
      "Epoch 38/100\n",
      "99/99 [==============================] - 7s 67ms/step - loss: 0.6577 - accuracy: 0.7143 - auc_7: 0.8865 - val_loss: 0.8437 - val_accuracy: 0.5837 - val_auc_7: 0.7890\n",
      "Epoch 39/100\n",
      "99/99 [==============================] - 7s 69ms/step - loss: 0.6516 - accuracy: 0.7073 - auc_7: 0.8869 - val_loss: 0.8419 - val_accuracy: 0.5859 - val_auc_7: 0.7916\n",
      "Epoch 40/100\n",
      "99/99 [==============================] - 7s 68ms/step - loss: 0.6341 - accuracy: 0.7270 - auc_7: 0.8965 - val_loss: 0.8432 - val_accuracy: 0.5911 - val_auc_7: 0.7921\n",
      "Epoch 41/100\n",
      "99/99 [==============================] - 7s 68ms/step - loss: 0.6181 - accuracy: 0.7321 - auc_7: 0.9024 - val_loss: 0.8410 - val_accuracy: 0.5911 - val_auc_7: 0.7925\n",
      "Epoch 42/100\n",
      "99/99 [==============================] - 7s 69ms/step - loss: 0.6193 - accuracy: 0.7346 - auc_7: 0.9017 - val_loss: 0.8423 - val_accuracy: 0.5896 - val_auc_7: 0.7929\n",
      "Epoch 43/100\n",
      "99/99 [==============================] - 7s 67ms/step - loss: 0.6123 - accuracy: 0.7352 - auc_7: 0.9044 - val_loss: 0.8428 - val_accuracy: 0.5911 - val_auc_7: 0.7928\n",
      "Epoch 44/100\n",
      "99/99 [==============================] - 7s 70ms/step - loss: 0.5973 - accuracy: 0.7416 - auc_7: 0.9092 - val_loss: 0.8390 - val_accuracy: 0.5941 - val_auc_7: 0.7933\n",
      "Epoch 45/100\n",
      "99/99 [==============================] - 7s 69ms/step - loss: 0.5878 - accuracy: 0.7610 - auc_7: 0.9147 - val_loss: 0.8418 - val_accuracy: 0.5919 - val_auc_7: 0.7929\n",
      "Epoch 46/100\n",
      "99/99 [==============================] - 7s 69ms/step - loss: 0.5790 - accuracy: 0.7562 - auc_7: 0.9153 - val_loss: 0.8382 - val_accuracy: 0.5844 - val_auc_7: 0.7923\n",
      "Epoch 47/100\n",
      "99/99 [==============================] - 7s 71ms/step - loss: 0.5788 - accuracy: 0.7584 - auc_7: 0.9172 - val_loss: 0.8391 - val_accuracy: 0.5852 - val_auc_7: 0.7923\n",
      "Epoch 48/100\n",
      "99/99 [==============================] - 7s 70ms/step - loss: 0.5627 - accuracy: 0.7686 - auc_7: 0.9239 - val_loss: 0.8450 - val_accuracy: 0.5963 - val_auc_7: 0.7943\n",
      "Epoch 49/100\n",
      "99/99 [==============================] - 7s 72ms/step - loss: 0.5613 - accuracy: 0.7571 - auc_7: 0.9214 - val_loss: 0.8414 - val_accuracy: 0.5911 - val_auc_7: 0.7932\n",
      "Epoch 50/100\n",
      "99/99 [==============================] - 7s 67ms/step - loss: 0.5507 - accuracy: 0.7730 - auc_7: 0.9262 - val_loss: 0.8419 - val_accuracy: 0.5874 - val_auc_7: 0.7915\n",
      "Epoch 51/100\n",
      "99/99 [==============================] - 7s 71ms/step - loss: 0.5429 - accuracy: 0.7835 - auc_7: 0.9292 - val_loss: 0.8432 - val_accuracy: 0.5948 - val_auc_7: 0.7945\n",
      "Epoch 52/100\n",
      "99/99 [==============================] - 7s 68ms/step - loss: 0.5376 - accuracy: 0.7806 - auc_7: 0.9306 - val_loss: 0.8455 - val_accuracy: 0.5904 - val_auc_7: 0.7942\n",
      "Epoch 53/100\n",
      "99/99 [==============================] - 7s 69ms/step - loss: 0.5311 - accuracy: 0.7844 - auc_7: 0.9323 - val_loss: 0.8453 - val_accuracy: 0.5852 - val_auc_7: 0.7931\n",
      "Epoch 54/100\n",
      "99/99 [==============================] - 7s 69ms/step - loss: 0.5180 - accuracy: 0.7956 - auc_7: 0.9363 - val_loss: 0.8442 - val_accuracy: 0.5911 - val_auc_7: 0.7942\n",
      "Epoch 55/100\n",
      "99/99 [==============================] - 7s 68ms/step - loss: 0.5029 - accuracy: 0.8006 - auc_7: 0.9410 - val_loss: 0.8491 - val_accuracy: 0.5919 - val_auc_7: 0.7938\n",
      "Epoch 56/100\n",
      "99/99 [==============================] - 8s 77ms/step - loss: 0.4994 - accuracy: 0.7968 - auc_7: 0.9408 - val_loss: 0.8511 - val_accuracy: 0.5896 - val_auc_7: 0.7937\n",
      "Epoch 57/100\n",
      "99/99 [==============================] - 7s 72ms/step - loss: 0.4929 - accuracy: 0.8076 - auc_7: 0.9430 - val_loss: 0.8501 - val_accuracy: 0.5911 - val_auc_7: 0.7909\n",
      "Epoch 58/100\n",
      "99/99 [==============================] - 7s 72ms/step - loss: 0.4904 - accuracy: 0.8137 - auc_7: 0.9449 - val_loss: 0.8535 - val_accuracy: 0.5926 - val_auc_7: 0.7930\n",
      "Epoch 59/100\n",
      "99/99 [==============================] - 7s 69ms/step - loss: 0.4791 - accuracy: 0.8130 - auc_7: 0.9473 - val_loss: 0.8548 - val_accuracy: 0.5956 - val_auc_7: 0.7914\n",
      "Epoch 60/100\n",
      "99/99 [==============================] - 7s 75ms/step - loss: 0.4763 - accuracy: 0.8121 - auc_7: 0.9477 - val_loss: 0.8555 - val_accuracy: 0.5874 - val_auc_7: 0.7917\n",
      "Epoch 61/100\n",
      "99/99 [==============================] - 7s 69ms/step - loss: 0.4724 - accuracy: 0.8190 - auc_7: 0.9485 - val_loss: 0.8607 - val_accuracy: 0.5963 - val_auc_7: 0.7929\n",
      "Epoch 62/100\n",
      "99/99 [==============================] - 7s 68ms/step - loss: 0.4573 - accuracy: 0.8292 - auc_7: 0.9537 - val_loss: 0.8604 - val_accuracy: 0.5911 - val_auc_7: 0.7911\n",
      "Epoch 63/100\n",
      "99/99 [==============================] - 6s 64ms/step - loss: 0.4546 - accuracy: 0.8244 - auc_7: 0.9533 - val_loss: 0.8641 - val_accuracy: 0.5852 - val_auc_7: 0.7930\n",
      "Epoch 64/100\n",
      "99/99 [==============================] - 5s 49ms/step - loss: 0.4362 - accuracy: 0.8352 - auc_7: 0.9584 - val_loss: 0.8663 - val_accuracy: 0.5896 - val_auc_7: 0.7913\n",
      "Epoch 65/100\n",
      "99/99 [==============================] - 4s 45ms/step - loss: 0.4388 - accuracy: 0.8337 - auc_7: 0.9576 - val_loss: 0.8668 - val_accuracy: 0.5926 - val_auc_7: 0.7894\n",
      "Epoch 66/100\n",
      "99/99 [==============================] - 4s 44ms/step - loss: 0.4289 - accuracy: 0.8483 - auc_7: 0.9607 - val_loss: 0.8720 - val_accuracy: 0.5919 - val_auc_7: 0.7919\n",
      "Epoch 67/100\n",
      "99/99 [==============================] - 4s 41ms/step - loss: 0.4255 - accuracy: 0.8467 - auc_7: 0.9595 - val_loss: 0.8739 - val_accuracy: 0.5919 - val_auc_7: 0.7898\n",
      "Epoch 68/100\n",
      "99/99 [==============================] - 4s 41ms/step - loss: 0.4285 - accuracy: 0.8321 - auc_7: 0.9590 - val_loss: 0.8773 - val_accuracy: 0.5926 - val_auc_7: 0.7911\n",
      "Epoch 69/100\n",
      "99/99 [==============================] - 4s 42ms/step - loss: 0.4067 - accuracy: 0.8527 - auc_7: 0.9649 - val_loss: 0.8772 - val_accuracy: 0.5948 - val_auc_7: 0.7891\n",
      "Epoch 70/100\n",
      "99/99 [==============================] - 4s 41ms/step - loss: 0.4132 - accuracy: 0.8476 - auc_7: 0.9623 - val_loss: 0.8799 - val_accuracy: 0.5911 - val_auc_7: 0.7876\n",
      "Epoch 71/100\n",
      "99/99 [==============================] - 4s 41ms/step - loss: 0.3977 - accuracy: 0.8594 - auc_7: 0.9673 - val_loss: 0.8823 - val_accuracy: 0.5896 - val_auc_7: 0.7898\n",
      "Epoch 72/100\n",
      "99/99 [==============================] - 4s 44ms/step - loss: 0.3979 - accuracy: 0.8546 - auc_7: 0.9657 - val_loss: 0.8881 - val_accuracy: 0.5919 - val_auc_7: 0.7893\n",
      "Epoch 73/100\n",
      "99/99 [==============================] - 4s 43ms/step - loss: 0.3958 - accuracy: 0.8552 - auc_7: 0.9662 - val_loss: 0.8938 - val_accuracy: 0.5904 - val_auc_7: 0.7909\n",
      "Epoch 74/100\n",
      "99/99 [==============================] - 4s 42ms/step - loss: 0.3831 - accuracy: 0.8641 - auc_7: 0.9687 - val_loss: 0.8952 - val_accuracy: 0.5911 - val_auc_7: 0.7909\n",
      "Epoch 75/100\n",
      "99/99 [==============================] - 4s 42ms/step - loss: 0.3761 - accuracy: 0.8727 - auc_7: 0.9710 - val_loss: 0.8967 - val_accuracy: 0.5933 - val_auc_7: 0.7879\n",
      "Epoch 76/100\n",
      "99/99 [==============================] - 4s 44ms/step - loss: 0.3714 - accuracy: 0.8711 - auc_7: 0.9717 - val_loss: 0.9088 - val_accuracy: 0.5933 - val_auc_7: 0.7906\n",
      "Epoch 77/100\n",
      "99/99 [==============================] - 5s 52ms/step - loss: 0.3634 - accuracy: 0.8717 - auc_7: 0.9737 - val_loss: 0.9061 - val_accuracy: 0.5926 - val_auc_7: 0.7879\n",
      "Epoch 78/100\n",
      "99/99 [==============================] - 5s 53ms/step - loss: 0.3531 - accuracy: 0.8876 - auc_7: 0.9749 - val_loss: 0.9145 - val_accuracy: 0.5919 - val_auc_7: 0.7895\n",
      "Epoch 79/100\n",
      "99/99 [==============================] - 6s 61ms/step - loss: 0.3494 - accuracy: 0.8740 - auc_7: 0.9754 - val_loss: 0.9127 - val_accuracy: 0.5867 - val_auc_7: 0.7858\n",
      "Epoch 80/100\n",
      "99/99 [==============================] - 6s 61ms/step - loss: 0.3457 - accuracy: 0.8838 - auc_7: 0.9764 - val_loss: 0.9146 - val_accuracy: 0.5844 - val_auc_7: 0.7852\n",
      "Epoch 81/100\n",
      "99/99 [==============================] - 6s 62ms/step - loss: 0.3442 - accuracy: 0.8844 - auc_7: 0.9760 - val_loss: 0.9221 - val_accuracy: 0.5911 - val_auc_7: 0.7879\n",
      "Epoch 82/100\n",
      "99/99 [==============================] - 7s 68ms/step - loss: 0.3290 - accuracy: 0.8921 - auc_7: 0.9792 - val_loss: 0.9302 - val_accuracy: 0.5919 - val_auc_7: 0.7879\n",
      "Epoch 83/100\n",
      "99/99 [==============================] - 7s 68ms/step - loss: 0.3183 - accuracy: 0.8978 - auc_7: 0.9804 - val_loss: 0.9393 - val_accuracy: 0.5874 - val_auc_7: 0.7879\n",
      "Epoch 84/100\n",
      "99/99 [==============================] - 7s 69ms/step - loss: 0.3244 - accuracy: 0.8908 - auc_7: 0.9793 - val_loss: 0.9447 - val_accuracy: 0.5956 - val_auc_7: 0.7874\n",
      "Epoch 85/100\n",
      "99/99 [==============================] - 7s 67ms/step - loss: 0.3205 - accuracy: 0.8921 - auc_7: 0.9798 - val_loss: 0.9407 - val_accuracy: 0.5889 - val_auc_7: 0.7853\n",
      "Epoch 86/100\n",
      "99/99 [==============================] - 7s 67ms/step - loss: 0.3069 - accuracy: 0.9029 - auc_7: 0.9820 - val_loss: 0.9456 - val_accuracy: 0.5844 - val_auc_7: 0.7839\n",
      "Epoch 87/100\n",
      "99/99 [==============================] - 8s 77ms/step - loss: 0.3109 - accuracy: 0.8940 - auc_7: 0.9806 - val_loss: 0.9479 - val_accuracy: 0.5852 - val_auc_7: 0.7841\n",
      "Epoch 88/100\n",
      "99/99 [==============================] - 7s 71ms/step - loss: 0.2960 - accuracy: 0.9022 - auc_7: 0.9843 - val_loss: 0.9526 - val_accuracy: 0.5874 - val_auc_7: 0.7857\n",
      "Epoch 89/100\n",
      "99/99 [==============================] - 8s 77ms/step - loss: 0.3022 - accuracy: 0.8962 - auc_7: 0.9819 - val_loss: 0.9584 - val_accuracy: 0.5837 - val_auc_7: 0.7844\n",
      "Epoch 90/100\n",
      "99/99 [==============================] - 7s 66ms/step - loss: 0.2891 - accuracy: 0.9083 - auc_7: 0.9851 - val_loss: 0.9621 - val_accuracy: 0.5911 - val_auc_7: 0.7841\n",
      "Epoch 91/100\n",
      "99/99 [==============================] - 7s 72ms/step - loss: 0.2841 - accuracy: 0.9095 - auc_7: 0.9859 - val_loss: 0.9661 - val_accuracy: 0.5933 - val_auc_7: 0.7843\n"
     ]
    },
    {
     "name": "stdout",
     "output_type": "stream",
     "text": [
      "Epoch 92/100\n",
      "99/99 [==============================] - 7s 72ms/step - loss: 0.2819 - accuracy: 0.9127 - auc_7: 0.9855 - val_loss: 0.9730 - val_accuracy: 0.5904 - val_auc_7: 0.7853\n",
      "Epoch 93/100\n",
      "99/99 [==============================] - 7s 73ms/step - loss: 0.2751 - accuracy: 0.9143 - auc_7: 0.9866 - val_loss: 0.9757 - val_accuracy: 0.5889 - val_auc_7: 0.7842\n",
      "Epoch 94/100\n",
      "99/99 [==============================] - 7s 71ms/step - loss: 0.2739 - accuracy: 0.9175 - auc_7: 0.9869 - val_loss: 0.9836 - val_accuracy: 0.5881 - val_auc_7: 0.7857\n",
      "Epoch 95/100\n",
      "99/99 [==============================] - 8s 77ms/step - loss: 0.2617 - accuracy: 0.9210 - auc_7: 0.9884 - val_loss: 0.9967 - val_accuracy: 0.5926 - val_auc_7: 0.7869\n",
      "Epoch 96/100\n",
      "99/99 [==============================] - 8s 77ms/step - loss: 0.2644 - accuracy: 0.9175 - auc_7: 0.9869 - val_loss: 0.9920 - val_accuracy: 0.5904 - val_auc_7: 0.7840\n",
      "Epoch 97/100\n",
      "99/99 [==============================] - 7s 69ms/step - loss: 0.2590 - accuracy: 0.9194 - auc_7: 0.9878 - val_loss: 0.9999 - val_accuracy: 0.5904 - val_auc_7: 0.7846\n",
      "Epoch 98/100\n",
      "99/99 [==============================] - 7s 76ms/step - loss: 0.2583 - accuracy: 0.9130 - auc_7: 0.9876 - val_loss: 1.0015 - val_accuracy: 0.5896 - val_auc_7: 0.7821\n",
      "Epoch 99/100\n",
      "99/99 [==============================] - 7s 67ms/step - loss: 0.2481 - accuracy: 0.9260 - auc_7: 0.9895 - val_loss: 0.9998 - val_accuracy: 0.5881 - val_auc_7: 0.7807\n",
      "Epoch 100/100\n",
      "99/99 [==============================] - 8s 78ms/step - loss: 0.2484 - accuracy: 0.9219 - auc_7: 0.9892 - val_loss: 1.0148 - val_accuracy: 0.5926 - val_auc_7: 0.7837\n"
     ]
    }
   ],
   "source": [
    "hist_cnn = model_cnn.fit([X_train_seqA,X_train_seqB], Y_train_onehot,validation_data=([X_test_seqA,X_test_seqB],Y_test_onehot),epochs=100,batch_size = 32)"
   ]
  },
  {
   "cell_type": "code",
   "execution_count": 117,
   "metadata": {},
   "outputs": [
    {
     "data": {
      "image/png": "[encoded data removed]",
      "text/plain": [
       "<Figure size 720x432 with 2 Axes>"
      ]
     },
     "metadata": {},
     "output_type": "display_data"
    }
   ],
   "source": [
    "plt.figure(figsize=(10,6))\n",
    "plt.subplot(1, 2, 1)\n",
    "plt.plot(hist_cnn.history['loss'])\n",
    "plt.plot(hist_cnn.history['val_loss'])\n",
    "plt.title('CNN model loss')\n",
    "plt.ylabel('loss')\n",
    "plt.xlabel('epoch')\n",
    "plt.legend(['train', 'val'], loc='upper left')\n",
    "\n",
    "plt.subplot(1, 2, 2)\n",
    "plt.plot(hist_cnn.history['accuracy'])\n",
    "plt.plot(hist_cnn.history['val_accuracy'])\n",
    "plt.title('CNN model accuracy')\n",
    "plt.ylabel('accuracy')\n",
    "plt.xlabel('epoch')\n",
    "plt.legend(['train', 'val'], loc='upper left')\n",
    "plt.savefig(\"loss_acc_cnn.PNG\")\n",
    "plt.show()"
   ]
  },
  {
   "cell_type": "code",
   "execution_count": 99,
   "metadata": {},
   "outputs": [],
   "source": [
    "##prediction with the CNN model\n",
    "Y_pred_cnn = np.argmax(model_cnn.predict([X_test_seqA,X_test_seqB]), axis=1)"
   ]
  },
  {
   "cell_type": "code",
   "execution_count": 103,
   "metadata": {},
   "outputs": [
    {
     "name": "stdout",
     "output_type": "stream",
     "text": [
      "[[ 96  87  16]\n",
      " [ 57 560 148]\n",
      " [  7 235 144]]\n",
      "CNN F1-Score: 0.543 \n"
     ]
    }
   ],
   "source": [
    "##confusion matrix and F1-score\n",
    "cm_cnn = confusion_matrix(Y_test_array,Y_pred_cnn,labels=[0,1,2])\n",
    "print(cm_cnn)\n",
    "print(\"CNN F1-Score: %0.3f \" % (f1_score(Y_test_array,Y_pred_cnn, average=\"macro\")))"
   ]
  },
  {
   "cell_type": "code",
   "execution_count": 107,
   "metadata": {},
   "outputs": [
    {
     "data": {
      "image/png": "[encoded data removed]",
      "text/plain": [
       "<Figure size 576x432 with 2 Axes>"
      ]
     },
     "metadata": {},
     "output_type": "display_data"
    },
    {
     "data": {
      "text/plain": [
       "<Figure size 432x288 with 0 Axes>"
      ]
     },
     "metadata": {},
     "output_type": "display_data"
    }
   ],
   "source": [
    "##plot the confusion matrix with the defined function\n",
    "plot_confusion_matrix(cm_cnn,['CONTRADICTION','NEUTRAL','ENTAILMENT']\n",
    "                          ,\n",
    "                          title='Confusion matrix for CNN model',\n",
    "                          cmap=None,\n",
    "                          normalize=False,color='Greens')\n",
    "plt.savefig(\"matrix_conf_cnn.PNG\")"
   ]
  }
 ],
 "metadata": {
  "kernelspec": {
   "display_name": "Python 3",
   "language": "python",
   "name": "python3"
  },
  "language_info": {
   "codemirror_mode": {
    "name": "ipython",
    "version": 3
   },
   "file_extension": ".py",
   "mimetype": "text/x-python",
   "name": "python",
   "nbconvert_exporter": "python",
   "pygments_lexer": "ipython3",
   "version": "3.8.3"
  }
 },
 "nbformat": 4,
 "nbformat_minor": 4
}
